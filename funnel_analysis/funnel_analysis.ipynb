{
 "cells": [
  {
   "cell_type": "markdown",
   "metadata": {},
   "source": [
    "# Анализ воронки интернет-продаж"
   ]
  },
  {
   "cell_type": "markdown",
   "metadata": {},
   "source": [
    "**Целью** работы является характеристика воронки событий. При этом необходимо выяснить, на каком шаге теряется больше всего пользователей и сколько пользователей доходят до события оплаты. Проверить гипотезу о том, что изменение шрифта повлияет на поведение пользователей."
   ]
  },
  {
   "cell_type": "markdown",
   "metadata": {},
   "source": [
    "# Вывод"
   ]
  },
  {
   "cell_type": "markdown",
   "metadata": {},
   "source": [
    "- в среднем пользователи совершают 20 событий на сайте\n",
    "- около 48% пользователей доходят до страницы успешной оплаты\n",
    "- при этом, 40% пользователей не переходят с главной страницы до страницы продукта\n",
    "- от страницы продукта до корзины теряется ещё 20%\n",
    "- практически все пользователи (95%), положившие товар в корзину, совершают покупку\n",
    "- изменение шрифта никак не повлияло на пользователей, при этом нужно отметить то, что данные собраны качественно\n",
    "\n",
    "Улучшение продаж возможно в случае увеличения перехода пользователей на сайт, поскольку воронка работает хорошо."
   ]
  },
  {
   "cell_type": "markdown",
   "metadata": {},
   "source": [
    "# Подготовка данных"
   ]
  },
  {
   "cell_type": "markdown",
   "metadata": {},
   "source": [
    "## Загрузка данных"
   ]
  },
  {
   "cell_type": "code",
   "execution_count": 1,
   "metadata": {},
   "outputs": [],
   "source": [
    "import pandas as pd\n",
    "import datetime as dt\n",
    "import matplotlib.pyplot as plt\n",
    "import plotly.express as px\n",
    "import numpy as np\n",
    "from scipy import stats as st\n",
    "import math as mth"
   ]
  },
  {
   "cell_type": "code",
   "execution_count": 2,
   "metadata": {},
   "outputs": [],
   "source": [
    "data = pd.read_csv('logs_exp.csv', sep='\\t')"
   ]
  },
  {
   "cell_type": "code",
   "execution_count": 3,
   "metadata": {},
   "outputs": [],
   "source": [
    "data.columns=['event_name', 'device_id', 'event_timestampt', 'exp_id']"
   ]
  },
  {
   "cell_type": "markdown",
   "metadata": {},
   "source": [
    "Все столбцы приводятся к \"змеиному\" регистру"
   ]
  },
  {
   "cell_type": "code",
   "execution_count": 4,
   "metadata": {},
   "outputs": [],
   "source": [
    "pd.options.mode.chained_assignment = None #используется чтобы избавиться от ошибки SettingWithCopyWarning\n",
    "data['event_time'] = pd.to_datetime(data['event_timestampt'], unit='s')\n",
    "data['event_date'] = data['event_time'].dt.floor('D')"
   ]
  },
  {
   "cell_type": "markdown",
   "metadata": {},
   "source": [
    "Создаются два новых столбца с датой, а также датой и временем совершения события"
   ]
  },
  {
   "cell_type": "code",
   "execution_count": 48,
   "metadata": {},
   "outputs": [
    {
     "data": {
      "text/html": [
       "<div>\n",
       "<style scoped>\n",
       "    .dataframe tbody tr th:only-of-type {\n",
       "        vertical-align: middle;\n",
       "    }\n",
       "\n",
       "    .dataframe tbody tr th {\n",
       "        vertical-align: top;\n",
       "    }\n",
       "\n",
       "    .dataframe thead th {\n",
       "        text-align: right;\n",
       "    }\n",
       "</style>\n",
       "<table border=\"1\" class=\"dataframe\">\n",
       "  <thead>\n",
       "    <tr style=\"text-align: right;\">\n",
       "      <th></th>\n",
       "      <th>event_name</th>\n",
       "      <th>device_id</th>\n",
       "      <th>event_timestampt</th>\n",
       "      <th>exp_id</th>\n",
       "      <th>event_time</th>\n",
       "      <th>event_date</th>\n",
       "    </tr>\n",
       "  </thead>\n",
       "  <tbody>\n",
       "    <tr>\n",
       "      <th>2829</th>\n",
       "      <td>MainScreenAppear</td>\n",
       "      <td>3737462046622621720</td>\n",
       "      <td>1564618080</td>\n",
       "      <td>246</td>\n",
       "      <td>2019-08-01 00:08:00</td>\n",
       "      <td>2019-08-01</td>\n",
       "    </tr>\n",
       "    <tr>\n",
       "      <th>2830</th>\n",
       "      <td>MainScreenAppear</td>\n",
       "      <td>3737462046622621720</td>\n",
       "      <td>1564618135</td>\n",
       "      <td>246</td>\n",
       "      <td>2019-08-01 00:08:55</td>\n",
       "      <td>2019-08-01</td>\n",
       "    </tr>\n",
       "    <tr>\n",
       "      <th>2831</th>\n",
       "      <td>OffersScreenAppear</td>\n",
       "      <td>3737462046622621720</td>\n",
       "      <td>1564618138</td>\n",
       "      <td>246</td>\n",
       "      <td>2019-08-01 00:08:58</td>\n",
       "      <td>2019-08-01</td>\n",
       "    </tr>\n",
       "    <tr>\n",
       "      <th>2832</th>\n",
       "      <td>MainScreenAppear</td>\n",
       "      <td>1433840883824088890</td>\n",
       "      <td>1564618139</td>\n",
       "      <td>247</td>\n",
       "      <td>2019-08-01 00:08:59</td>\n",
       "      <td>2019-08-01</td>\n",
       "    </tr>\n",
       "    <tr>\n",
       "      <th>2833</th>\n",
       "      <td>MainScreenAppear</td>\n",
       "      <td>4899590676214355127</td>\n",
       "      <td>1564618215</td>\n",
       "      <td>247</td>\n",
       "      <td>2019-08-01 00:10:15</td>\n",
       "      <td>2019-08-01</td>\n",
       "    </tr>\n",
       "  </tbody>\n",
       "</table>\n",
       "</div>"
      ],
      "text/plain": [
       "              event_name            device_id  event_timestampt  exp_id  \\\n",
       "2829    MainScreenAppear  3737462046622621720        1564618080     246   \n",
       "2830    MainScreenAppear  3737462046622621720        1564618135     246   \n",
       "2831  OffersScreenAppear  3737462046622621720        1564618138     246   \n",
       "2832    MainScreenAppear  1433840883824088890        1564618139     247   \n",
       "2833    MainScreenAppear  4899590676214355127        1564618215     247   \n",
       "\n",
       "              event_time event_date  \n",
       "2829 2019-08-01 00:08:00 2019-08-01  \n",
       "2830 2019-08-01 00:08:55 2019-08-01  \n",
       "2831 2019-08-01 00:08:58 2019-08-01  \n",
       "2832 2019-08-01 00:08:59 2019-08-01  \n",
       "2833 2019-08-01 00:10:15 2019-08-01  "
      ]
     },
     "execution_count": 48,
     "metadata": {},
     "output_type": "execute_result"
    }
   ],
   "source": [
    "data.head(5)"
   ]
  },
  {
   "cell_type": "markdown",
   "metadata": {},
   "source": [
    "В таблице 244126 строк и 6 столбцов"
   ]
  },
  {
   "cell_type": "markdown",
   "metadata": {},
   "source": [
    "## Проверка на пропуски и дубликаты"
   ]
  },
  {
   "cell_type": "code",
   "execution_count": 6,
   "metadata": {},
   "outputs": [
    {
     "name": "stdout",
     "output_type": "stream",
     "text": [
      "<class 'pandas.core.frame.DataFrame'>\n",
      "RangeIndex: 244126 entries, 0 to 244125\n",
      "Data columns (total 6 columns):\n",
      " #   Column            Non-Null Count   Dtype         \n",
      "---  ------            --------------   -----         \n",
      " 0   event_name        244126 non-null  object        \n",
      " 1   device_id         244126 non-null  int64         \n",
      " 2   event_timestampt  244126 non-null  int64         \n",
      " 3   exp_id            244126 non-null  int64         \n",
      " 4   event_time        244126 non-null  datetime64[ns]\n",
      " 5   event_date        244126 non-null  datetime64[ns]\n",
      "dtypes: datetime64[ns](2), int64(3), object(1)\n",
      "memory usage: 11.2+ MB\n"
     ]
    }
   ],
   "source": [
    "data.info()"
   ]
  },
  {
   "cell_type": "markdown",
   "metadata": {},
   "source": [
    "Среди данных отсутвуют пропуски"
   ]
  },
  {
   "cell_type": "code",
   "execution_count": 7,
   "metadata": {},
   "outputs": [
    {
     "name": "stdout",
     "output_type": "stream",
     "text": [
      "Дубликаты: 413\n"
     ]
    }
   ],
   "source": [
    "print('Дубликаты:', data.duplicated().sum())"
   ]
  },
  {
   "cell_type": "markdown",
   "metadata": {},
   "source": [
    "Найдено 413 строк-дубликатов"
   ]
  },
  {
   "cell_type": "code",
   "execution_count": 8,
   "metadata": {},
   "outputs": [],
   "source": [
    "duplicateRows = data[data.duplicated()]"
   ]
  },
  {
   "cell_type": "code",
   "execution_count": 47,
   "metadata": {},
   "outputs": [
    {
     "data": {
      "text/plain": [
       "0.17"
      ]
     },
     "execution_count": 47,
     "metadata": {},
     "output_type": "execute_result"
    }
   ],
   "source": [
    "round(len(duplicateRows) / len(data) * 100, 2)"
   ]
  },
  {
   "cell_type": "markdown",
   "metadata": {},
   "source": [
    "Действительно существуют полные дубликаты, количество которых не превышает 0,17%"
   ]
  },
  {
   "cell_type": "code",
   "execution_count": 10,
   "metadata": {},
   "outputs": [],
   "source": [
    "data = data.drop_duplicates()"
   ]
  },
  {
   "cell_type": "code",
   "execution_count": 11,
   "metadata": {},
   "outputs": [
    {
     "name": "stdout",
     "output_type": "stream",
     "text": [
      "Дубликаты: 0\n"
     ]
    }
   ],
   "source": [
    "print('Дубликаты:', data.duplicated().sum())"
   ]
  },
  {
   "cell_type": "markdown",
   "metadata": {},
   "source": [
    "После удаления повторяющихся строк, дубликатов не остается"
   ]
  },
  {
   "cell_type": "markdown",
   "metadata": {},
   "source": [
    "## Изучение данных"
   ]
  },
  {
   "cell_type": "code",
   "execution_count": 12,
   "metadata": {},
   "outputs": [
    {
     "name": "stdout",
     "output_type": "stream",
     "text": [
      "<class 'pandas.core.frame.DataFrame'>\n",
      "Int64Index: 243713 entries, 0 to 244125\n",
      "Data columns (total 6 columns):\n",
      " #   Column            Non-Null Count   Dtype         \n",
      "---  ------            --------------   -----         \n",
      " 0   event_name        243713 non-null  object        \n",
      " 1   device_id         243713 non-null  int64         \n",
      " 2   event_timestampt  243713 non-null  int64         \n",
      " 3   exp_id            243713 non-null  int64         \n",
      " 4   event_time        243713 non-null  datetime64[ns]\n",
      " 5   event_date        243713 non-null  datetime64[ns]\n",
      "dtypes: datetime64[ns](2), int64(3), object(1)\n",
      "memory usage: 13.0+ MB\n"
     ]
    }
   ],
   "source": [
    "data.info()"
   ]
  },
  {
   "cell_type": "markdown",
   "metadata": {},
   "source": [
    "Всего после удаления дубликатов (их доля была менее 0,17%) в логах 243'713 событий."
   ]
  },
  {
   "cell_type": "code",
   "execution_count": 13,
   "metadata": {},
   "outputs": [
    {
     "data": {
      "text/plain": [
       "array(['MainScreenAppear', 'PaymentScreenSuccessful', 'CartScreenAppear',\n",
       "       'OffersScreenAppear', 'Tutorial'], dtype=object)"
      ]
     },
     "execution_count": 13,
     "metadata": {},
     "output_type": "execute_result"
    }
   ],
   "source": [
    "data['event_name'].unique()"
   ]
  },
  {
   "cell_type": "markdown",
   "metadata": {},
   "source": [
    "Всего изначально 5 видов события:\n",
    "- MainScreenAppear - просмотр главного экрана\n",
    "- PaymentScreenSuccessful - экран успешной оплаты\n",
    "- CartScreenAppear - экран корзины\n",
    "- OffersScreenAppear - экран с предложением\n",
    "- Tutorial - экран туториала"
   ]
  },
  {
   "cell_type": "code",
   "execution_count": 14,
   "metadata": {},
   "outputs": [
    {
     "data": {
      "text/plain": [
       "7551"
      ]
     },
     "execution_count": 14,
     "metadata": {},
     "output_type": "execute_result"
    }
   ],
   "source": [
    "data['device_id'].nunique()"
   ]
  },
  {
   "cell_type": "markdown",
   "metadata": {},
   "source": [
    "Всего 7551 уникальных пользователей"
   ]
  },
  {
   "cell_type": "code",
   "execution_count": 15,
   "metadata": {},
   "outputs": [
    {
     "data": {
      "text/plain": [
       "event_name  count    32.28\n",
       "dtype: float64"
      ]
     },
     "execution_count": 15,
     "metadata": {},
     "output_type": "execute_result"
    }
   ],
   "source": [
    "round(data.pivot_table(index='device_id', values=['event_name'], aggfunc={'count'}).mean(), 2)"
   ]
  },
  {
   "cell_type": "markdown",
   "metadata": {},
   "source": [
    "Среднее количество событий на пользователя без учёта выбросов - 32,28"
   ]
  },
  {
   "cell_type": "code",
   "execution_count": 16,
   "metadata": {},
   "outputs": [
    {
     "data": {
      "text/plain": [
       "event_name  count    20.0\n",
       "dtype: float64"
      ]
     },
     "execution_count": 16,
     "metadata": {},
     "output_type": "execute_result"
    }
   ],
   "source": [
    "round(data.pivot_table(index='device_id', values=['event_name'], aggfunc={'count'}).median(), 2)"
   ]
  },
  {
   "cell_type": "markdown",
   "metadata": {},
   "source": [
    "Медианное значение, не учитывающее большие отклонения от нормы, составляет 20 событий. Это значение справедливо для \"сырых\" данных"
   ]
  },
  {
   "cell_type": "code",
   "execution_count": 17,
   "metadata": {},
   "outputs": [
    {
     "name": "stdout",
     "output_type": "stream",
     "text": [
      "Минимальная и максимальная дата: 2019-07-25 04:43:36 2019-08-07 21:15:17\n"
     ]
    }
   ],
   "source": [
    "print('Минимальная и максимальная дата:', data['event_time'].min(), data['event_time'].max())"
   ]
  },
  {
   "cell_type": "markdown",
   "metadata": {},
   "source": [
    "Среди данных присутсвует период с 25 июля 2019 года по 7 августа 2019 года, то есть период составляет 13 дней"
   ]
  },
  {
   "cell_type": "code",
   "execution_count": 18,
   "metadata": {},
   "outputs": [
    {
     "data": {
      "image/png": "[encoded data removed]",
      "text/plain": [
       "<Figure size 1500x800 with 1 Axes>"
      ]
     },
     "metadata": {},
     "output_type": "display_data"
    }
   ],
   "source": [
    "plt.figure(figsize = (15, 8))\n",
    "data['event_time'].hist(bins = 50)\n",
    "plt.title(\"Гистограмма даты и времени\")\n",
    "plt.xlabel('Дата')\n",
    "plt.ylabel('Количество данных')\n",
    "plt.xticks(rotation=90)\n",
    "plt.show()"
   ]
  },
  {
   "cell_type": "markdown",
   "metadata": {},
   "source": [
    "На гистограмме видно, что до 1 августа количество данных очень мало, далее в зависимости от времени суток количество действий не опускается ниже 2000. Таким образом, целесообразно ограничить данные с 2019-08-01"
   ]
  },
  {
   "cell_type": "code",
   "execution_count": 19,
   "metadata": {},
   "outputs": [],
   "source": [
    "n_events = len(data)\n",
    "n_users = data['device_id'].nunique()"
   ]
  },
  {
   "cell_type": "markdown",
   "metadata": {},
   "source": [
    "Сохраним количество событиый и уникальных пользователей до ограничения данных по дате"
   ]
  },
  {
   "cell_type": "code",
   "execution_count": 20,
   "metadata": {},
   "outputs": [],
   "source": [
    "data = data.query('event_time >= \"2019-08-01\"')"
   ]
  },
  {
   "cell_type": "code",
   "execution_count": 21,
   "metadata": {},
   "outputs": [
    {
     "name": "stdout",
     "output_type": "stream",
     "text": [
      "<class 'pandas.core.frame.DataFrame'>\n",
      "Int64Index: 240887 entries, 2828 to 244125\n",
      "Data columns (total 6 columns):\n",
      " #   Column            Non-Null Count   Dtype         \n",
      "---  ------            --------------   -----         \n",
      " 0   event_name        240887 non-null  object        \n",
      " 1   device_id         240887 non-null  int64         \n",
      " 2   event_timestampt  240887 non-null  int64         \n",
      " 3   exp_id            240887 non-null  int64         \n",
      " 4   event_time        240887 non-null  datetime64[ns]\n",
      " 5   event_date        240887 non-null  datetime64[ns]\n",
      "dtypes: datetime64[ns](2), int64(3), object(1)\n",
      "memory usage: 12.9+ MB\n"
     ]
    }
   ],
   "source": [
    "data.info()"
   ]
  },
  {
   "cell_type": "code",
   "execution_count": 22,
   "metadata": {},
   "outputs": [],
   "source": [
    "new_events = len(data)\n",
    "new_users = data['device_id'].nunique()"
   ]
  },
  {
   "cell_type": "code",
   "execution_count": 51,
   "metadata": {},
   "outputs": [
    {
     "name": "stdout",
     "output_type": "stream",
     "text": [
      "Абсолютное изменение между старым (243713) и новым (240887) количеством событий составляет 2826\n",
      "\n",
      "Относительное изменение между старым (243713) и новым (240887) количеством событий составляет 1.17%\n",
      "\n",
      "Абсолютное изменение между старым (7551) и новым (7534) количеством пользователей составляет 17\n",
      "\n",
      "Относительное изменение между старым (7551) и новым (7534) количеством пользователей составляет 0.23%\n"
     ]
    }
   ],
   "source": [
    "print(\n",
    "f\"Абсолютное изменение между старым ({n_events}) и новым ({new_events}) количеством событий составляет {n_events - new_events}\\n\"\n",
    ")\n",
    "print(\n",
    "f\"Относительное изменение между старым ({n_events}) и новым ({new_events}) количеством событий составляет {round((n_events / new_events - 1) * 100, 2)}%\\n\"\n",
    ")\n",
    "\n",
    "print(\n",
    "f\"Абсолютное изменение между старым ({n_users}) и новым ({new_users}) количеством пользователей составляет {n_users - new_users}\\n\"\n",
    ")\n",
    "print(\n",
    "f\"Относительное изменение между старым ({n_users}) и новым ({new_users}) количеством пользователей составляет {round((n_users / new_users - 1) * 100, 2)}%\"\n",
    ")"
   ]
  },
  {
   "cell_type": "markdown",
   "metadata": {},
   "source": [
    "После удаления данных с 25 июля по 1 августа остается 240'887 строк, что на 2826 строк (1,17%) меньше  от данных после очистки от дубликатов.\n",
    "Также количество пользователей стало меньше на 17 штук, что составляет 0,23%.\n",
    "Такое количество удаленных данных можно считать допустимым."
   ]
  },
  {
   "cell_type": "code",
   "execution_count": 24,
   "metadata": {},
   "outputs": [
    {
     "data": {
      "text/html": [
       "<div>\n",
       "<style scoped>\n",
       "    .dataframe tbody tr th:only-of-type {\n",
       "        vertical-align: middle;\n",
       "    }\n",
       "\n",
       "    .dataframe tbody tr th {\n",
       "        vertical-align: top;\n",
       "    }\n",
       "\n",
       "    .dataframe thead tr th {\n",
       "        text-align: left;\n",
       "    }\n",
       "\n",
       "    .dataframe thead tr:last-of-type th {\n",
       "        text-align: right;\n",
       "    }\n",
       "</style>\n",
       "<table border=\"1\" class=\"dataframe\">\n",
       "  <thead>\n",
       "    <tr>\n",
       "      <th></th>\n",
       "      <th colspan=\"2\" halign=\"left\">device_id</th>\n",
       "    </tr>\n",
       "    <tr>\n",
       "      <th></th>\n",
       "      <th>count</th>\n",
       "      <th>nunique</th>\n",
       "    </tr>\n",
       "    <tr>\n",
       "      <th>exp_id</th>\n",
       "      <th></th>\n",
       "      <th></th>\n",
       "    </tr>\n",
       "  </thead>\n",
       "  <tbody>\n",
       "    <tr>\n",
       "      <th>246</th>\n",
       "      <td>79302</td>\n",
       "      <td>2484</td>\n",
       "    </tr>\n",
       "    <tr>\n",
       "      <th>247</th>\n",
       "      <td>77022</td>\n",
       "      <td>2513</td>\n",
       "    </tr>\n",
       "    <tr>\n",
       "      <th>248</th>\n",
       "      <td>84563</td>\n",
       "      <td>2537</td>\n",
       "    </tr>\n",
       "  </tbody>\n",
       "</table>\n",
       "</div>"
      ],
      "text/plain": [
       "       device_id        \n",
       "           count nunique\n",
       "exp_id                  \n",
       "246        79302    2484\n",
       "247        77022    2513\n",
       "248        84563    2537"
      ]
     },
     "execution_count": 24,
     "metadata": {},
     "output_type": "execute_result"
    }
   ],
   "source": [
    "data.groupby('exp_id').agg({'device_id': ['count', 'nunique']})"
   ]
  },
  {
   "cell_type": "markdown",
   "metadata": {},
   "source": [
    "Всего в каждой группе следующее количество записей и пользователей:\n",
    "- 246: 79302, 2484\n",
    "- 247: 7702, 2513\n",
    "- 248: 84563, 2537\n",
    "\n",
    "В экспериментальной группе больше действий и пользователей "
   ]
  },
  {
   "cell_type": "markdown",
   "metadata": {},
   "source": [
    "# Изучение воронки"
   ]
  },
  {
   "cell_type": "markdown",
   "metadata": {},
   "source": [
    "## Составление воронки"
   ]
  },
  {
   "cell_type": "code",
   "execution_count": 25,
   "metadata": {},
   "outputs": [
    {
     "data": {
      "text/html": [
       "<div>\n",
       "<style scoped>\n",
       "    .dataframe tbody tr th:only-of-type {\n",
       "        vertical-align: middle;\n",
       "    }\n",
       "\n",
       "    .dataframe tbody tr th {\n",
       "        vertical-align: top;\n",
       "    }\n",
       "\n",
       "    .dataframe thead th {\n",
       "        text-align: right;\n",
       "    }\n",
       "</style>\n",
       "<table border=\"1\" class=\"dataframe\">\n",
       "  <thead>\n",
       "    <tr style=\"text-align: right;\">\n",
       "      <th></th>\n",
       "      <th>exp_id</th>\n",
       "    </tr>\n",
       "    <tr>\n",
       "      <th>event_name</th>\n",
       "      <th></th>\n",
       "    </tr>\n",
       "  </thead>\n",
       "  <tbody>\n",
       "    <tr>\n",
       "      <th>MainScreenAppear</th>\n",
       "      <td>117328</td>\n",
       "    </tr>\n",
       "    <tr>\n",
       "      <th>OffersScreenAppear</th>\n",
       "      <td>46333</td>\n",
       "    </tr>\n",
       "    <tr>\n",
       "      <th>CartScreenAppear</th>\n",
       "      <td>42303</td>\n",
       "    </tr>\n",
       "    <tr>\n",
       "      <th>PaymentScreenSuccessful</th>\n",
       "      <td>33918</td>\n",
       "    </tr>\n",
       "    <tr>\n",
       "      <th>Tutorial</th>\n",
       "      <td>1005</td>\n",
       "    </tr>\n",
       "  </tbody>\n",
       "</table>\n",
       "</div>"
      ],
      "text/plain": [
       "                         exp_id\n",
       "event_name                     \n",
       "MainScreenAppear         117328\n",
       "OffersScreenAppear        46333\n",
       "CartScreenAppear          42303\n",
       "PaymentScreenSuccessful   33918\n",
       "Tutorial                   1005"
      ]
     },
     "execution_count": 25,
     "metadata": {},
     "output_type": "execute_result"
    }
   ],
   "source": [
    "events = data.groupby('event_name').agg({'exp_id': 'count'}).sort_values(by='exp_id', ascending = False)\n",
    "events"
   ]
  },
  {
   "cell_type": "markdown",
   "metadata": {},
   "source": [
    "На последнем месте - туториал, нельзя сказать, что он является частью воронки, поскольку пройти туториал можно в любой момент, а можно и не проходить\n",
    "\n",
    "Воронка выглядит следующим образом:\n",
    "- просмотр главного экрана\n",
    "- экран с предложением\n",
    "- экран корзины\n",
    "- экран успешной оплаты\n",
    "\n",
    "Это логично, к тому же подтверждается тем, что на каждом из этапов пользователей меньше, чем на предыдущем"
   ]
  },
  {
   "cell_type": "code",
   "execution_count": 26,
   "metadata": {},
   "outputs": [
    {
     "data": {
      "text/html": [
       "<div>\n",
       "<style scoped>\n",
       "    .dataframe tbody tr th:only-of-type {\n",
       "        vertical-align: middle;\n",
       "    }\n",
       "\n",
       "    .dataframe tbody tr th {\n",
       "        vertical-align: top;\n",
       "    }\n",
       "\n",
       "    .dataframe thead th {\n",
       "        text-align: right;\n",
       "    }\n",
       "</style>\n",
       "<table border=\"1\" class=\"dataframe\">\n",
       "  <thead>\n",
       "    <tr style=\"text-align: right;\">\n",
       "      <th></th>\n",
       "      <th>event_name</th>\n",
       "      <th>device_id</th>\n",
       "      <th>share</th>\n",
       "    </tr>\n",
       "  </thead>\n",
       "  <tbody>\n",
       "    <tr>\n",
       "      <th>0</th>\n",
       "      <td>MainScreenAppear</td>\n",
       "      <td>7419</td>\n",
       "      <td>0.98</td>\n",
       "    </tr>\n",
       "    <tr>\n",
       "      <th>1</th>\n",
       "      <td>OffersScreenAppear</td>\n",
       "      <td>4593</td>\n",
       "      <td>0.61</td>\n",
       "    </tr>\n",
       "    <tr>\n",
       "      <th>2</th>\n",
       "      <td>CartScreenAppear</td>\n",
       "      <td>3734</td>\n",
       "      <td>0.50</td>\n",
       "    </tr>\n",
       "    <tr>\n",
       "      <th>3</th>\n",
       "      <td>PaymentScreenSuccessful</td>\n",
       "      <td>3539</td>\n",
       "      <td>0.47</td>\n",
       "    </tr>\n",
       "    <tr>\n",
       "      <th>4</th>\n",
       "      <td>Tutorial</td>\n",
       "      <td>840</td>\n",
       "      <td>0.11</td>\n",
       "    </tr>\n",
       "  </tbody>\n",
       "</table>\n",
       "</div>"
      ],
      "text/plain": [
       "                event_name  device_id  share\n",
       "0         MainScreenAppear       7419   0.98\n",
       "1       OffersScreenAppear       4593   0.61\n",
       "2         CartScreenAppear       3734   0.50\n",
       "3  PaymentScreenSuccessful       3539   0.47\n",
       "4                 Tutorial        840   0.11"
      ]
     },
     "execution_count": 26,
     "metadata": {},
     "output_type": "execute_result"
    }
   ],
   "source": [
    "users = data.groupby('event_name').agg({'device_id': 'nunique'}).sort_values(by='device_id', ascending = False)\n",
    "users['share'] = round(users['device_id'] / data['device_id'].nunique(), 2)\n",
    "users.reset_index(inplace=True)\n",
    "users"
   ]
  },
  {
   "cell_type": "markdown",
   "metadata": {},
   "source": [
    "2% пользователей не \"добираются\" до главного экрана, то есть не совершают это событие. Возможно, сайт остановил загрузку,  могут быть и другие причины.\n",
    "\n",
    "61% пользователей хотя бы раз попадают на экран с предложением\n",
    "\n",
    "50% пользователей хотя бы раз открывают корзину\n",
    "\n",
    "47% пользователей совершают оплату\n",
    "\n",
    "11% пользователей видят/проходят туториал"
   ]
  },
  {
   "cell_type": "code",
   "execution_count": 27,
   "metadata": {},
   "outputs": [],
   "source": [
    "data = data[data['event_name'] != 'Tutorial']"
   ]
  },
  {
   "cell_type": "markdown",
   "metadata": {},
   "source": [
    "Для воронки не нужен туториал, что уже упоминалось выше, поэтому далее данные очищаются от этого события"
   ]
  },
  {
   "cell_type": "markdown",
   "metadata": {},
   "source": [
    "## Построение воронки"
   ]
  },
  {
   "cell_type": "code",
   "execution_count": 45,
   "metadata": {},
   "outputs": [],
   "source": [
    "#funnel = users[['event_name', 'device_id']].query('event_name != \"Tutorial\"')\n",
    "#funnel_dict = dict(values=funnel['device_id'].to_list(),\n",
    "#            event=funnel['event_name'].to_list())\n",
    "#fig = px.funnel(funnel_dict,  y='event', x='values', title='Воронка количества пользователей на этап')\n",
    "#fig.show()"
   ]
  },
  {
   "attachments": {
    "image.png": {
     "image/png": "[encoded data removed]"
    }
   },
   "cell_type": "markdown",
   "metadata": {},
   "source": [
    "![image.png](attachment:image.png)"
   ]
  },
  {
   "cell_type": "markdown",
   "metadata": {},
   "source": [
    "График напоминает воронку, при этом последние две ступени достаточно схожи. Это говорит о том, что практически все пользователи, добавившие товар в корзину, совершают покупку. Посчитаем более точные показатели"
   ]
  },
  {
   "cell_type": "code",
   "execution_count": 29,
   "metadata": {},
   "outputs": [
    {
     "data": {
      "text/html": [
       "<div>\n",
       "<style scoped>\n",
       "    .dataframe tbody tr th:only-of-type {\n",
       "        vertical-align: middle;\n",
       "    }\n",
       "\n",
       "    .dataframe tbody tr th {\n",
       "        vertical-align: top;\n",
       "    }\n",
       "\n",
       "    .dataframe thead th {\n",
       "        text-align: right;\n",
       "    }\n",
       "</style>\n",
       "<table border=\"1\" class=\"dataframe\">\n",
       "  <thead>\n",
       "    <tr style=\"text-align: right;\">\n",
       "      <th></th>\n",
       "      <th>event_name</th>\n",
       "      <th>device_id</th>\n",
       "      <th>conversion</th>\n",
       "    </tr>\n",
       "  </thead>\n",
       "  <tbody>\n",
       "    <tr>\n",
       "      <th>0</th>\n",
       "      <td>MainScreenAppear</td>\n",
       "      <td>7419</td>\n",
       "      <td>100.00</td>\n",
       "    </tr>\n",
       "    <tr>\n",
       "      <th>1</th>\n",
       "      <td>OffersScreenAppear</td>\n",
       "      <td>4593</td>\n",
       "      <td>61.91</td>\n",
       "    </tr>\n",
       "    <tr>\n",
       "      <th>2</th>\n",
       "      <td>CartScreenAppear</td>\n",
       "      <td>3734</td>\n",
       "      <td>81.30</td>\n",
       "    </tr>\n",
       "    <tr>\n",
       "      <th>3</th>\n",
       "      <td>PaymentScreenSuccessful</td>\n",
       "      <td>3539</td>\n",
       "      <td>94.78</td>\n",
       "    </tr>\n",
       "  </tbody>\n",
       "</table>\n",
       "</div>"
      ],
      "text/plain": [
       "                event_name  device_id  conversion\n",
       "0         MainScreenAppear       7419      100.00\n",
       "1       OffersScreenAppear       4593       61.91\n",
       "2         CartScreenAppear       3734       81.30\n",
       "3  PaymentScreenSuccessful       3539       94.78"
      ]
     },
     "execution_count": 29,
     "metadata": {},
     "output_type": "execute_result"
    }
   ],
   "source": [
    "funnel['conversion'] = 0\n",
    "\n",
    "for index in range(0, len(funnel)):\n",
    "    if index == 0:\n",
    "        funnel.loc[index, 'conversion'] = 100\n",
    "    else:\n",
    "        funnel.loc[index, 'conversion'] = round(funnel.loc[index, 'device_id'] * 100 / funnel.loc[index - 1, 'device_id'], 2)\n",
    "funnel"
   ]
  },
  {
   "cell_type": "markdown",
   "metadata": {},
   "source": [
    "Главное падение происходит между этапами главного экрана и просмотром страницы с предложением товара. Это может говорить о том, что:\n",
    "- товары не привлекают внимание или пользователи не интересуются покупкой\n",
    "- покупателям понятно, нужен им данный товар или нет, не заходя на страницу предложения"
   ]
  },
  {
   "cell_type": "code",
   "execution_count": 30,
   "metadata": {},
   "outputs": [
    {
     "data": {
      "text/html": [
       "<div>\n",
       "<style scoped>\n",
       "    .dataframe tbody tr th:only-of-type {\n",
       "        vertical-align: middle;\n",
       "    }\n",
       "\n",
       "    .dataframe tbody tr th {\n",
       "        vertical-align: top;\n",
       "    }\n",
       "\n",
       "    .dataframe thead th {\n",
       "        text-align: right;\n",
       "    }\n",
       "</style>\n",
       "<table border=\"1\" class=\"dataframe\">\n",
       "  <thead>\n",
       "    <tr style=\"text-align: right;\">\n",
       "      <th></th>\n",
       "      <th>event_name</th>\n",
       "      <th>device_id</th>\n",
       "      <th>conversion</th>\n",
       "    </tr>\n",
       "  </thead>\n",
       "  <tbody>\n",
       "    <tr>\n",
       "      <th>0</th>\n",
       "      <td>MainScreenAppear</td>\n",
       "      <td>7419</td>\n",
       "      <td>100.00</td>\n",
       "    </tr>\n",
       "    <tr>\n",
       "      <th>1</th>\n",
       "      <td>OffersScreenAppear</td>\n",
       "      <td>4593</td>\n",
       "      <td>61.91</td>\n",
       "    </tr>\n",
       "    <tr>\n",
       "      <th>2</th>\n",
       "      <td>CartScreenAppear</td>\n",
       "      <td>3734</td>\n",
       "      <td>50.33</td>\n",
       "    </tr>\n",
       "    <tr>\n",
       "      <th>3</th>\n",
       "      <td>PaymentScreenSuccessful</td>\n",
       "      <td>3539</td>\n",
       "      <td>47.70</td>\n",
       "    </tr>\n",
       "  </tbody>\n",
       "</table>\n",
       "</div>"
      ],
      "text/plain": [
       "                event_name  device_id  conversion\n",
       "0         MainScreenAppear       7419      100.00\n",
       "1       OffersScreenAppear       4593       61.91\n",
       "2         CartScreenAppear       3734       50.33\n",
       "3  PaymentScreenSuccessful       3539       47.70"
      ]
     },
     "execution_count": 30,
     "metadata": {},
     "output_type": "execute_result"
    }
   ],
   "source": [
    "funnel['conversion'] = 0\n",
    "\n",
    "for index in range(0, len(funnel)):\n",
    "    if index == 0:\n",
    "        funnel.loc[index, 'conversion'] = 100\n",
    "    else:\n",
    "        funnel.loc[index, 'conversion'] = round(funnel.loc[index, 'device_id'] * 100 / funnel.loc[0, 'device_id'], 2)\n",
    "funnel"
   ]
  },
  {
   "cell_type": "markdown",
   "metadata": {},
   "source": [
    "Здесь же видно, что после 1 этапа от всех пользователей порядка 38% не продолжают просмотр страниц, 50% добавляют товар в корзину и около 48% совершают покупку."
   ]
  },
  {
   "cell_type": "markdown",
   "metadata": {},
   "source": [
    "## Вывод"
   ]
  },
  {
   "cell_type": "markdown",
   "metadata": {},
   "source": [
    "Несмотря на резкое падение в воронке на 40% в первом этапе, из всех посетивших на главную странциу, 48% пользователей совершают покупку. Это довольно высокий показатель, воронка проработана хорошо. Возможно улучшение в том случае, если на сайт будет заходить большее количество пользователей, изначально заинтересованных в товаре"
   ]
  },
  {
   "cell_type": "markdown",
   "metadata": {},
   "source": [
    "# Изучение эксперимента"
   ]
  },
  {
   "cell_type": "markdown",
   "metadata": {},
   "source": [
    "## Изучение групп "
   ]
  },
  {
   "cell_type": "code",
   "execution_count": 31,
   "metadata": {},
   "outputs": [
    {
     "data": {
      "text/html": [
       "<div>\n",
       "<style scoped>\n",
       "    .dataframe tbody tr th:only-of-type {\n",
       "        vertical-align: middle;\n",
       "    }\n",
       "\n",
       "    .dataframe tbody tr th {\n",
       "        vertical-align: top;\n",
       "    }\n",
       "\n",
       "    .dataframe thead tr th {\n",
       "        text-align: left;\n",
       "    }\n",
       "\n",
       "    .dataframe thead tr:last-of-type th {\n",
       "        text-align: right;\n",
       "    }\n",
       "</style>\n",
       "<table border=\"1\" class=\"dataframe\">\n",
       "  <thead>\n",
       "    <tr>\n",
       "      <th></th>\n",
       "      <th colspan=\"2\" halign=\"left\">device_id</th>\n",
       "    </tr>\n",
       "    <tr>\n",
       "      <th></th>\n",
       "      <th>count</th>\n",
       "      <th>nunique</th>\n",
       "    </tr>\n",
       "    <tr>\n",
       "      <th>exp_id</th>\n",
       "      <th></th>\n",
       "      <th></th>\n",
       "    </tr>\n",
       "  </thead>\n",
       "  <tbody>\n",
       "    <tr>\n",
       "      <th>246</th>\n",
       "      <td>78985</td>\n",
       "      <td>2483</td>\n",
       "    </tr>\n",
       "    <tr>\n",
       "      <th>247</th>\n",
       "      <td>76684</td>\n",
       "      <td>2512</td>\n",
       "    </tr>\n",
       "    <tr>\n",
       "      <th>248</th>\n",
       "      <td>84213</td>\n",
       "      <td>2535</td>\n",
       "    </tr>\n",
       "  </tbody>\n",
       "</table>\n",
       "</div>"
      ],
      "text/plain": [
       "       device_id        \n",
       "           count nunique\n",
       "exp_id                  \n",
       "246        78985    2483\n",
       "247        76684    2512\n",
       "248        84213    2535"
      ]
     },
     "execution_count": 31,
     "metadata": {},
     "output_type": "execute_result"
    }
   ],
   "source": [
    "groups = data.groupby('exp_id').agg({'device_id': ['count', 'nunique']})\n",
    "groups"
   ]
  },
  {
   "cell_type": "markdown",
   "metadata": {},
   "source": [
    "В каждой экспериментальной группе около 2500 пользователей"
   ]
  },
  {
   "cell_type": "markdown",
   "metadata": {},
   "source": [
    "## А/А-тест"
   ]
  },
  {
   "cell_type": "code",
   "execution_count": 32,
   "metadata": {},
   "outputs": [
    {
     "data": {
      "text/plain": [
       "0"
      ]
     },
     "execution_count": 32,
     "metadata": {},
     "output_type": "execute_result"
    }
   ],
   "source": [
    "user_group=data.groupby('device_id')['exp_id'].nunique()\n",
    "check=data.merge(user_group, on=[\"device_id\", \"device_id\"])\n",
    "check=check[check['exp_id_y'] >= 2]\n",
    "check['device_id'].nunique()"
   ]
  },
  {
   "cell_type": "markdown",
   "metadata": {},
   "source": [
    "Ни один из пользователей не попадает в 2 или более группы"
   ]
  },
  {
   "cell_type": "code",
   "execution_count": 33,
   "metadata": {},
   "outputs": [],
   "source": [
    "data_246 = data[data['exp_id'] == 246]"
   ]
  },
  {
   "cell_type": "code",
   "execution_count": 34,
   "metadata": {},
   "outputs": [],
   "source": [
    "data_247 = data[data['exp_id'] == 247]"
   ]
  },
  {
   "cell_type": "markdown",
   "metadata": {},
   "source": [
    "Создаются группы для 246 и 247 группы для проверки дат и зафиксированных событий в группе"
   ]
  },
  {
   "cell_type": "code",
   "execution_count": 35,
   "metadata": {},
   "outputs": [
    {
     "name": "stdout",
     "output_type": "stream",
     "text": [
      "Минимальная и максимальная дата в группе 246: 2019-08-01 00:08:00 2019-08-07 21:15:17\n",
      "Минимальная и максимальная дата в группе 247: 2019-08-01 00:08:59 2019-08-07 21:12:25\n"
     ]
    }
   ],
   "source": [
    "print('Минимальная и максимальная дата в группе 246:', data_246['event_time'].min(), data_246['event_time'].max())\n",
    "print('Минимальная и максимальная дата в группе 247:', data_247['event_time'].min(), data_247['event_time'].max())"
   ]
  },
  {
   "cell_type": "code",
   "execution_count": 36,
   "metadata": {},
   "outputs": [
    {
     "name": "stdout",
     "output_type": "stream",
     "text": [
      "Вариантов событий в группе 246: 4\n",
      "Вариантов событий в группе 247: 4\n"
     ]
    }
   ],
   "source": [
    "print('Вариантов событий в группе 246:', data_246['event_name'].nunique())\n",
    "print('Вариантов событий в группе 247:', data_247['event_name'].nunique())"
   ]
  },
  {
   "cell_type": "markdown",
   "metadata": {},
   "source": [
    "Разница во времени между началом и концом эксперимента в группах исчисляется минутами. При этом в каждой группе по 4 варианта событий (туториал не рассматривается)"
   ]
  },
  {
   "cell_type": "markdown",
   "metadata": {},
   "source": [
    "Проводится z-тест (проверка гипотезы о равенстве долей). Если некоторая доля генеральной совокупности обладает признаком, а другая её часть — нет, об этой доле можно судить по выборке из генеральной совокупности. \n",
    "\n",
    "**H0:** между групп 246 и 247 нет различий в долях\n",
    "\n",
    "**H1:** между долями есть значимая разница\n",
    "\n",
    "**альфа-значение:** 0.05"
   ]
  },
  {
   "cell_type": "code",
   "execution_count": 37,
   "metadata": {},
   "outputs": [],
   "source": [
    "def test_z(group_1, group_2, event, alpha):\n",
    "      \n",
    "    def successes_trials(group1, group2, event):\n",
    "            successes = (\n",
    "                np\n",
    "                .array([data.query(f'exp_id.isin({group1}) & event_name == \"{event}\"')['device_id'].nunique(),\n",
    "                          data.query(f'exp_id == {group_2} & event_name == \"{event}\"')['device_id'].nunique()])\n",
    "            )\n",
    "            trials = (\n",
    "                np\n",
    "                .array([data.query(f'exp_id.isin({group1})')['device_id'].nunique(),\\\n",
    "                           data.query(f'exp_id == {group_2}')['device_id'].nunique()])\n",
    "            )\n",
    "            return successes, trials\n",
    "        \n",
    "    successes, trials = successes_trials(group_1, group_2, event) \n",
    "# пропорция успехов в первой группе:\n",
    "    p1 = successes[0]/trials[0]\n",
    "# пропорция успехов во второй группе: \n",
    "    p2 = successes[1]/trials[1]\n",
    "# пропорция успехов в комбинированном датасете: \n",
    "    p_combined = (successes[0] + successes[1]) / (trials[0] + trials[1])\n",
    " \n",
    "    difference = p1 - p2 \n",
    "\n",
    "    z_value = difference / mth.sqrt(p_combined * (1 - p_combined) * (1/trials[0] + 1/trials[1]))\n",
    " \n",
    "    distr = st.norm(0, 1) \n",
    " \n",
    "    p_value = (1 - distr.cdf(abs(z_value))) * 2\n",
    "    \n",
    "    print(f'Группы {group_1} и {group_2}. Событие {event}')\n",
    " \n",
    "    print('p-значение: ', round(p_value, 4))\n",
    "    if p_value < alpha:\n",
    "        print('Отвергаем нулевую гипотезу: между долями есть значимая разница')\n",
    "    else:\n",
    "        print('Не получилось отвергнуть нулевую гипотезу, нет оснований считать доли разными'\n",
    "        )"
   ]
  },
  {
   "cell_type": "markdown",
   "metadata": {},
   "source": [
    "Проведем тест по каждой группе с упомянутыми выше гипотезами"
   ]
  },
  {
   "cell_type": "code",
   "execution_count": 38,
   "metadata": {},
   "outputs": [
    {
     "name": "stdout",
     "output_type": "stream",
     "text": [
      "Группы [246] и 247. Событие MainScreenAppear\n",
      "p-значение:  0.7527\n",
      "Не получилось отвергнуть нулевую гипотезу, нет оснований считать доли разными\n"
     ]
    }
   ],
   "source": [
    "alpha = 0.05 # критический уровень статистической значимости\n",
    "group_1 = [246]\n",
    "group_2 = 247\n",
    "\n",
    "test_z(group_1, group_2, 'MainScreenAppear', alpha)"
   ]
  },
  {
   "cell_type": "markdown",
   "metadata": {},
   "source": [
    "Самая большая группа - просмотр главного экрана. Здесь p-значение составило 0,7571, что много выше 0,05. Увеличение значения до 0,1 не дало бы другого ответа о верности нулевой гипотезы"
   ]
  },
  {
   "cell_type": "code",
   "execution_count": 39,
   "metadata": {},
   "outputs": [
    {
     "name": "stdout",
     "output_type": "stream",
     "text": [
      "Группы [246] и 247. Событие OffersScreenAppear\n",
      "p-значение:  0.2479\n",
      "Не получилось отвергнуть нулевую гипотезу, нет оснований считать доли разными\n"
     ]
    }
   ],
   "source": [
    "test_z(group_1, group_2, 'OffersScreenAppear', alpha)"
   ]
  },
  {
   "cell_type": "markdown",
   "metadata": {},
   "source": [
    "p-значение составило 0,2481, выше 0,05, нулевая гипотеза не отвергнута"
   ]
  },
  {
   "cell_type": "code",
   "execution_count": 40,
   "metadata": {},
   "outputs": [
    {
     "name": "stdout",
     "output_type": "stream",
     "text": [
      "Группы [246] и 247. Событие CartScreenAppear\n",
      "p-значение:  0.2287\n",
      "Не получилось отвергнуть нулевую гипотезу, нет оснований считать доли разными\n"
     ]
    }
   ],
   "source": [
    "test_z(group_1, group_2, 'CartScreenAppear', alpha)"
   ]
  },
  {
   "cell_type": "markdown",
   "metadata": {},
   "source": [
    "p-значение составило 0,2288, выше 0,05, нулевая гипотеза не отвергнута"
   ]
  },
  {
   "cell_type": "code",
   "execution_count": 41,
   "metadata": {},
   "outputs": [
    {
     "name": "stdout",
     "output_type": "stream",
     "text": [
      "Группы [246] и 247. Событие PaymentScreenSuccessful\n",
      "p-значение:  0.1145\n",
      "Не получилось отвергнуть нулевую гипотезу, нет оснований считать доли разными\n"
     ]
    }
   ],
   "source": [
    "test_z(group_1, group_2, 'PaymentScreenSuccessful', alpha)"
   ]
  },
  {
   "cell_type": "markdown",
   "metadata": {},
   "source": [
    "p-значение составило 0,1146, выше 0,05, даже при значении альфа = 0,1, нулевая гипотеза не будет отвергнута"
   ]
  },
  {
   "cell_type": "markdown",
   "metadata": {},
   "source": [
    "## А/В-тест"
   ]
  },
  {
   "cell_type": "markdown",
   "metadata": {},
   "source": [
    "Так же роводится z-тест (проверка гипотезы о равенстве долей).\n",
    "\n",
    "**H0:** между групп 246, либо 247 и 248 нет различий в долях\n",
    "\n",
    "**H1:** между долями есть значимая разница\n",
    "\n",
    "**альфа-значение:** 0.05"
   ]
  },
  {
   "cell_type": "code",
   "execution_count": 42,
   "metadata": {},
   "outputs": [
    {
     "name": "stdout",
     "output_type": "stream",
     "text": [
      "Группы [246] и 248. Событие MainScreenAppear\n",
      "p-значение:  0.3387\n",
      "Не получилось отвергнуть нулевую гипотезу, нет оснований считать доли разными\n",
      "Группы [246] и 248. Событие OffersScreenAppear\n",
      "p-значение:  0.2144\n",
      "Не получилось отвергнуть нулевую гипотезу, нет оснований считать доли разными\n",
      "Группы [246] и 248. Событие CartScreenAppear\n",
      "p-значение:  0.0807\n",
      "Не получилось отвергнуть нулевую гипотезу, нет оснований считать доли разными\n",
      "Группы [246] и 248. Событие PaymentScreenSuccessful\n",
      "p-значение:  0.2169\n",
      "Не получилось отвергнуть нулевую гипотезу, нет оснований считать доли разными\n"
     ]
    }
   ],
   "source": [
    "group_2 = 248\n",
    "\n",
    "test_z(group_1, group_2, 'MainScreenAppear', alpha)\n",
    "test_z(group_1, group_2, 'OffersScreenAppear', alpha)\n",
    "test_z(group_1, group_2, 'CartScreenAppear', alpha)\n",
    "test_z(group_1, group_2, 'PaymentScreenSuccessful', alpha)"
   ]
  },
  {
   "cell_type": "markdown",
   "metadata": {},
   "source": [
    "В этом случае каждая из гипотез отвергается. При этом, при повышении альфа до 0,1 в случае с событием добавления товара в корзину, была бы принята альтернативная гипотеза. В этом случае новый шрифт привел бы к тому, что больше пользователей заходят в корзину, но оплачивают такое же количество, как и прежде"
   ]
  },
  {
   "cell_type": "code",
   "execution_count": 43,
   "metadata": {},
   "outputs": [
    {
     "name": "stdout",
     "output_type": "stream",
     "text": [
      "Группы [247] и 248. Событие MainScreenAppear\n",
      "p-значение:  0.5195\n",
      "Не получилось отвергнуть нулевую гипотезу, нет оснований считать доли разными\n",
      "Группы [247] и 248. Событие OffersScreenAppear\n",
      "p-значение:  0.9334\n",
      "Не получилось отвергнуть нулевую гипотезу, нет оснований считать доли разными\n",
      "Группы [247] и 248. Событие CartScreenAppear\n",
      "p-значение:  0.5878\n",
      "Не получилось отвергнуть нулевую гипотезу, нет оснований считать доли разными\n",
      "Группы [247] и 248. Событие PaymentScreenSuccessful\n",
      "p-значение:  0.7276\n",
      "Не получилось отвергнуть нулевую гипотезу, нет оснований считать доли разными\n"
     ]
    }
   ],
   "source": [
    "group_1 = [247]\n",
    "\n",
    "test_z(group_1, group_2, 'MainScreenAppear', alpha)\n",
    "test_z(group_1, group_2, 'OffersScreenAppear', alpha)\n",
    "test_z(group_1, group_2, 'CartScreenAppear', alpha)\n",
    "test_z(group_1, group_2, 'PaymentScreenSuccessful', alpha)"
   ]
  },
  {
   "cell_type": "markdown",
   "metadata": {},
   "source": [
    "Сравнение групп 247 и экспериментальной приводит к выовду о том, что всё же шрифт не повлиял на поведение пользователей. Здесь p-значение в каждом из вариантов много превышает и значение 0,05, и 0,1."
   ]
  },
  {
   "cell_type": "markdown",
   "metadata": {},
   "source": [
    "**H0:** между групп объединенными контрольными группами (246,247) и 248 нет различий в долях\n",
    "\n",
    "**H1:** между долями есть значимая разница\n",
    "\n",
    "**альфа-значение:** 0.05"
   ]
  },
  {
   "cell_type": "code",
   "execution_count": 44,
   "metadata": {},
   "outputs": [
    {
     "name": "stdout",
     "output_type": "stream",
     "text": [
      "Группы [246, 247] и 248. Событие MainScreenAppear\n",
      "p-значение:  0.3487\n",
      "Не получилось отвергнуть нулевую гипотезу, нет оснований считать доли разными\n",
      "Группы [246, 247] и 248. Событие OffersScreenAppear\n",
      "p-значение:  0.4458\n",
      "Не получилось отвергнуть нулевую гипотезу, нет оснований считать доли разными\n",
      "Группы [246, 247] и 248. Событие CartScreenAppear\n",
      "p-значение:  0.1868\n",
      "Не получилось отвергнуть нулевую гипотезу, нет оснований считать доли разными\n",
      "Группы [246, 247] и 248. Событие PaymentScreenSuccessful\n",
      "p-значение:  0.6108\n",
      "Не получилось отвергнуть нулевую гипотезу, нет оснований считать доли разными\n"
     ]
    }
   ],
   "source": [
    "group_1 = [246, 247]\n",
    "\n",
    "test_z(group_1, group_2, 'MainScreenAppear', alpha)\n",
    "test_z(group_1, group_2, 'OffersScreenAppear', alpha)\n",
    "test_z(group_1, group_2, 'CartScreenAppear', alpha)\n",
    "test_z(group_1, group_2, 'PaymentScreenSuccessful', alpha)"
   ]
  },
  {
   "cell_type": "markdown",
   "metadata": {},
   "source": [
    "Объединение групп ещё раз подтвердило то, что нулевая гипотеза не отвергается. Все значение выше как 0,05, так и 0,1"
   ]
  },
  {
   "cell_type": "markdown",
   "metadata": {},
   "source": [
    "## Вывод"
   ]
  },
  {
   "cell_type": "markdown",
   "metadata": {},
   "source": [
    "А/А-эксперимент показал, что контрольные группы не различаются значительно. Также можно сделать вывод о том, что изменение шрифта не повлияло на поведение пользователей.\n",
    "\n",
    "Всего было проведено 16 статистических тестов (4 группы * 4 комбинации), 4 из них для проверки А/А-теста, 12 - для проверки А/В теста. Вероятность ложнопозитивного результата для 12 групп составит 0,46, а для 16 - 0,56. Уменьшение значения альфа до 0,01 (выводы теста не изменятся) снизило бы эти значения до 0,11 и 0,15."
   ]
  },
  {
   "cell_type": "markdown",
   "metadata": {},
   "source": [
    "# Итого"
   ]
  },
  {
   "cell_type": "markdown",
   "metadata": {},
   "source": [
    "- в среднем пользователи совершают 20 событий на сайте\n",
    "- около 48% пользователей доходят до страницы успешной оплаты\n",
    "- при этом, 40% пользователей не переходят с главной страницы до страницы продукта\n",
    "- от страницы продукта до корзины теряется ещё 20%\n",
    "- практически все пользователи (95%), положившие товар в корзину, совершают покупку\n",
    "- изменение шрифта никак не повлияло на пользователей, при этом нужно отметить то, что данные собраны качественно"
   ]
  }
 ],
 "metadata": {
  "ExecuteTimeLog": [
   {
    "duration": 423,
    "start_time": "2023-05-28T18:47:31.250Z"
   },
   {
    "duration": 664,
    "start_time": "2023-05-28T18:47:57.899Z"
   },
   {
    "duration": 21,
    "start_time": "2023-05-28T18:47:59.817Z"
   },
   {
    "duration": 72,
    "start_time": "2023-05-28T18:48:59.590Z"
   },
   {
    "duration": 69,
    "start_time": "2023-05-28T18:49:05.608Z"
   },
   {
    "duration": 292,
    "start_time": "2023-05-28T18:50:07.896Z"
   },
   {
    "duration": 73,
    "start_time": "2023-05-28T18:50:17.382Z"
   },
   {
    "duration": 67,
    "start_time": "2023-05-28T18:51:31.767Z"
   },
   {
    "duration": 61,
    "start_time": "2023-05-28T18:51:38.642Z"
   },
   {
    "duration": 341,
    "start_time": "2023-05-28T18:51:54.486Z"
   },
   {
    "duration": 8,
    "start_time": "2023-05-28T18:51:57.348Z"
   },
   {
    "duration": 8,
    "start_time": "2023-05-28T18:51:59.881Z"
   },
   {
    "duration": 76,
    "start_time": "2023-05-28T18:52:05.741Z"
   },
   {
    "duration": 148,
    "start_time": "2023-05-28T18:52:08.613Z"
   },
   {
    "duration": 10,
    "start_time": "2023-05-28T18:52:10.421Z"
   },
   {
    "duration": 4,
    "start_time": "2023-05-28T18:53:04.780Z"
   },
   {
    "duration": 408,
    "start_time": "2023-05-28T18:56:04.082Z"
   },
   {
    "duration": 3,
    "start_time": "2023-05-28T18:56:25.097Z"
   },
   {
    "duration": 315,
    "start_time": "2023-05-28T18:56:28.201Z"
   },
   {
    "duration": 11,
    "start_time": "2023-05-28T18:57:19.113Z"
   },
   {
    "duration": 39,
    "start_time": "2023-05-28T18:58:35.048Z"
   },
   {
    "duration": 10,
    "start_time": "2023-05-28T18:58:37.743Z"
   },
   {
    "duration": 1130,
    "start_time": "2023-05-28T18:59:31.872Z"
   },
   {
    "duration": 12,
    "start_time": "2023-05-28T18:59:35.063Z"
   },
   {
    "duration": 376,
    "start_time": "2023-05-28T18:59:59.551Z"
   },
   {
    "duration": 158,
    "start_time": "2023-05-28T18:59:59.929Z"
   },
   {
    "duration": 18,
    "start_time": "2023-05-28T19:00:00.089Z"
   },
   {
    "duration": 35,
    "start_time": "2023-05-28T19:00:00.109Z"
   },
   {
    "duration": 1134,
    "start_time": "2023-05-28T19:00:00.147Z"
   },
   {
    "duration": 1233,
    "start_time": "2023-05-28T19:00:07.396Z"
   },
   {
    "duration": 1045,
    "start_time": "2023-05-28T19:00:32.386Z"
   },
   {
    "duration": 18,
    "start_time": "2023-05-28T19:00:35.562Z"
   },
   {
    "duration": 642,
    "start_time": "2023-05-28T19:01:09.762Z"
   },
   {
    "duration": 415,
    "start_time": "2023-05-28T19:01:19.994Z"
   },
   {
    "duration": 153,
    "start_time": "2023-05-28T19:01:20.411Z"
   },
   {
    "duration": 16,
    "start_time": "2023-05-28T19:01:20.565Z"
   },
   {
    "duration": 5,
    "start_time": "2023-05-28T19:01:20.583Z"
   },
   {
    "duration": 32,
    "start_time": "2023-05-28T19:01:20.591Z"
   },
   {
    "duration": 14,
    "start_time": "2023-05-28T19:01:25.474Z"
   },
   {
    "duration": 21,
    "start_time": "2023-05-28T19:02:08.224Z"
   },
   {
    "duration": 75,
    "start_time": "2023-05-28T19:02:41.065Z"
   },
   {
    "duration": 67,
    "start_time": "2023-05-28T19:02:46.344Z"
   },
   {
    "duration": 58,
    "start_time": "2023-05-28T19:02:55.885Z"
   },
   {
    "duration": 78,
    "start_time": "2023-05-28T19:03:04.200Z"
   },
   {
    "duration": 58,
    "start_time": "2023-05-28T19:04:18.010Z"
   },
   {
    "duration": 3,
    "start_time": "2023-05-28T19:05:01.366Z"
   },
   {
    "duration": 56,
    "start_time": "2023-05-28T19:06:18.365Z"
   },
   {
    "duration": 17,
    "start_time": "2023-05-28T19:06:22.044Z"
   },
   {
    "duration": 58,
    "start_time": "2023-05-28T19:06:27.340Z"
   },
   {
    "duration": 12,
    "start_time": "2023-05-28T19:06:27.697Z"
   },
   {
    "duration": 10,
    "start_time": "2023-05-28T19:06:50.364Z"
   },
   {
    "duration": 104,
    "start_time": "2023-05-28T19:08:59.598Z"
   },
   {
    "duration": 87,
    "start_time": "2023-05-28T19:09:03.274Z"
   },
   {
    "duration": 66,
    "start_time": "2023-05-28T19:09:11.240Z"
   },
   {
    "duration": 56,
    "start_time": "2023-05-28T19:09:28.193Z"
   },
   {
    "duration": 392,
    "start_time": "2023-05-28T21:08:28.642Z"
   },
   {
    "duration": 159,
    "start_time": "2023-05-28T21:08:29.037Z"
   },
   {
    "duration": 4,
    "start_time": "2023-05-28T21:08:29.197Z"
   },
   {
    "duration": 20,
    "start_time": "2023-05-28T21:08:29.203Z"
   },
   {
    "duration": 19,
    "start_time": "2023-05-28T21:08:29.226Z"
   },
   {
    "duration": 20,
    "start_time": "2023-05-28T21:08:29.246Z"
   },
   {
    "duration": 100,
    "start_time": "2023-05-28T21:08:29.268Z"
   },
   {
    "duration": 78,
    "start_time": "2023-05-28T21:08:29.369Z"
   },
   {
    "duration": 11,
    "start_time": "2023-05-28T21:08:29.448Z"
   },
   {
    "duration": 97,
    "start_time": "2023-05-28T21:08:29.461Z"
   },
   {
    "duration": 83,
    "start_time": "2023-05-28T21:08:29.559Z"
   },
   {
    "duration": 78,
    "start_time": "2023-05-28T21:10:07.677Z"
   },
   {
    "duration": 55,
    "start_time": "2023-05-28T21:10:12.282Z"
   },
   {
    "duration": 24,
    "start_time": "2023-05-28T21:12:22.249Z"
   },
   {
    "duration": 27,
    "start_time": "2023-05-28T21:12:37.811Z"
   },
   {
    "duration": 19,
    "start_time": "2023-05-28T21:13:27.248Z"
   },
   {
    "duration": 14,
    "start_time": "2023-05-28T21:14:14.344Z"
   },
   {
    "duration": 71,
    "start_time": "2023-05-28T21:14:27.880Z"
   },
   {
    "duration": 35,
    "start_time": "2023-05-28T21:14:51.879Z"
   },
   {
    "duration": 3,
    "start_time": "2023-05-28T21:15:35.273Z"
   },
   {
    "duration": 14,
    "start_time": "2023-05-28T21:15:37.340Z"
   },
   {
    "duration": 14,
    "start_time": "2023-05-28T21:16:10.000Z"
   },
   {
    "duration": 18,
    "start_time": "2023-05-28T21:16:27.560Z"
   },
   {
    "duration": 19,
    "start_time": "2023-05-28T21:17:04.696Z"
   },
   {
    "duration": 20,
    "start_time": "2023-05-28T21:18:00.982Z"
   },
   {
    "duration": 11,
    "start_time": "2023-05-28T21:18:30.582Z"
   },
   {
    "duration": 10,
    "start_time": "2023-05-28T21:18:39.082Z"
   },
   {
    "duration": 390,
    "start_time": "2023-05-28T21:18:44.683Z"
   },
   {
    "duration": 161,
    "start_time": "2023-05-28T21:18:45.075Z"
   },
   {
    "duration": 2,
    "start_time": "2023-05-28T21:18:45.238Z"
   },
   {
    "duration": 81,
    "start_time": "2023-05-28T21:18:45.242Z"
   },
   {
    "duration": 0,
    "start_time": "2023-05-28T21:18:45.325Z"
   },
   {
    "duration": 0,
    "start_time": "2023-05-28T21:18:45.326Z"
   },
   {
    "duration": 0,
    "start_time": "2023-05-28T21:18:45.327Z"
   },
   {
    "duration": 0,
    "start_time": "2023-05-28T21:18:45.330Z"
   },
   {
    "duration": 0,
    "start_time": "2023-05-28T21:18:45.331Z"
   },
   {
    "duration": 0,
    "start_time": "2023-05-28T21:18:45.332Z"
   },
   {
    "duration": 0,
    "start_time": "2023-05-28T21:18:45.333Z"
   },
   {
    "duration": 11,
    "start_time": "2023-05-28T21:18:53.152Z"
   },
   {
    "duration": 17,
    "start_time": "2023-05-28T21:18:54.867Z"
   },
   {
    "duration": 19,
    "start_time": "2023-05-28T21:18:54.886Z"
   },
   {
    "duration": 78,
    "start_time": "2023-05-28T21:18:54.986Z"
   },
   {
    "duration": 79,
    "start_time": "2023-05-28T21:18:55.157Z"
   },
   {
    "duration": 21,
    "start_time": "2023-05-28T21:18:55.309Z"
   },
   {
    "duration": 87,
    "start_time": "2023-05-28T21:18:55.598Z"
   },
   {
    "duration": 69,
    "start_time": "2023-05-28T21:18:56.244Z"
   },
   {
    "duration": 19,
    "start_time": "2023-05-28T21:19:04.664Z"
   },
   {
    "duration": 1594,
    "start_time": "2023-05-28T21:19:59.461Z"
   },
   {
    "duration": 12,
    "start_time": "2023-05-28T21:20:32.749Z"
   },
   {
    "duration": 12,
    "start_time": "2023-05-28T21:20:54.898Z"
   },
   {
    "duration": 18,
    "start_time": "2023-05-28T21:20:56.356Z"
   },
   {
    "duration": 46,
    "start_time": "2023-05-28T21:20:57.690Z"
   },
   {
    "duration": 95,
    "start_time": "2023-05-28T21:20:58.100Z"
   },
   {
    "duration": 83,
    "start_time": "2023-05-28T21:20:59.044Z"
   },
   {
    "duration": 7,
    "start_time": "2023-05-28T21:20:59.348Z"
   },
   {
    "duration": 93,
    "start_time": "2023-05-28T21:21:00.347Z"
   },
   {
    "duration": 84,
    "start_time": "2023-05-28T21:21:00.986Z"
   },
   {
    "duration": 19,
    "start_time": "2023-05-28T21:21:01.454Z"
   },
   {
    "duration": 7,
    "start_time": "2023-05-28T21:21:05.548Z"
   },
   {
    "duration": 412,
    "start_time": "2023-05-28T21:21:09.992Z"
   },
   {
    "duration": 183,
    "start_time": "2023-05-28T21:21:10.406Z"
   },
   {
    "duration": 4,
    "start_time": "2023-05-28T21:21:10.591Z"
   },
   {
    "duration": 39,
    "start_time": "2023-05-28T21:21:10.596Z"
   },
   {
    "duration": 21,
    "start_time": "2023-05-28T21:21:10.638Z"
   },
   {
    "duration": 25,
    "start_time": "2023-05-28T21:21:10.661Z"
   },
   {
    "duration": 129,
    "start_time": "2023-05-28T21:21:10.688Z"
   },
   {
    "duration": 100,
    "start_time": "2023-05-28T21:21:10.832Z"
   },
   {
    "duration": 20,
    "start_time": "2023-05-28T21:21:10.935Z"
   },
   {
    "duration": 123,
    "start_time": "2023-05-28T21:21:10.957Z"
   },
   {
    "duration": 92,
    "start_time": "2023-05-28T21:21:11.082Z"
   },
   {
    "duration": 31,
    "start_time": "2023-05-28T21:21:11.177Z"
   },
   {
    "duration": 69,
    "start_time": "2023-05-29T10:24:34.815Z"
   },
   {
    "duration": 367,
    "start_time": "2023-05-29T10:25:01.026Z"
   },
   {
    "duration": 498,
    "start_time": "2023-05-29T10:25:01.395Z"
   },
   {
    "duration": 4,
    "start_time": "2023-05-29T10:25:01.895Z"
   },
   {
    "duration": 83,
    "start_time": "2023-05-29T10:25:01.901Z"
   },
   {
    "duration": 49,
    "start_time": "2023-05-29T10:25:01.986Z"
   },
   {
    "duration": 127,
    "start_time": "2023-05-29T10:25:02.036Z"
   },
   {
    "duration": 128,
    "start_time": "2023-05-29T10:25:02.164Z"
   },
   {
    "duration": 66,
    "start_time": "2023-05-29T10:25:02.294Z"
   },
   {
    "duration": 12,
    "start_time": "2023-05-29T10:25:02.361Z"
   },
   {
    "duration": 105,
    "start_time": "2023-05-29T10:25:02.384Z"
   },
   {
    "duration": 69,
    "start_time": "2023-05-29T10:25:02.491Z"
   },
   {
    "duration": 23,
    "start_time": "2023-05-29T10:25:02.562Z"
   },
   {
    "duration": 3,
    "start_time": "2023-05-29T11:13:58.884Z"
   },
   {
    "duration": 1562,
    "start_time": "2023-05-29T11:14:01.500Z"
   },
   {
    "duration": 17,
    "start_time": "2023-05-29T11:14:08.190Z"
   },
   {
    "duration": 7,
    "start_time": "2023-05-29T11:16:09.688Z"
   },
   {
    "duration": 8,
    "start_time": "2023-05-29T11:16:15.526Z"
   },
   {
    "duration": 12,
    "start_time": "2023-05-29T11:17:06.200Z"
   },
   {
    "duration": 4,
    "start_time": "2023-05-29T11:30:20.210Z"
   },
   {
    "duration": 77,
    "start_time": "2023-05-29T11:31:10.980Z"
   },
   {
    "duration": 48,
    "start_time": "2023-05-29T11:31:21.849Z"
   },
   {
    "duration": 39,
    "start_time": "2023-05-29T11:31:26.108Z"
   },
   {
    "duration": 29,
    "start_time": "2023-05-29T11:31:57.820Z"
   },
   {
    "duration": 4,
    "start_time": "2023-05-29T13:17:57.507Z"
   },
   {
    "duration": 5,
    "start_time": "2023-05-29T13:18:07.801Z"
   },
   {
    "duration": 5,
    "start_time": "2023-05-29T13:18:53.333Z"
   },
   {
    "duration": 8,
    "start_time": "2023-05-29T13:19:56.251Z"
   },
   {
    "duration": 2,
    "start_time": "2023-05-29T13:20:15.208Z"
   },
   {
    "duration": 443,
    "start_time": "2023-05-29T13:20:23.892Z"
   },
   {
    "duration": 308,
    "start_time": "2023-05-29T13:20:29.547Z"
   },
   {
    "duration": 207,
    "start_time": "2023-05-29T13:20:38.618Z"
   },
   {
    "duration": 240,
    "start_time": "2023-05-29T13:20:43.196Z"
   },
   {
    "duration": 237,
    "start_time": "2023-05-29T13:21:50.744Z"
   },
   {
    "duration": 232,
    "start_time": "2023-05-29T13:21:54.991Z"
   },
   {
    "duration": 252,
    "start_time": "2023-05-29T13:22:25.595Z"
   },
   {
    "duration": 16,
    "start_time": "2023-05-29T13:23:18.030Z"
   },
   {
    "duration": 32,
    "start_time": "2023-05-29T13:23:29.220Z"
   },
   {
    "duration": 10,
    "start_time": "2023-05-29T13:24:35.428Z"
   },
   {
    "duration": 60,
    "start_time": "2023-05-29T13:24:39.524Z"
   },
   {
    "duration": 45,
    "start_time": "2023-05-29T16:27:54.835Z"
   },
   {
    "duration": 744,
    "start_time": "2023-05-29T16:27:58.916Z"
   },
   {
    "duration": 945,
    "start_time": "2023-05-29T16:27:59.662Z"
   },
   {
    "duration": 3,
    "start_time": "2023-05-29T16:28:00.610Z"
   },
   {
    "duration": 53,
    "start_time": "2023-05-29T16:28:00.614Z"
   },
   {
    "duration": 17,
    "start_time": "2023-05-29T16:28:00.670Z"
   },
   {
    "duration": 20,
    "start_time": "2023-05-29T16:28:00.689Z"
   },
   {
    "duration": 114,
    "start_time": "2023-05-29T16:28:00.711Z"
   },
   {
    "duration": 87,
    "start_time": "2023-05-29T16:28:00.827Z"
   },
   {
    "duration": 11,
    "start_time": "2023-05-29T16:28:00.916Z"
   },
   {
    "duration": 124,
    "start_time": "2023-05-29T16:28:00.928Z"
   },
   {
    "duration": 83,
    "start_time": "2023-05-29T16:28:01.053Z"
   },
   {
    "duration": 34,
    "start_time": "2023-05-29T16:28:01.138Z"
   },
   {
    "duration": 37,
    "start_time": "2023-05-29T16:28:01.174Z"
   },
   {
    "duration": 30,
    "start_time": "2023-05-29T16:28:01.214Z"
   },
   {
    "duration": 124,
    "start_time": "2023-05-29T16:28:01.246Z"
   },
   {
    "duration": 6,
    "start_time": "2023-05-29T16:28:01.372Z"
   },
   {
    "duration": 429,
    "start_time": "2023-05-29T16:28:01.379Z"
   },
   {
    "duration": 26,
    "start_time": "2023-05-29T16:28:01.810Z"
   },
   {
    "duration": 44,
    "start_time": "2023-05-29T16:28:01.840Z"
   },
   {
    "duration": 72,
    "start_time": "2023-05-29T16:28:01.886Z"
   },
   {
    "duration": 89,
    "start_time": "2023-05-29T16:28:01.961Z"
   },
   {
    "duration": 100,
    "start_time": "2023-05-29T16:29:02.442Z"
   },
   {
    "duration": 25,
    "start_time": "2023-05-29T16:29:11.730Z"
   },
   {
    "duration": 4,
    "start_time": "2023-05-29T16:29:59.569Z"
   },
   {
    "duration": 41,
    "start_time": "2023-05-29T16:30:02.145Z"
   },
   {
    "duration": 35,
    "start_time": "2023-05-29T16:30:06.633Z"
   },
   {
    "duration": 4,
    "start_time": "2023-05-29T16:30:20.001Z"
   },
   {
    "duration": 26,
    "start_time": "2023-05-29T16:30:23.848Z"
   },
   {
    "duration": 28,
    "start_time": "2023-05-29T16:31:27.152Z"
   },
   {
    "duration": 31,
    "start_time": "2023-05-29T16:31:33.200Z"
   },
   {
    "duration": 16,
    "start_time": "2023-05-29T16:31:38.384Z"
   },
   {
    "duration": 52,
    "start_time": "2023-05-29T16:31:42.263Z"
   },
   {
    "duration": 55,
    "start_time": "2023-05-29T16:32:54.815Z"
   },
   {
    "duration": 56,
    "start_time": "2023-05-29T16:32:59.519Z"
   },
   {
    "duration": 59,
    "start_time": "2023-05-29T16:33:08.686Z"
   },
   {
    "duration": 57,
    "start_time": "2023-05-29T16:33:12.102Z"
   },
   {
    "duration": 35,
    "start_time": "2023-05-29T16:33:27.990Z"
   },
   {
    "duration": 31,
    "start_time": "2023-05-29T16:33:37.358Z"
   },
   {
    "duration": 32,
    "start_time": "2023-05-29T16:33:44.782Z"
   },
   {
    "duration": 52,
    "start_time": "2023-05-29T16:38:46.161Z"
   },
   {
    "duration": 53,
    "start_time": "2023-05-29T16:38:49.848Z"
   },
   {
    "duration": 64,
    "start_time": "2023-05-29T16:39:57.328Z"
   },
   {
    "duration": 62,
    "start_time": "2023-05-29T16:40:45.888Z"
   },
   {
    "duration": 9,
    "start_time": "2023-05-29T16:48:29.928Z"
   },
   {
    "duration": 9,
    "start_time": "2023-05-29T16:48:33.788Z"
   },
   {
    "duration": 8,
    "start_time": "2023-05-29T16:50:11.956Z"
   },
   {
    "duration": 9,
    "start_time": "2023-05-29T16:52:45.952Z"
   },
   {
    "duration": 11,
    "start_time": "2023-05-29T16:52:57.624Z"
   },
   {
    "duration": 9,
    "start_time": "2023-05-29T16:55:22.358Z"
   },
   {
    "duration": 13,
    "start_time": "2023-05-29T16:55:37.014Z"
   },
   {
    "duration": 753,
    "start_time": "2023-05-29T16:56:24.750Z"
   },
   {
    "duration": 3,
    "start_time": "2023-05-29T17:02:56.824Z"
   },
   {
    "duration": 9,
    "start_time": "2023-05-29T17:03:00.607Z"
   },
   {
    "duration": 9,
    "start_time": "2023-05-29T17:06:25.123Z"
   },
   {
    "duration": 5,
    "start_time": "2023-05-29T17:06:32.748Z"
   },
   {
    "duration": 11,
    "start_time": "2023-05-29T17:06:38.555Z"
   },
   {
    "duration": 13,
    "start_time": "2023-05-29T17:07:41.235Z"
   },
   {
    "duration": 20,
    "start_time": "2023-05-29T17:08:04.052Z"
   },
   {
    "duration": 794,
    "start_time": "2023-05-29T17:08:13.177Z"
   },
   {
    "duration": 220,
    "start_time": "2023-05-29T17:08:13.974Z"
   },
   {
    "duration": 5,
    "start_time": "2023-05-29T17:08:14.196Z"
   },
   {
    "duration": 32,
    "start_time": "2023-05-29T17:08:14.203Z"
   },
   {
    "duration": 36,
    "start_time": "2023-05-29T17:08:14.259Z"
   },
   {
    "duration": 75,
    "start_time": "2023-05-29T17:08:14.297Z"
   },
   {
    "duration": 132,
    "start_time": "2023-05-29T17:08:14.375Z"
   },
   {
    "duration": 118,
    "start_time": "2023-05-29T17:08:14.510Z"
   },
   {
    "duration": 29,
    "start_time": "2023-05-29T17:08:14.633Z"
   },
   {
    "duration": 144,
    "start_time": "2023-05-29T17:08:14.664Z"
   },
   {
    "duration": 128,
    "start_time": "2023-05-29T17:08:14.811Z"
   },
   {
    "duration": 35,
    "start_time": "2023-05-29T17:08:14.941Z"
   },
   {
    "duration": 33,
    "start_time": "2023-05-29T17:08:14.978Z"
   },
   {
    "duration": 49,
    "start_time": "2023-05-29T17:08:15.016Z"
   },
   {
    "duration": 82,
    "start_time": "2023-05-29T17:08:15.068Z"
   },
   {
    "duration": 6,
    "start_time": "2023-05-29T17:08:15.153Z"
   },
   {
    "duration": 543,
    "start_time": "2023-05-29T17:08:15.161Z"
   },
   {
    "duration": 22,
    "start_time": "2023-05-29T17:08:15.706Z"
   },
   {
    "duration": 47,
    "start_time": "2023-05-29T17:08:15.730Z"
   },
   {
    "duration": 78,
    "start_time": "2023-05-29T17:08:15.780Z"
   },
   {
    "duration": 40,
    "start_time": "2023-05-29T17:08:15.861Z"
   },
   {
    "duration": 92,
    "start_time": "2023-05-29T17:08:15.903Z"
   },
   {
    "duration": 14,
    "start_time": "2023-05-29T17:08:15.997Z"
   },
   {
    "duration": 50,
    "start_time": "2023-05-29T17:08:16.014Z"
   },
   {
    "duration": 665,
    "start_time": "2023-05-29T17:08:24.946Z"
   },
   {
    "duration": 174,
    "start_time": "2023-05-29T17:08:25.613Z"
   },
   {
    "duration": 4,
    "start_time": "2023-05-29T17:08:25.789Z"
   },
   {
    "duration": 23,
    "start_time": "2023-05-29T17:08:25.794Z"
   },
   {
    "duration": 17,
    "start_time": "2023-05-29T17:08:25.819Z"
   },
   {
    "duration": 49,
    "start_time": "2023-05-29T17:08:25.838Z"
   },
   {
    "duration": 105,
    "start_time": "2023-05-29T17:08:25.889Z"
   },
   {
    "duration": 93,
    "start_time": "2023-05-29T17:08:25.996Z"
   },
   {
    "duration": 12,
    "start_time": "2023-05-29T17:08:26.091Z"
   },
   {
    "duration": 104,
    "start_time": "2023-05-29T17:08:26.105Z"
   },
   {
    "duration": 92,
    "start_time": "2023-05-29T17:08:26.211Z"
   },
   {
    "duration": 26,
    "start_time": "2023-05-29T17:08:26.304Z"
   },
   {
    "duration": 47,
    "start_time": "2023-05-29T17:08:26.332Z"
   },
   {
    "duration": 8,
    "start_time": "2023-05-29T17:08:26.382Z"
   },
   {
    "duration": 68,
    "start_time": "2023-05-29T17:08:26.392Z"
   },
   {
    "duration": 13,
    "start_time": "2023-05-29T17:08:26.462Z"
   },
   {
    "duration": 419,
    "start_time": "2023-05-29T17:08:26.478Z"
   },
   {
    "duration": 16,
    "start_time": "2023-05-29T17:08:26.899Z"
   },
   {
    "duration": 19,
    "start_time": "2023-05-29T17:08:26.917Z"
   },
   {
    "duration": 50,
    "start_time": "2023-05-29T17:08:26.959Z"
   },
   {
    "duration": 25,
    "start_time": "2023-05-29T17:08:27.011Z"
   },
   {
    "duration": 87,
    "start_time": "2023-05-29T17:08:27.038Z"
   },
   {
    "duration": 3,
    "start_time": "2023-05-29T17:08:27.127Z"
   },
   {
    "duration": 978,
    "start_time": "2023-05-29T17:08:27.132Z"
   },
   {
    "duration": 4,
    "start_time": "2023-05-29T17:09:27.832Z"
   },
   {
    "duration": 11,
    "start_time": "2023-05-29T17:09:44.698Z"
   },
   {
    "duration": 10,
    "start_time": "2023-05-29T17:09:56.673Z"
   },
   {
    "duration": 36,
    "start_time": "2023-05-29T17:11:19.207Z"
   },
   {
    "duration": 10,
    "start_time": "2023-05-29T17:11:38.103Z"
   },
   {
    "duration": 13,
    "start_time": "2023-05-29T17:12:16.839Z"
   },
   {
    "duration": 100,
    "start_time": "2023-05-29T17:16:15.948Z"
   },
   {
    "duration": 21,
    "start_time": "2023-05-29T17:17:02.114Z"
   },
   {
    "duration": 13,
    "start_time": "2023-05-29T17:18:19.312Z"
   },
   {
    "duration": 845,
    "start_time": "2023-05-29T17:18:23.317Z"
   },
   {
    "duration": 192,
    "start_time": "2023-05-29T17:18:24.165Z"
   },
   {
    "duration": 4,
    "start_time": "2023-05-29T17:18:24.359Z"
   },
   {
    "duration": 19,
    "start_time": "2023-05-29T17:18:24.365Z"
   },
   {
    "duration": 20,
    "start_time": "2023-05-29T17:18:24.387Z"
   },
   {
    "duration": 51,
    "start_time": "2023-05-29T17:18:24.409Z"
   },
   {
    "duration": 83,
    "start_time": "2023-05-29T17:18:24.462Z"
   },
   {
    "duration": 87,
    "start_time": "2023-05-29T17:18:24.546Z"
   },
   {
    "duration": 29,
    "start_time": "2023-05-29T17:18:24.634Z"
   },
   {
    "duration": 95,
    "start_time": "2023-05-29T17:18:24.665Z"
   },
   {
    "duration": 76,
    "start_time": "2023-05-29T17:18:24.762Z"
   },
   {
    "duration": 43,
    "start_time": "2023-05-29T17:18:24.840Z"
   },
   {
    "duration": 27,
    "start_time": "2023-05-29T17:18:24.885Z"
   },
   {
    "duration": 10,
    "start_time": "2023-05-29T17:18:24.915Z"
   },
   {
    "duration": 87,
    "start_time": "2023-05-29T17:18:24.927Z"
   },
   {
    "duration": 7,
    "start_time": "2023-05-29T17:18:25.016Z"
   },
   {
    "duration": 393,
    "start_time": "2023-05-29T17:18:25.025Z"
   },
   {
    "duration": 15,
    "start_time": "2023-05-29T17:18:25.420Z"
   },
   {
    "duration": 30,
    "start_time": "2023-05-29T17:18:25.437Z"
   },
   {
    "duration": 50,
    "start_time": "2023-05-29T17:18:25.469Z"
   },
   {
    "duration": 41,
    "start_time": "2023-05-29T17:18:25.521Z"
   },
   {
    "duration": 57,
    "start_time": "2023-05-29T17:18:25.563Z"
   },
   {
    "duration": 99,
    "start_time": "2023-05-29T17:18:25.621Z"
   },
   {
    "duration": 17,
    "start_time": "2023-05-29T17:18:42.577Z"
   },
   {
    "duration": 12,
    "start_time": "2023-05-29T17:19:25.808Z"
   },
   {
    "duration": 61,
    "start_time": "2023-05-29T17:19:38.678Z"
   },
   {
    "duration": 63,
    "start_time": "2023-05-29T17:19:43.766Z"
   },
   {
    "duration": 15,
    "start_time": "2023-05-29T17:19:45.631Z"
   },
   {
    "duration": 259,
    "start_time": "2023-05-29T17:20:36.078Z"
   },
   {
    "duration": 61,
    "start_time": "2023-05-29T17:20:49.791Z"
   },
   {
    "duration": 60,
    "start_time": "2023-05-29T17:21:59.756Z"
   },
   {
    "duration": 70,
    "start_time": "2023-05-29T17:22:05.774Z"
   },
   {
    "duration": 447,
    "start_time": "2023-05-29T17:22:08.589Z"
   },
   {
    "duration": 63,
    "start_time": "2023-05-29T17:23:34.044Z"
   },
   {
    "duration": 17,
    "start_time": "2023-05-29T17:23:56.499Z"
   },
   {
    "duration": 786,
    "start_time": "2023-05-29T17:24:46.091Z"
   },
   {
    "duration": 16,
    "start_time": "2023-05-29T17:24:53.945Z"
   },
   {
    "duration": 13,
    "start_time": "2023-05-29T18:01:43.576Z"
   },
   {
    "duration": 4,
    "start_time": "2023-05-29T18:01:48.153Z"
   },
   {
    "duration": 26,
    "start_time": "2023-05-29T18:02:00.878Z"
   },
   {
    "duration": 12,
    "start_time": "2023-05-29T18:02:14.686Z"
   },
   {
    "duration": 9,
    "start_time": "2023-05-29T18:02:30.734Z"
   },
   {
    "duration": 9,
    "start_time": "2023-05-29T18:02:36.702Z"
   },
   {
    "duration": 49,
    "start_time": "2023-05-29T18:03:14.541Z"
   },
   {
    "duration": 12,
    "start_time": "2023-05-29T18:03:26.273Z"
   },
   {
    "duration": 48,
    "start_time": "2023-05-29T18:03:33.246Z"
   },
   {
    "duration": 12,
    "start_time": "2023-05-29T18:09:49.504Z"
   },
   {
    "duration": 14,
    "start_time": "2023-05-29T18:09:54.463Z"
   },
   {
    "duration": 1121,
    "start_time": "2023-05-29T18:10:00.359Z"
   },
   {
    "duration": 51,
    "start_time": "2023-05-29T18:10:11.016Z"
   },
   {
    "duration": 43,
    "start_time": "2023-05-29T18:10:17.325Z"
   },
   {
    "duration": 55,
    "start_time": "2023-05-29T18:11:06.078Z"
   },
   {
    "duration": 887,
    "start_time": "2023-05-29T18:11:15.808Z"
   },
   {
    "duration": 830,
    "start_time": "2023-05-29T18:11:24.709Z"
   },
   {
    "duration": 87,
    "start_time": "2023-05-29T18:11:38.556Z"
   },
   {
    "duration": 101,
    "start_time": "2023-05-29T18:11:42.212Z"
   },
   {
    "duration": 77,
    "start_time": "2023-05-29T18:11:52.589Z"
   },
   {
    "duration": 118,
    "start_time": "2023-05-29T18:12:03.961Z"
   },
   {
    "duration": 106,
    "start_time": "2023-05-29T18:12:08.007Z"
   },
   {
    "duration": 74,
    "start_time": "2023-05-29T18:12:20.589Z"
   },
   {
    "duration": 98,
    "start_time": "2023-05-29T18:12:31.076Z"
   },
   {
    "duration": 76,
    "start_time": "2023-05-29T18:12:43.692Z"
   },
   {
    "duration": 96,
    "start_time": "2023-05-29T18:12:52.492Z"
   },
   {
    "duration": 124,
    "start_time": "2023-05-29T18:13:00.078Z"
   },
   {
    "duration": 9,
    "start_time": "2023-05-29T18:13:41.091Z"
   },
   {
    "duration": 8,
    "start_time": "2023-05-29T18:13:51.444Z"
   },
   {
    "duration": 16,
    "start_time": "2023-05-29T18:13:55.211Z"
   },
   {
    "duration": 10,
    "start_time": "2023-05-29T18:15:30.067Z"
   },
   {
    "duration": 13,
    "start_time": "2023-05-29T18:16:37.008Z"
   },
   {
    "duration": 15,
    "start_time": "2023-05-29T18:16:54.688Z"
   },
   {
    "duration": 14,
    "start_time": "2023-05-29T18:16:58.888Z"
   },
   {
    "duration": 22,
    "start_time": "2023-05-29T18:17:15.588Z"
   },
   {
    "duration": 7,
    "start_time": "2023-05-29T18:26:21.296Z"
   },
   {
    "duration": 9,
    "start_time": "2023-05-29T18:26:30.214Z"
   },
   {
    "duration": 16,
    "start_time": "2023-05-29T18:26:52.395Z"
   },
   {
    "duration": 2,
    "start_time": "2023-05-29T18:27:05.300Z"
   },
   {
    "duration": 30,
    "start_time": "2023-05-29T18:27:08.446Z"
   },
   {
    "duration": 15,
    "start_time": "2023-05-29T18:27:24.413Z"
   },
   {
    "duration": 40,
    "start_time": "2023-05-29T18:28:28.702Z"
   },
   {
    "duration": 17,
    "start_time": "2023-05-29T18:28:30.072Z"
   },
   {
    "duration": 7,
    "start_time": "2023-05-29T18:28:54.418Z"
   },
   {
    "duration": 7,
    "start_time": "2023-05-29T18:29:39.097Z"
   },
   {
    "duration": 7,
    "start_time": "2023-05-29T18:30:11.507Z"
   },
   {
    "duration": 11,
    "start_time": "2023-05-29T18:31:21.701Z"
   },
   {
    "duration": 105,
    "start_time": "2023-05-29T18:31:22.226Z"
   },
   {
    "duration": 69,
    "start_time": "2023-05-29T18:31:47.983Z"
   },
   {
    "duration": 8,
    "start_time": "2023-05-29T18:31:51.257Z"
   },
   {
    "duration": 66,
    "start_time": "2023-05-29T18:31:54.705Z"
   },
   {
    "duration": 609,
    "start_time": "2023-05-29T18:32:17.900Z"
   },
   {
    "duration": 101,
    "start_time": "2023-05-29T18:32:22.112Z"
   },
   {
    "duration": 7,
    "start_time": "2023-05-29T18:32:28.922Z"
   },
   {
    "duration": 64,
    "start_time": "2023-05-29T18:32:29.336Z"
   },
   {
    "duration": 10,
    "start_time": "2023-05-29T18:32:55.289Z"
   },
   {
    "duration": 58,
    "start_time": "2023-05-29T18:32:55.872Z"
   },
   {
    "duration": 7,
    "start_time": "2023-05-29T19:28:58.128Z"
   },
   {
    "duration": 24,
    "start_time": "2023-05-29T19:29:17.801Z"
   },
   {
    "duration": 8,
    "start_time": "2023-05-29T19:29:29.203Z"
   },
   {
    "duration": 61,
    "start_time": "2023-05-29T19:29:29.599Z"
   },
   {
    "duration": 43,
    "start_time": "2023-05-29T19:29:49.912Z"
   },
   {
    "duration": 70,
    "start_time": "2023-05-29T19:30:01.418Z"
   },
   {
    "duration": 62,
    "start_time": "2023-05-29T19:30:13.188Z"
   },
   {
    "duration": 56,
    "start_time": "2023-05-29T19:32:03.361Z"
   },
   {
    "duration": 14,
    "start_time": "2023-05-29T19:36:51.002Z"
   },
   {
    "duration": 79,
    "start_time": "2023-05-29T19:36:51.446Z"
   },
   {
    "duration": 76,
    "start_time": "2023-05-29T19:36:52.032Z"
   },
   {
    "duration": 75,
    "start_time": "2023-05-29T19:36:52.819Z"
   },
   {
    "duration": 69,
    "start_time": "2023-05-29T19:36:53.375Z"
   },
   {
    "duration": 320,
    "start_time": "2023-05-29T19:36:53.952Z"
   },
   {
    "duration": 501,
    "start_time": "2023-05-29T19:37:23.926Z"
   },
   {
    "duration": 508,
    "start_time": "2023-05-29T19:37:45.436Z"
   },
   {
    "duration": 418,
    "start_time": "2023-05-29T19:37:53.019Z"
   },
   {
    "duration": 1438,
    "start_time": "2023-05-29T19:38:00.495Z"
   },
   {
    "duration": 243,
    "start_time": "2023-05-29T19:38:01.940Z"
   },
   {
    "duration": 7,
    "start_time": "2023-05-29T19:38:02.184Z"
   },
   {
    "duration": 39,
    "start_time": "2023-05-29T19:38:02.217Z"
   },
   {
    "duration": 75,
    "start_time": "2023-05-29T19:38:02.264Z"
   },
   {
    "duration": 44,
    "start_time": "2023-05-29T19:38:02.342Z"
   },
   {
    "duration": 145,
    "start_time": "2023-05-29T19:38:02.389Z"
   },
   {
    "duration": 104,
    "start_time": "2023-05-29T19:38:02.537Z"
   },
   {
    "duration": 27,
    "start_time": "2023-05-29T19:38:02.644Z"
   },
   {
    "duration": 157,
    "start_time": "2023-05-29T19:38:02.673Z"
   },
   {
    "duration": 105,
    "start_time": "2023-05-29T19:38:02.837Z"
   },
   {
    "duration": 39,
    "start_time": "2023-05-29T19:38:02.943Z"
   },
   {
    "duration": 35,
    "start_time": "2023-05-29T19:38:02.992Z"
   },
   {
    "duration": 10,
    "start_time": "2023-05-29T19:38:03.030Z"
   },
   {
    "duration": 72,
    "start_time": "2023-05-29T19:38:03.042Z"
   },
   {
    "duration": 8,
    "start_time": "2023-05-29T19:38:03.116Z"
   },
   {
    "duration": 523,
    "start_time": "2023-05-29T19:38:03.127Z"
   },
   {
    "duration": 21,
    "start_time": "2023-05-29T19:38:03.657Z"
   },
   {
    "duration": 30,
    "start_time": "2023-05-29T19:38:03.680Z"
   },
   {
    "duration": 63,
    "start_time": "2023-05-29T19:38:03.717Z"
   },
   {
    "duration": 53,
    "start_time": "2023-05-29T19:38:03.784Z"
   },
   {
    "duration": 101,
    "start_time": "2023-05-29T19:38:03.840Z"
   },
   {
    "duration": 694,
    "start_time": "2023-05-29T19:38:03.946Z"
   },
   {
    "duration": 19,
    "start_time": "2023-05-29T19:38:04.642Z"
   },
   {
    "duration": 19,
    "start_time": "2023-05-29T19:38:04.664Z"
   },
   {
    "duration": 74,
    "start_time": "2023-05-29T19:38:04.686Z"
   },
   {
    "duration": 160,
    "start_time": "2023-05-29T19:38:04.773Z"
   },
   {
    "duration": 10,
    "start_time": "2023-05-29T19:38:04.935Z"
   },
   {
    "duration": 33,
    "start_time": "2023-05-29T19:38:04.947Z"
   },
   {
    "duration": 23,
    "start_time": "2023-05-29T19:38:04.991Z"
   },
   {
    "duration": 50,
    "start_time": "2023-05-29T19:38:05.020Z"
   },
   {
    "duration": 18,
    "start_time": "2023-05-29T19:38:05.073Z"
   },
   {
    "duration": 92,
    "start_time": "2023-05-29T19:38:05.094Z"
   },
   {
    "duration": 65,
    "start_time": "2023-05-29T19:38:05.207Z"
   },
   {
    "duration": 59,
    "start_time": "2023-05-29T19:38:05.278Z"
   },
   {
    "duration": 75,
    "start_time": "2023-05-29T19:38:05.343Z"
   },
   {
    "duration": 411,
    "start_time": "2023-05-29T19:38:05.420Z"
   },
   {
    "duration": 257,
    "start_time": "2023-05-29T19:39:23.262Z"
   },
   {
    "duration": 1668,
    "start_time": "2023-05-29T19:39:31.040Z"
   },
   {
    "duration": 276,
    "start_time": "2023-05-29T19:39:32.710Z"
   },
   {
    "duration": 7,
    "start_time": "2023-05-29T19:39:32.997Z"
   },
   {
    "duration": 35,
    "start_time": "2023-05-29T19:39:33.011Z"
   },
   {
    "duration": 31,
    "start_time": "2023-05-29T19:39:33.056Z"
   },
   {
    "duration": 47,
    "start_time": "2023-05-29T19:39:33.094Z"
   },
   {
    "duration": 128,
    "start_time": "2023-05-29T19:39:33.147Z"
   },
   {
    "duration": 126,
    "start_time": "2023-05-29T19:39:33.281Z"
   },
   {
    "duration": 23,
    "start_time": "2023-05-29T19:39:33.414Z"
   },
   {
    "duration": 125,
    "start_time": "2023-05-29T19:39:33.443Z"
   },
   {
    "duration": 115,
    "start_time": "2023-05-29T19:39:33.574Z"
   },
   {
    "duration": 33,
    "start_time": "2023-05-29T19:39:33.695Z"
   },
   {
    "duration": 31,
    "start_time": "2023-05-29T19:39:33.734Z"
   },
   {
    "duration": 16,
    "start_time": "2023-05-29T19:39:33.774Z"
   },
   {
    "duration": 77,
    "start_time": "2023-05-29T19:39:33.794Z"
   },
   {
    "duration": 15,
    "start_time": "2023-05-29T19:39:33.878Z"
   },
   {
    "duration": 591,
    "start_time": "2023-05-29T19:39:33.900Z"
   },
   {
    "duration": 21,
    "start_time": "2023-05-29T19:39:34.497Z"
   },
   {
    "duration": 41,
    "start_time": "2023-05-29T19:39:34.524Z"
   },
   {
    "duration": 89,
    "start_time": "2023-05-29T19:39:34.574Z"
   },
   {
    "duration": 76,
    "start_time": "2023-05-29T19:39:34.674Z"
   },
   {
    "duration": 116,
    "start_time": "2023-05-29T19:39:34.758Z"
   },
   {
    "duration": 746,
    "start_time": "2023-05-29T19:39:34.885Z"
   },
   {
    "duration": 21,
    "start_time": "2023-05-29T19:39:35.633Z"
   },
   {
    "duration": 46,
    "start_time": "2023-05-29T19:39:35.656Z"
   },
   {
    "duration": 110,
    "start_time": "2023-05-29T19:39:35.704Z"
   },
   {
    "duration": 131,
    "start_time": "2023-05-29T19:39:35.816Z"
   },
   {
    "duration": 22,
    "start_time": "2023-05-29T19:39:35.952Z"
   },
   {
    "duration": 19,
    "start_time": "2023-05-29T19:39:35.982Z"
   },
   {
    "duration": 16,
    "start_time": "2023-05-29T19:39:36.003Z"
   },
   {
    "duration": 46,
    "start_time": "2023-05-29T19:39:36.021Z"
   },
   {
    "duration": 20,
    "start_time": "2023-05-29T19:39:36.073Z"
   },
   {
    "duration": 69,
    "start_time": "2023-05-29T19:39:36.099Z"
   },
   {
    "duration": 65,
    "start_time": "2023-05-29T19:39:36.170Z"
   },
   {
    "duration": 80,
    "start_time": "2023-05-29T19:39:36.239Z"
   },
   {
    "duration": 87,
    "start_time": "2023-05-29T19:39:36.321Z"
   },
   {
    "duration": 191,
    "start_time": "2023-05-29T19:39:36.426Z"
   },
   {
    "duration": 210,
    "start_time": "2023-05-29T19:39:36.619Z"
   },
   {
    "duration": 84,
    "start_time": "2023-05-29T19:41:34.967Z"
   },
   {
    "duration": 1877,
    "start_time": "2023-05-29T19:47:38.207Z"
   },
   {
    "duration": 106,
    "start_time": "2023-05-29T19:47:47.231Z"
   },
   {
    "duration": 1307,
    "start_time": "2023-05-29T19:48:16.943Z"
   },
   {
    "duration": 4,
    "start_time": "2023-05-29T19:48:21.522Z"
   },
   {
    "duration": 2149,
    "start_time": "2023-05-29T19:48:24.428Z"
   },
   {
    "duration": 31,
    "start_time": "2023-05-29T19:48:46.111Z"
   },
   {
    "duration": 7,
    "start_time": "2023-05-29T19:48:57.441Z"
   },
   {
    "duration": 8,
    "start_time": "2023-05-29T19:48:57.750Z"
   },
   {
    "duration": 7,
    "start_time": "2023-05-29T19:48:58.128Z"
   },
   {
    "duration": 48,
    "start_time": "2023-05-29T19:48:58.455Z"
   },
   {
    "duration": 1570,
    "start_time": "2023-05-29T19:49:06.493Z"
   },
   {
    "duration": 221,
    "start_time": "2023-05-29T19:49:08.065Z"
   },
   {
    "duration": 4,
    "start_time": "2023-05-29T19:49:08.287Z"
   },
   {
    "duration": 47,
    "start_time": "2023-05-29T19:49:08.293Z"
   },
   {
    "duration": 35,
    "start_time": "2023-05-29T19:49:08.342Z"
   },
   {
    "duration": 42,
    "start_time": "2023-05-29T19:49:08.383Z"
   },
   {
    "duration": 126,
    "start_time": "2023-05-29T19:49:08.426Z"
   },
   {
    "duration": 126,
    "start_time": "2023-05-29T19:49:08.553Z"
   },
   {
    "duration": 16,
    "start_time": "2023-05-29T19:49:08.681Z"
   },
   {
    "duration": 147,
    "start_time": "2023-05-29T19:49:08.699Z"
   },
   {
    "duration": 139,
    "start_time": "2023-05-29T19:49:08.847Z"
   },
   {
    "duration": 31,
    "start_time": "2023-05-29T19:49:08.992Z"
   },
   {
    "duration": 40,
    "start_time": "2023-05-29T19:49:09.026Z"
   },
   {
    "duration": 12,
    "start_time": "2023-05-29T19:49:09.085Z"
   },
   {
    "duration": 96,
    "start_time": "2023-05-29T19:49:09.100Z"
   },
   {
    "duration": 46,
    "start_time": "2023-05-29T19:49:09.200Z"
   },
   {
    "duration": 20,
    "start_time": "2023-05-29T19:49:09.248Z"
   },
   {
    "duration": 518,
    "start_time": "2023-05-29T19:49:09.271Z"
   },
   {
    "duration": 23,
    "start_time": "2023-05-29T19:49:09.799Z"
   },
   {
    "duration": 29,
    "start_time": "2023-05-29T19:49:09.824Z"
   },
   {
    "duration": 73,
    "start_time": "2023-05-29T19:49:09.861Z"
   },
   {
    "duration": 49,
    "start_time": "2023-05-29T19:49:09.939Z"
   },
   {
    "duration": 82,
    "start_time": "2023-05-29T19:49:09.990Z"
   },
   {
    "duration": 2266,
    "start_time": "2023-05-29T19:49:10.077Z"
   },
   {
    "duration": 457,
    "start_time": "2023-05-29T19:49:12.346Z"
   },
   {
    "duration": 13,
    "start_time": "2023-05-29T19:49:12.806Z"
   },
   {
    "duration": 11,
    "start_time": "2023-05-29T19:49:12.821Z"
   },
   {
    "duration": 56,
    "start_time": "2023-05-29T19:49:12.834Z"
   },
   {
    "duration": 143,
    "start_time": "2023-05-29T19:49:12.899Z"
   },
   {
    "duration": 27,
    "start_time": "2023-05-29T19:49:13.043Z"
   },
   {
    "duration": 44,
    "start_time": "2023-05-29T19:49:13.074Z"
   },
   {
    "duration": 8,
    "start_time": "2023-05-29T19:49:13.122Z"
   },
   {
    "duration": 40,
    "start_time": "2023-05-29T19:49:13.132Z"
   },
   {
    "duration": 15,
    "start_time": "2023-05-29T19:49:13.178Z"
   },
   {
    "duration": 66,
    "start_time": "2023-05-29T19:49:13.199Z"
   },
   {
    "duration": 52,
    "start_time": "2023-05-29T19:49:13.270Z"
   },
   {
    "duration": 65,
    "start_time": "2023-05-29T19:49:13.324Z"
   },
   {
    "duration": 49,
    "start_time": "2023-05-29T19:49:13.391Z"
   },
   {
    "duration": 192,
    "start_time": "2023-05-29T19:49:13.441Z"
   },
   {
    "duration": 195,
    "start_time": "2023-05-29T19:49:13.634Z"
   },
   {
    "duration": 18,
    "start_time": "2023-05-29T19:51:53.548Z"
   },
   {
    "duration": 1489,
    "start_time": "2023-05-29T19:51:58.714Z"
   },
   {
    "duration": 198,
    "start_time": "2023-05-29T19:52:00.211Z"
   },
   {
    "duration": 4,
    "start_time": "2023-05-29T19:52:00.411Z"
   },
   {
    "duration": 66,
    "start_time": "2023-05-29T19:52:00.417Z"
   },
   {
    "duration": 43,
    "start_time": "2023-05-29T19:52:00.485Z"
   },
   {
    "duration": 54,
    "start_time": "2023-05-29T19:52:00.530Z"
   },
   {
    "duration": 143,
    "start_time": "2023-05-29T19:52:00.592Z"
   },
   {
    "duration": 130,
    "start_time": "2023-05-29T19:52:00.738Z"
   },
   {
    "duration": 26,
    "start_time": "2023-05-29T19:52:00.874Z"
   },
   {
    "duration": 178,
    "start_time": "2023-05-29T19:52:00.905Z"
   },
   {
    "duration": 115,
    "start_time": "2023-05-29T19:52:01.087Z"
   },
   {
    "duration": 33,
    "start_time": "2023-05-29T19:52:01.207Z"
   },
   {
    "duration": 51,
    "start_time": "2023-05-29T19:52:01.249Z"
   },
   {
    "duration": 22,
    "start_time": "2023-05-29T19:52:01.309Z"
   },
   {
    "duration": 84,
    "start_time": "2023-05-29T19:52:01.338Z"
   },
   {
    "duration": 59,
    "start_time": "2023-05-29T19:52:01.424Z"
   },
   {
    "duration": 8,
    "start_time": "2023-05-29T19:52:01.486Z"
   },
   {
    "duration": 894,
    "start_time": "2023-05-29T19:52:01.496Z"
   },
   {
    "duration": 31,
    "start_time": "2023-05-29T19:52:02.393Z"
   },
   {
    "duration": 49,
    "start_time": "2023-05-29T19:52:02.427Z"
   },
   {
    "duration": 102,
    "start_time": "2023-05-29T19:52:02.483Z"
   },
   {
    "duration": 49,
    "start_time": "2023-05-29T19:52:02.592Z"
   },
   {
    "duration": 119,
    "start_time": "2023-05-29T19:52:02.649Z"
   },
   {
    "duration": 3110,
    "start_time": "2023-05-29T19:52:02.776Z"
   },
   {
    "duration": 713,
    "start_time": "2023-05-29T19:52:05.899Z"
   },
   {
    "duration": 43,
    "start_time": "2023-05-29T19:52:06.619Z"
   },
   {
    "duration": 32,
    "start_time": "2023-05-29T19:52:06.666Z"
   },
   {
    "duration": 106,
    "start_time": "2023-05-29T19:52:06.702Z"
   },
   {
    "duration": 193,
    "start_time": "2023-05-29T19:52:06.814Z"
   },
   {
    "duration": 17,
    "start_time": "2023-05-29T19:52:07.009Z"
   },
   {
    "duration": 25,
    "start_time": "2023-05-29T19:52:07.029Z"
   },
   {
    "duration": 22,
    "start_time": "2023-05-29T19:52:07.056Z"
   },
   {
    "duration": 48,
    "start_time": "2023-05-29T19:52:07.082Z"
   },
   {
    "duration": 14,
    "start_time": "2023-05-29T19:52:07.134Z"
   },
   {
    "duration": 324,
    "start_time": "2023-05-29T19:52:07.149Z"
   },
   {
    "duration": 0,
    "start_time": "2023-05-29T19:52:07.476Z"
   },
   {
    "duration": 0,
    "start_time": "2023-05-29T19:52:07.477Z"
   },
   {
    "duration": 0,
    "start_time": "2023-05-29T19:52:07.478Z"
   },
   {
    "duration": 0,
    "start_time": "2023-05-29T19:52:07.479Z"
   },
   {
    "duration": 0,
    "start_time": "2023-05-29T19:52:07.480Z"
   },
   {
    "duration": 73,
    "start_time": "2023-05-29T19:52:24.599Z"
   },
   {
    "duration": 55,
    "start_time": "2023-05-29T19:55:21.024Z"
   },
   {
    "duration": 1451,
    "start_time": "2023-05-29T19:55:33.339Z"
   },
   {
    "duration": 189,
    "start_time": "2023-05-29T19:55:34.801Z"
   },
   {
    "duration": 15,
    "start_time": "2023-05-29T19:55:34.995Z"
   },
   {
    "duration": 25,
    "start_time": "2023-05-29T19:55:35.011Z"
   },
   {
    "duration": 22,
    "start_time": "2023-05-29T19:55:35.038Z"
   },
   {
    "duration": 64,
    "start_time": "2023-05-29T19:55:35.064Z"
   },
   {
    "duration": 103,
    "start_time": "2023-05-29T19:55:35.130Z"
   },
   {
    "duration": 109,
    "start_time": "2023-05-29T19:55:35.235Z"
   },
   {
    "duration": 20,
    "start_time": "2023-05-29T19:55:35.346Z"
   },
   {
    "duration": 127,
    "start_time": "2023-05-29T19:55:35.368Z"
   },
   {
    "duration": 109,
    "start_time": "2023-05-29T19:55:35.496Z"
   },
   {
    "duration": 32,
    "start_time": "2023-05-29T19:55:35.612Z"
   },
   {
    "duration": 42,
    "start_time": "2023-05-29T19:55:35.647Z"
   },
   {
    "duration": 23,
    "start_time": "2023-05-29T19:55:35.694Z"
   },
   {
    "duration": 73,
    "start_time": "2023-05-29T19:55:35.720Z"
   },
   {
    "duration": 47,
    "start_time": "2023-05-29T19:55:35.795Z"
   },
   {
    "duration": 7,
    "start_time": "2023-05-29T19:55:35.844Z"
   },
   {
    "duration": 579,
    "start_time": "2023-05-29T19:55:35.853Z"
   },
   {
    "duration": 35,
    "start_time": "2023-05-29T19:55:36.434Z"
   },
   {
    "duration": 42,
    "start_time": "2023-05-29T19:55:36.480Z"
   },
   {
    "duration": 54,
    "start_time": "2023-05-29T19:55:36.524Z"
   },
   {
    "duration": 40,
    "start_time": "2023-05-29T19:55:36.589Z"
   },
   {
    "duration": 67,
    "start_time": "2023-05-29T19:55:36.632Z"
   },
   {
    "duration": 2051,
    "start_time": "2023-05-29T19:55:36.701Z"
   },
   {
    "duration": 472,
    "start_time": "2023-05-29T19:55:38.754Z"
   },
   {
    "duration": 14,
    "start_time": "2023-05-29T19:55:39.228Z"
   },
   {
    "duration": 22,
    "start_time": "2023-05-29T19:55:39.244Z"
   },
   {
    "duration": 86,
    "start_time": "2023-05-29T19:55:39.273Z"
   },
   {
    "duration": 141,
    "start_time": "2023-05-29T19:55:39.361Z"
   },
   {
    "duration": 15,
    "start_time": "2023-05-29T19:55:39.511Z"
   },
   {
    "duration": 38,
    "start_time": "2023-05-29T19:55:39.528Z"
   },
   {
    "duration": 19,
    "start_time": "2023-05-29T19:55:39.568Z"
   },
   {
    "duration": 42,
    "start_time": "2023-05-29T19:55:39.590Z"
   },
   {
    "duration": 9,
    "start_time": "2023-05-29T19:55:39.635Z"
   },
   {
    "duration": 85,
    "start_time": "2023-05-29T19:55:39.646Z"
   },
   {
    "duration": 5,
    "start_time": "2023-05-29T19:55:39.734Z"
   },
   {
    "duration": 0,
    "start_time": "2023-05-29T19:55:39.741Z"
   },
   {
    "duration": 0,
    "start_time": "2023-05-29T19:55:39.742Z"
   },
   {
    "duration": 0,
    "start_time": "2023-05-29T19:55:39.744Z"
   },
   {
    "duration": 0,
    "start_time": "2023-05-29T19:55:39.745Z"
   },
   {
    "duration": 53,
    "start_time": "2023-05-29T19:55:48.540Z"
   },
   {
    "duration": 54,
    "start_time": "2023-05-29T19:55:48.799Z"
   },
   {
    "duration": 53,
    "start_time": "2023-05-29T19:55:49.016Z"
   },
   {
    "duration": 200,
    "start_time": "2023-05-29T19:55:49.222Z"
   },
   {
    "duration": 210,
    "start_time": "2023-05-29T19:55:49.425Z"
   },
   {
    "duration": 274,
    "start_time": "2023-05-29T19:56:03.515Z"
   },
   {
    "duration": 22,
    "start_time": "2023-05-29T19:56:20.094Z"
   },
   {
    "duration": 75,
    "start_time": "2023-05-29T19:56:21.018Z"
   },
   {
    "duration": 54,
    "start_time": "2023-05-29T19:56:21.215Z"
   },
   {
    "duration": 64,
    "start_time": "2023-05-29T19:56:21.393Z"
   },
   {
    "duration": 65,
    "start_time": "2023-05-29T19:56:21.539Z"
   },
   {
    "duration": 245,
    "start_time": "2023-05-29T19:56:21.735Z"
   },
   {
    "duration": 228,
    "start_time": "2023-05-29T19:56:21.985Z"
   },
   {
    "duration": 266,
    "start_time": "2023-05-29T19:56:22.217Z"
   },
   {
    "duration": 35,
    "start_time": "2023-05-29T21:05:08.896Z"
   },
   {
    "duration": 105,
    "start_time": "2023-05-29T21:19:07.826Z"
   },
   {
    "duration": 1146,
    "start_time": "2023-05-30T07:03:59.020Z"
   },
   {
    "duration": 149,
    "start_time": "2023-05-30T07:04:00.168Z"
   },
   {
    "duration": 4,
    "start_time": "2023-05-30T07:04:00.326Z"
   },
   {
    "duration": 62,
    "start_time": "2023-05-30T07:04:00.332Z"
   },
   {
    "duration": 76,
    "start_time": "2023-05-30T07:04:00.396Z"
   },
   {
    "duration": 66,
    "start_time": "2023-05-30T07:04:00.475Z"
   },
   {
    "duration": 97,
    "start_time": "2023-05-30T07:04:00.543Z"
   },
   {
    "duration": 76,
    "start_time": "2023-05-30T07:04:00.642Z"
   },
   {
    "duration": 13,
    "start_time": "2023-05-30T07:04:00.720Z"
   },
   {
    "duration": 118,
    "start_time": "2023-05-30T07:04:00.735Z"
   },
   {
    "duration": 80,
    "start_time": "2023-05-30T07:04:00.855Z"
   },
   {
    "duration": 19,
    "start_time": "2023-05-30T07:04:00.937Z"
   },
   {
    "duration": 65,
    "start_time": "2023-05-30T07:04:00.960Z"
   },
   {
    "duration": 44,
    "start_time": "2023-05-30T07:04:01.027Z"
   },
   {
    "duration": 102,
    "start_time": "2023-05-30T07:04:01.072Z"
   },
   {
    "duration": 29,
    "start_time": "2023-05-30T07:04:01.176Z"
   },
   {
    "duration": 21,
    "start_time": "2023-05-30T07:04:01.207Z"
   },
   {
    "duration": 402,
    "start_time": "2023-05-30T07:04:01.230Z"
   },
   {
    "duration": 15,
    "start_time": "2023-05-30T07:04:01.634Z"
   },
   {
    "duration": 45,
    "start_time": "2023-05-30T07:04:01.652Z"
   },
   {
    "duration": 92,
    "start_time": "2023-05-30T07:04:01.699Z"
   },
   {
    "duration": 36,
    "start_time": "2023-05-30T07:04:01.793Z"
   },
   {
    "duration": 138,
    "start_time": "2023-05-30T07:04:01.832Z"
   },
   {
    "duration": 1606,
    "start_time": "2023-05-30T07:04:01.972Z"
   },
   {
    "duration": 551,
    "start_time": "2023-05-30T07:04:03.580Z"
   },
   {
    "duration": 12,
    "start_time": "2023-05-30T07:04:04.132Z"
   },
   {
    "duration": 15,
    "start_time": "2023-05-30T07:04:04.145Z"
   },
   {
    "duration": 85,
    "start_time": "2023-05-30T07:04:04.162Z"
   },
   {
    "duration": 126,
    "start_time": "2023-05-30T07:04:04.251Z"
   },
   {
    "duration": 34,
    "start_time": "2023-05-30T07:04:04.378Z"
   },
   {
    "duration": 14,
    "start_time": "2023-05-30T07:04:04.414Z"
   },
   {
    "duration": 8,
    "start_time": "2023-05-30T07:04:04.430Z"
   },
   {
    "duration": 18,
    "start_time": "2023-05-30T07:04:04.440Z"
   },
   {
    "duration": 7,
    "start_time": "2023-05-30T07:04:04.460Z"
   },
   {
    "duration": 84,
    "start_time": "2023-05-30T07:04:04.469Z"
   },
   {
    "duration": 39,
    "start_time": "2023-05-30T07:04:04.555Z"
   },
   {
    "duration": 59,
    "start_time": "2023-05-30T07:04:04.608Z"
   },
   {
    "duration": 60,
    "start_time": "2023-05-30T07:04:04.669Z"
   },
   {
    "duration": 167,
    "start_time": "2023-05-30T07:04:04.730Z"
   },
   {
    "duration": 176,
    "start_time": "2023-05-30T07:04:04.901Z"
   },
   {
    "duration": 194,
    "start_time": "2023-05-30T07:04:05.079Z"
   },
   {
    "duration": 48,
    "start_time": "2023-05-30T08:48:59.153Z"
   },
   {
    "duration": 1486,
    "start_time": "2023-05-30T08:49:03.101Z"
   },
   {
    "duration": 562,
    "start_time": "2023-05-30T08:49:04.590Z"
   },
   {
    "duration": 4,
    "start_time": "2023-05-30T08:49:05.153Z"
   },
   {
    "duration": 18,
    "start_time": "2023-05-30T08:49:05.159Z"
   },
   {
    "duration": 21,
    "start_time": "2023-05-30T08:49:05.180Z"
   },
   {
    "duration": 29,
    "start_time": "2023-05-30T08:49:05.204Z"
   },
   {
    "duration": 81,
    "start_time": "2023-05-30T08:49:05.236Z"
   },
   {
    "duration": 80,
    "start_time": "2023-05-30T08:49:05.319Z"
   },
   {
    "duration": 22,
    "start_time": "2023-05-30T08:49:05.401Z"
   },
   {
    "duration": 127,
    "start_time": "2023-05-30T08:49:05.425Z"
   },
   {
    "duration": 75,
    "start_time": "2023-05-30T08:49:05.553Z"
   },
   {
    "duration": 26,
    "start_time": "2023-05-30T08:49:05.633Z"
   },
   {
    "duration": 45,
    "start_time": "2023-05-30T08:49:05.661Z"
   },
   {
    "duration": 26,
    "start_time": "2023-05-30T08:49:05.709Z"
   },
   {
    "duration": 60,
    "start_time": "2023-05-30T08:49:05.737Z"
   },
   {
    "duration": 38,
    "start_time": "2023-05-30T08:49:05.799Z"
   },
   {
    "duration": 82,
    "start_time": "2023-05-30T08:49:05.839Z"
   },
   {
    "duration": 389,
    "start_time": "2023-05-30T08:49:05.922Z"
   },
   {
    "duration": 8,
    "start_time": "2023-05-30T08:49:06.324Z"
   },
   {
    "duration": 34,
    "start_time": "2023-05-30T08:49:06.334Z"
   },
   {
    "duration": 45,
    "start_time": "2023-05-30T08:49:06.369Z"
   },
   {
    "duration": 62,
    "start_time": "2023-05-30T08:49:06.416Z"
   },
   {
    "duration": 26,
    "start_time": "2023-05-30T08:49:06.480Z"
   },
   {
    "duration": 72,
    "start_time": "2023-05-30T08:49:06.508Z"
   },
   {
    "duration": 1733,
    "start_time": "2023-05-30T08:49:06.582Z"
   },
   {
    "duration": 401,
    "start_time": "2023-05-30T08:49:08.317Z"
   },
   {
    "duration": 14,
    "start_time": "2023-05-30T08:49:08.736Z"
   },
   {
    "duration": 16,
    "start_time": "2023-05-30T08:49:08.752Z"
   },
   {
    "duration": 75,
    "start_time": "2023-05-30T08:49:08.770Z"
   },
   {
    "duration": 117,
    "start_time": "2023-05-30T08:49:08.847Z"
   },
   {
    "duration": 7,
    "start_time": "2023-05-30T08:49:08.966Z"
   },
   {
    "duration": 9,
    "start_time": "2023-05-30T08:49:08.974Z"
   },
   {
    "duration": 6,
    "start_time": "2023-05-30T08:49:08.985Z"
   },
   {
    "duration": 49,
    "start_time": "2023-05-30T08:49:08.993Z"
   },
   {
    "duration": 7,
    "start_time": "2023-05-30T08:49:09.043Z"
   },
   {
    "duration": 69,
    "start_time": "2023-05-30T08:49:09.052Z"
   },
   {
    "duration": 42,
    "start_time": "2023-05-30T08:49:09.123Z"
   },
   {
    "duration": 65,
    "start_time": "2023-05-30T08:49:09.166Z"
   },
   {
    "duration": 43,
    "start_time": "2023-05-30T08:49:09.233Z"
   },
   {
    "duration": 194,
    "start_time": "2023-05-30T08:49:09.278Z"
   },
   {
    "duration": 190,
    "start_time": "2023-05-30T08:49:09.476Z"
   },
   {
    "duration": 204,
    "start_time": "2023-05-30T08:49:09.667Z"
   },
   {
    "duration": 4,
    "start_time": "2023-05-30T08:49:26.175Z"
   },
   {
    "duration": 4,
    "start_time": "2023-05-30T08:49:31.425Z"
   },
   {
    "duration": 5,
    "start_time": "2023-05-30T08:50:37.653Z"
   },
   {
    "duration": 3,
    "start_time": "2023-05-30T08:52:28.557Z"
   },
   {
    "duration": 3,
    "start_time": "2023-05-30T08:53:05.539Z"
   },
   {
    "duration": 4,
    "start_time": "2023-05-30T08:54:06.859Z"
   },
   {
    "duration": 3,
    "start_time": "2023-05-30T08:54:20.346Z"
   },
   {
    "duration": 3,
    "start_time": "2023-05-30T08:54:24.787Z"
   },
   {
    "duration": 3,
    "start_time": "2023-05-30T08:54:44.108Z"
   },
   {
    "duration": 100,
    "start_time": "2023-05-30T08:54:51.873Z"
   },
   {
    "duration": 4,
    "start_time": "2023-05-30T08:55:02.018Z"
   },
   {
    "duration": 1315,
    "start_time": "2023-05-30T08:55:05.867Z"
   },
   {
    "duration": 155,
    "start_time": "2023-05-30T08:55:07.184Z"
   },
   {
    "duration": 3,
    "start_time": "2023-05-30T08:55:07.341Z"
   },
   {
    "duration": 23,
    "start_time": "2023-05-30T08:55:07.345Z"
   },
   {
    "duration": 18,
    "start_time": "2023-05-30T08:55:07.370Z"
   },
   {
    "duration": 36,
    "start_time": "2023-05-30T08:55:07.390Z"
   },
   {
    "duration": 95,
    "start_time": "2023-05-30T08:55:07.429Z"
   },
   {
    "duration": 79,
    "start_time": "2023-05-30T08:55:07.526Z"
   },
   {
    "duration": 17,
    "start_time": "2023-05-30T08:55:07.617Z"
   },
   {
    "duration": 113,
    "start_time": "2023-05-30T08:55:07.636Z"
   },
   {
    "duration": 87,
    "start_time": "2023-05-30T08:55:07.750Z"
   },
   {
    "duration": 21,
    "start_time": "2023-05-30T08:55:07.838Z"
   },
   {
    "duration": 26,
    "start_time": "2023-05-30T08:55:07.860Z"
   },
   {
    "duration": 7,
    "start_time": "2023-05-30T08:55:07.889Z"
   },
   {
    "duration": 47,
    "start_time": "2023-05-30T08:55:07.920Z"
   },
   {
    "duration": 31,
    "start_time": "2023-05-30T08:55:07.968Z"
   },
   {
    "duration": 20,
    "start_time": "2023-05-30T08:55:08.000Z"
   },
   {
    "duration": 371,
    "start_time": "2023-05-30T08:55:08.022Z"
   },
   {
    "duration": 6,
    "start_time": "2023-05-30T08:55:08.395Z"
   },
   {
    "duration": 26,
    "start_time": "2023-05-30T08:55:08.402Z"
   },
   {
    "duration": 21,
    "start_time": "2023-05-30T08:55:08.430Z"
   },
   {
    "duration": 7,
    "start_time": "2023-05-30T08:55:08.453Z"
   },
   {
    "duration": 4,
    "start_time": "2023-05-30T08:55:08.461Z"
   },
   {
    "duration": 69,
    "start_time": "2023-05-30T08:55:08.467Z"
   },
   {
    "duration": 30,
    "start_time": "2023-05-30T08:55:08.538Z"
   },
   {
    "duration": 87,
    "start_time": "2023-05-30T08:55:08.570Z"
   },
   {
    "duration": 1839,
    "start_time": "2023-05-30T08:55:08.660Z"
   },
   {
    "duration": 409,
    "start_time": "2023-05-30T08:55:10.501Z"
   },
   {
    "duration": 16,
    "start_time": "2023-05-30T08:55:10.912Z"
   },
   {
    "duration": 23,
    "start_time": "2023-05-30T08:55:10.930Z"
   },
   {
    "duration": 98,
    "start_time": "2023-05-30T08:55:10.955Z"
   },
   {
    "duration": 121,
    "start_time": "2023-05-30T08:55:11.055Z"
   },
   {
    "duration": 8,
    "start_time": "2023-05-30T08:55:11.177Z"
   },
   {
    "duration": 10,
    "start_time": "2023-05-30T08:55:11.186Z"
   },
   {
    "duration": 22,
    "start_time": "2023-05-30T08:55:11.197Z"
   },
   {
    "duration": 27,
    "start_time": "2023-05-30T08:55:11.222Z"
   },
   {
    "duration": 9,
    "start_time": "2023-05-30T08:55:11.250Z"
   },
   {
    "duration": 86,
    "start_time": "2023-05-30T08:55:11.261Z"
   },
   {
    "duration": 40,
    "start_time": "2023-05-30T08:55:11.349Z"
   },
   {
    "duration": 72,
    "start_time": "2023-05-30T08:55:11.391Z"
   },
   {
    "duration": 39,
    "start_time": "2023-05-30T08:55:11.467Z"
   },
   {
    "duration": 199,
    "start_time": "2023-05-30T08:55:11.507Z"
   },
   {
    "duration": 197,
    "start_time": "2023-05-30T08:55:11.707Z"
   },
   {
    "duration": 219,
    "start_time": "2023-05-30T08:55:11.905Z"
   },
   {
    "duration": 5,
    "start_time": "2023-05-30T08:55:59.889Z"
   },
   {
    "duration": 1194,
    "start_time": "2023-05-30T08:56:05.282Z"
   },
   {
    "duration": 172,
    "start_time": "2023-05-30T08:56:06.478Z"
   },
   {
    "duration": 2,
    "start_time": "2023-05-30T08:56:06.652Z"
   },
   {
    "duration": 29,
    "start_time": "2023-05-30T08:56:06.656Z"
   },
   {
    "duration": 23,
    "start_time": "2023-05-30T08:56:06.686Z"
   },
   {
    "duration": 43,
    "start_time": "2023-05-30T08:56:06.710Z"
   },
   {
    "duration": 91,
    "start_time": "2023-05-30T08:56:06.755Z"
   },
   {
    "duration": 71,
    "start_time": "2023-05-30T08:56:06.848Z"
   },
   {
    "duration": 17,
    "start_time": "2023-05-30T08:56:06.921Z"
   },
   {
    "duration": 104,
    "start_time": "2023-05-30T08:56:06.941Z"
   },
   {
    "duration": 86,
    "start_time": "2023-05-30T08:56:07.046Z"
   },
   {
    "duration": 23,
    "start_time": "2023-05-30T08:56:07.134Z"
   },
   {
    "duration": 45,
    "start_time": "2023-05-30T08:56:07.158Z"
   },
   {
    "duration": 18,
    "start_time": "2023-05-30T08:56:07.205Z"
   },
   {
    "duration": 55,
    "start_time": "2023-05-30T08:56:07.225Z"
   },
   {
    "duration": 30,
    "start_time": "2023-05-30T08:56:07.282Z"
   },
   {
    "duration": 7,
    "start_time": "2023-05-30T08:56:07.318Z"
   },
   {
    "duration": 387,
    "start_time": "2023-05-30T08:56:07.327Z"
   },
   {
    "duration": 6,
    "start_time": "2023-05-30T08:56:07.717Z"
   },
   {
    "duration": 27,
    "start_time": "2023-05-30T08:56:07.725Z"
   },
   {
    "duration": 20,
    "start_time": "2023-05-30T08:56:07.753Z"
   },
   {
    "duration": 6,
    "start_time": "2023-05-30T08:56:07.775Z"
   },
   {
    "duration": 13,
    "start_time": "2023-05-30T08:56:07.782Z"
   },
   {
    "duration": 61,
    "start_time": "2023-05-30T08:56:07.797Z"
   },
   {
    "duration": 26,
    "start_time": "2023-05-30T08:56:07.860Z"
   },
   {
    "duration": 83,
    "start_time": "2023-05-30T08:56:07.888Z"
   },
   {
    "duration": 1747,
    "start_time": "2023-05-30T08:56:07.972Z"
   },
   {
    "duration": 398,
    "start_time": "2023-05-30T08:56:09.724Z"
   },
   {
    "duration": 17,
    "start_time": "2023-05-30T08:56:10.123Z"
   },
   {
    "duration": 17,
    "start_time": "2023-05-30T08:56:10.141Z"
   },
   {
    "duration": 90,
    "start_time": "2023-05-30T08:56:10.159Z"
   },
   {
    "duration": 123,
    "start_time": "2023-05-30T08:56:10.250Z"
   },
   {
    "duration": 7,
    "start_time": "2023-05-30T08:56:10.375Z"
   },
   {
    "duration": 9,
    "start_time": "2023-05-30T08:56:10.384Z"
   },
   {
    "duration": 14,
    "start_time": "2023-05-30T08:56:10.395Z"
   },
   {
    "duration": 22,
    "start_time": "2023-05-30T08:56:10.418Z"
   },
   {
    "duration": 7,
    "start_time": "2023-05-30T08:56:10.442Z"
   },
   {
    "duration": 59,
    "start_time": "2023-05-30T08:56:10.450Z"
   },
   {
    "duration": 47,
    "start_time": "2023-05-30T08:56:10.519Z"
   },
   {
    "duration": 62,
    "start_time": "2023-05-30T08:56:10.567Z"
   },
   {
    "duration": 44,
    "start_time": "2023-05-30T08:56:10.631Z"
   },
   {
    "duration": 192,
    "start_time": "2023-05-30T08:56:10.676Z"
   },
   {
    "duration": 196,
    "start_time": "2023-05-30T08:56:10.869Z"
   },
   {
    "duration": 206,
    "start_time": "2023-05-30T08:56:11.067Z"
   },
   {
    "duration": 86,
    "start_time": "2023-05-30T08:58:57.142Z"
   },
   {
    "duration": 1098,
    "start_time": "2023-05-30T09:01:49.762Z"
   },
   {
    "duration": 158,
    "start_time": "2023-05-30T09:01:50.863Z"
   },
   {
    "duration": 3,
    "start_time": "2023-05-30T09:01:51.022Z"
   },
   {
    "duration": 47,
    "start_time": "2023-05-30T09:01:51.027Z"
   },
   {
    "duration": 20,
    "start_time": "2023-05-30T09:01:51.076Z"
   },
   {
    "duration": 26,
    "start_time": "2023-05-30T09:01:51.098Z"
   },
   {
    "duration": 76,
    "start_time": "2023-05-30T09:01:51.125Z"
   },
   {
    "duration": 70,
    "start_time": "2023-05-30T09:01:51.202Z"
   },
   {
    "duration": 12,
    "start_time": "2023-05-30T09:01:51.274Z"
   },
   {
    "duration": 118,
    "start_time": "2023-05-30T09:01:51.288Z"
   },
   {
    "duration": 69,
    "start_time": "2023-05-30T09:01:51.408Z"
   },
   {
    "duration": 19,
    "start_time": "2023-05-30T09:01:51.478Z"
   },
   {
    "duration": 40,
    "start_time": "2023-05-30T09:01:51.499Z"
   },
   {
    "duration": 33,
    "start_time": "2023-05-30T09:01:51.541Z"
   },
   {
    "duration": 69,
    "start_time": "2023-05-30T09:01:51.577Z"
   },
   {
    "duration": 50,
    "start_time": "2023-05-30T09:01:51.648Z"
   },
   {
    "duration": 26,
    "start_time": "2023-05-30T09:01:51.700Z"
   },
   {
    "duration": 376,
    "start_time": "2023-05-30T09:01:51.728Z"
   },
   {
    "duration": 11,
    "start_time": "2023-05-30T09:01:52.106Z"
   },
   {
    "duration": 67,
    "start_time": "2023-05-30T09:01:52.119Z"
   },
   {
    "duration": 55,
    "start_time": "2023-05-30T09:01:52.187Z"
   },
   {
    "duration": 16,
    "start_time": "2023-05-30T09:01:52.243Z"
   },
   {
    "duration": 12,
    "start_time": "2023-05-30T09:01:52.261Z"
   },
   {
    "duration": 52,
    "start_time": "2023-05-30T09:01:52.274Z"
   },
   {
    "duration": 36,
    "start_time": "2023-05-30T09:01:52.327Z"
   },
   {
    "duration": 65,
    "start_time": "2023-05-30T09:01:52.364Z"
   },
   {
    "duration": 1648,
    "start_time": "2023-05-30T09:01:52.430Z"
   },
   {
    "duration": 339,
    "start_time": "2023-05-30T09:01:54.081Z"
   },
   {
    "duration": 11,
    "start_time": "2023-05-30T09:01:54.421Z"
   },
   {
    "duration": 22,
    "start_time": "2023-05-30T09:01:54.435Z"
   },
   {
    "duration": 89,
    "start_time": "2023-05-30T09:01:54.459Z"
   },
   {
    "duration": 137,
    "start_time": "2023-05-30T09:01:54.550Z"
   },
   {
    "duration": 8,
    "start_time": "2023-05-30T09:01:54.689Z"
   },
   {
    "duration": 26,
    "start_time": "2023-05-30T09:01:54.699Z"
   },
   {
    "duration": 19,
    "start_time": "2023-05-30T09:01:54.727Z"
   },
   {
    "duration": 27,
    "start_time": "2023-05-30T09:01:54.748Z"
   },
   {
    "duration": 7,
    "start_time": "2023-05-30T09:01:54.777Z"
   },
   {
    "duration": 76,
    "start_time": "2023-05-30T09:01:54.785Z"
   },
   {
    "duration": 41,
    "start_time": "2023-05-30T09:01:54.862Z"
   },
   {
    "duration": 50,
    "start_time": "2023-05-30T09:01:54.905Z"
   },
   {
    "duration": 38,
    "start_time": "2023-05-30T09:01:54.956Z"
   },
   {
    "duration": 188,
    "start_time": "2023-05-30T09:01:54.996Z"
   },
   {
    "duration": 173,
    "start_time": "2023-05-30T09:01:55.185Z"
   },
   {
    "duration": 184,
    "start_time": "2023-05-30T09:01:55.360Z"
   },
   {
    "duration": 1175,
    "start_time": "2023-05-30T09:32:44.867Z"
   },
   {
    "duration": 154,
    "start_time": "2023-05-30T09:32:46.043Z"
   },
   {
    "duration": 3,
    "start_time": "2023-05-30T09:32:46.199Z"
   },
   {
    "duration": 29,
    "start_time": "2023-05-30T09:32:46.203Z"
   },
   {
    "duration": 16,
    "start_time": "2023-05-30T09:32:46.234Z"
   },
   {
    "duration": 33,
    "start_time": "2023-05-30T09:32:46.251Z"
   },
   {
    "duration": 77,
    "start_time": "2023-05-30T09:32:46.286Z"
   },
   {
    "duration": 78,
    "start_time": "2023-05-30T09:32:46.364Z"
   },
   {
    "duration": 10,
    "start_time": "2023-05-30T09:32:46.444Z"
   },
   {
    "duration": 88,
    "start_time": "2023-05-30T09:32:46.456Z"
   },
   {
    "duration": 82,
    "start_time": "2023-05-30T09:32:46.545Z"
   },
   {
    "duration": 20,
    "start_time": "2023-05-30T09:32:46.629Z"
   },
   {
    "duration": 17,
    "start_time": "2023-05-30T09:32:46.651Z"
   },
   {
    "duration": 8,
    "start_time": "2023-05-30T09:32:46.670Z"
   },
   {
    "duration": 67,
    "start_time": "2023-05-30T09:32:46.679Z"
   },
   {
    "duration": 27,
    "start_time": "2023-05-30T09:32:46.747Z"
   },
   {
    "duration": 5,
    "start_time": "2023-05-30T09:32:46.775Z"
   },
   {
    "duration": 385,
    "start_time": "2023-05-30T09:32:46.781Z"
   },
   {
    "duration": 6,
    "start_time": "2023-05-30T09:32:47.167Z"
   },
   {
    "duration": 34,
    "start_time": "2023-05-30T09:32:47.175Z"
   },
   {
    "duration": 22,
    "start_time": "2023-05-30T09:32:47.212Z"
   },
   {
    "duration": 5,
    "start_time": "2023-05-30T09:32:47.236Z"
   },
   {
    "duration": 4,
    "start_time": "2023-05-30T09:32:47.243Z"
   },
   {
    "duration": 58,
    "start_time": "2023-05-30T09:32:47.249Z"
   },
   {
    "duration": 25,
    "start_time": "2023-05-30T09:32:47.309Z"
   },
   {
    "duration": 53,
    "start_time": "2023-05-30T09:32:47.336Z"
   },
   {
    "duration": 1580,
    "start_time": "2023-05-30T09:32:47.406Z"
   },
   {
    "duration": 512,
    "start_time": "2023-05-30T09:32:48.988Z"
   },
   {
    "duration": 23,
    "start_time": "2023-05-30T09:32:49.502Z"
   },
   {
    "duration": 11,
    "start_time": "2023-05-30T09:32:49.527Z"
   },
   {
    "duration": 83,
    "start_time": "2023-05-30T09:32:49.540Z"
   },
   {
    "duration": 94,
    "start_time": "2023-05-30T09:32:49.625Z"
   },
   {
    "duration": 7,
    "start_time": "2023-05-30T09:32:49.720Z"
   },
   {
    "duration": 8,
    "start_time": "2023-05-30T09:32:49.729Z"
   },
   {
    "duration": 5,
    "start_time": "2023-05-30T09:32:49.739Z"
   },
   {
    "duration": 31,
    "start_time": "2023-05-30T09:32:49.746Z"
   },
   {
    "duration": 6,
    "start_time": "2023-05-30T09:32:49.779Z"
   },
   {
    "duration": 64,
    "start_time": "2023-05-30T09:32:49.787Z"
   },
   {
    "duration": 36,
    "start_time": "2023-05-30T09:32:49.853Z"
   },
   {
    "duration": 59,
    "start_time": "2023-05-30T09:32:49.891Z"
   },
   {
    "duration": 38,
    "start_time": "2023-05-30T09:32:49.953Z"
   },
   {
    "duration": 180,
    "start_time": "2023-05-30T09:32:49.992Z"
   },
   {
    "duration": 172,
    "start_time": "2023-05-30T09:32:50.174Z"
   },
   {
    "duration": 178,
    "start_time": "2023-05-30T09:32:50.347Z"
   },
   {
    "duration": 1294,
    "start_time": "2023-05-30T13:25:37.623Z"
   },
   {
    "duration": 1015,
    "start_time": "2023-05-30T13:25:38.919Z"
   },
   {
    "duration": 3,
    "start_time": "2023-05-30T13:25:39.936Z"
   },
   {
    "duration": 23,
    "start_time": "2023-05-30T13:25:39.942Z"
   },
   {
    "duration": 19,
    "start_time": "2023-05-30T13:25:39.969Z"
   },
   {
    "duration": 23,
    "start_time": "2023-05-30T13:25:39.989Z"
   },
   {
    "duration": 104,
    "start_time": "2023-05-30T13:25:40.013Z"
   },
   {
    "duration": 80,
    "start_time": "2023-05-30T13:25:40.119Z"
   },
   {
    "duration": 13,
    "start_time": "2023-05-30T13:25:40.200Z"
   },
   {
    "duration": 105,
    "start_time": "2023-05-30T13:25:40.216Z"
   },
   {
    "duration": 86,
    "start_time": "2023-05-30T13:25:40.322Z"
   },
   {
    "duration": 20,
    "start_time": "2023-05-30T13:25:40.410Z"
   },
   {
    "duration": 19,
    "start_time": "2023-05-30T13:25:40.431Z"
   },
   {
    "duration": 11,
    "start_time": "2023-05-30T13:25:40.478Z"
   },
   {
    "duration": 52,
    "start_time": "2023-05-30T13:25:40.491Z"
   },
   {
    "duration": 70,
    "start_time": "2023-05-30T13:25:40.545Z"
   },
   {
    "duration": 5,
    "start_time": "2023-05-30T13:25:40.617Z"
   },
   {
    "duration": 390,
    "start_time": "2023-05-30T13:25:40.625Z"
   },
   {
    "duration": 6,
    "start_time": "2023-05-30T13:25:41.017Z"
   },
   {
    "duration": 33,
    "start_time": "2023-05-30T13:25:41.024Z"
   },
   {
    "duration": 27,
    "start_time": "2023-05-30T13:25:41.059Z"
   },
   {
    "duration": 6,
    "start_time": "2023-05-30T13:25:41.088Z"
   },
   {
    "duration": 8,
    "start_time": "2023-05-30T13:25:41.095Z"
   },
   {
    "duration": 59,
    "start_time": "2023-05-30T13:25:41.105Z"
   },
   {
    "duration": 34,
    "start_time": "2023-05-30T13:25:41.166Z"
   },
   {
    "duration": 81,
    "start_time": "2023-05-30T13:25:41.201Z"
   },
   {
    "duration": 1552,
    "start_time": "2023-05-30T13:25:41.283Z"
   },
   {
    "duration": 354,
    "start_time": "2023-05-30T13:25:42.837Z"
   },
   {
    "duration": 16,
    "start_time": "2023-05-30T13:25:43.193Z"
   },
   {
    "duration": 13,
    "start_time": "2023-05-30T13:25:43.211Z"
   },
   {
    "duration": 88,
    "start_time": "2023-05-30T13:25:43.227Z"
   },
   {
    "duration": 130,
    "start_time": "2023-05-30T13:25:43.317Z"
   },
   {
    "duration": 8,
    "start_time": "2023-05-30T13:25:43.449Z"
   },
   {
    "duration": 22,
    "start_time": "2023-05-30T13:25:43.459Z"
   },
   {
    "duration": 9,
    "start_time": "2023-05-30T13:25:43.484Z"
   },
   {
    "duration": 29,
    "start_time": "2023-05-30T13:25:43.497Z"
   },
   {
    "duration": 7,
    "start_time": "2023-05-30T13:25:43.528Z"
   },
   {
    "duration": 77,
    "start_time": "2023-05-30T13:25:43.536Z"
   },
   {
    "duration": 43,
    "start_time": "2023-05-30T13:25:43.615Z"
   },
   {
    "duration": 50,
    "start_time": "2023-05-30T13:25:43.660Z"
   },
   {
    "duration": 38,
    "start_time": "2023-05-30T13:25:43.713Z"
   },
   {
    "duration": 185,
    "start_time": "2023-05-30T13:25:43.753Z"
   },
   {
    "duration": 185,
    "start_time": "2023-05-30T13:25:43.939Z"
   },
   {
    "duration": 196,
    "start_time": "2023-05-30T13:25:44.126Z"
   },
   {
    "duration": 1453,
    "start_time": "2023-07-20T11:17:01.869Z"
   },
   {
    "duration": 709,
    "start_time": "2023-07-20T11:17:03.324Z"
   },
   {
    "duration": 4,
    "start_time": "2023-07-20T11:17:04.035Z"
   },
   {
    "duration": 33,
    "start_time": "2023-07-20T11:17:04.040Z"
   },
   {
    "duration": 22,
    "start_time": "2023-07-20T11:17:04.077Z"
   },
   {
    "duration": 26,
    "start_time": "2023-07-20T11:17:04.101Z"
   },
   {
    "duration": 111,
    "start_time": "2023-07-20T11:17:04.130Z"
   },
   {
    "duration": 132,
    "start_time": "2023-07-20T11:17:04.243Z"
   },
   {
    "duration": 12,
    "start_time": "2023-07-20T11:17:04.377Z"
   },
   {
    "duration": 188,
    "start_time": "2023-07-20T11:17:04.391Z"
   },
   {
    "duration": 129,
    "start_time": "2023-07-20T11:17:04.581Z"
   },
   {
    "duration": 53,
    "start_time": "2023-07-20T11:17:04.712Z"
   },
   {
    "duration": 19,
    "start_time": "2023-07-20T11:17:04.766Z"
   },
   {
    "duration": 8,
    "start_time": "2023-07-20T11:17:04.788Z"
   },
   {
    "duration": 101,
    "start_time": "2023-07-20T11:17:04.859Z"
   },
   {
    "duration": 31,
    "start_time": "2023-07-20T11:17:04.962Z"
   },
   {
    "duration": 65,
    "start_time": "2023-07-20T11:17:04.994Z"
   },
   {
    "duration": 609,
    "start_time": "2023-07-20T11:17:05.061Z"
   },
   {
    "duration": 6,
    "start_time": "2023-07-20T11:17:05.672Z"
   },
   {
    "duration": 27,
    "start_time": "2023-07-20T11:17:05.680Z"
   },
   {
    "duration": 50,
    "start_time": "2023-07-20T11:17:05.709Z"
   },
   {
    "duration": 6,
    "start_time": "2023-07-20T11:17:05.761Z"
   },
   {
    "duration": 5,
    "start_time": "2023-07-20T11:17:05.769Z"
   },
   {
    "duration": 47,
    "start_time": "2023-07-20T11:17:05.775Z"
   },
   {
    "duration": 28,
    "start_time": "2023-07-20T11:17:05.858Z"
   },
   {
    "duration": 273,
    "start_time": "2023-07-20T11:17:05.888Z"
   },
   {
    "duration": 2612,
    "start_time": "2023-07-20T11:17:06.163Z"
   },
   {
    "duration": 900,
    "start_time": "2023-07-20T11:17:08.777Z"
   },
   {
    "duration": 90,
    "start_time": "2023-07-20T11:17:09.679Z"
   },
   {
    "duration": 97,
    "start_time": "2023-07-20T11:17:09.771Z"
   },
   {
    "duration": 108,
    "start_time": "2023-07-20T11:17:09.870Z"
   },
   {
    "duration": 285,
    "start_time": "2023-07-20T11:17:09.980Z"
   },
   {
    "duration": 8,
    "start_time": "2023-07-20T11:17:10.267Z"
   },
   {
    "duration": 90,
    "start_time": "2023-07-20T11:17:10.277Z"
   },
   {
    "duration": 9,
    "start_time": "2023-07-20T11:17:10.369Z"
   },
   {
    "duration": 18,
    "start_time": "2023-07-20T11:17:10.380Z"
   },
   {
    "duration": 63,
    "start_time": "2023-07-20T11:17:10.400Z"
   },
   {
    "duration": 134,
    "start_time": "2023-07-20T11:17:10.465Z"
   },
   {
    "duration": 129,
    "start_time": "2023-07-20T11:17:10.658Z"
   },
   {
    "duration": 88,
    "start_time": "2023-07-20T11:17:10.788Z"
   },
   {
    "duration": 103,
    "start_time": "2023-07-20T11:17:10.879Z"
   },
   {
    "duration": 495,
    "start_time": "2023-07-20T11:17:10.984Z"
   },
   {
    "duration": 708,
    "start_time": "2023-07-20T11:17:11.481Z"
   },
   {
    "duration": 630,
    "start_time": "2023-07-20T11:17:12.258Z"
   },
   {
    "duration": 49,
    "start_time": "2023-07-20T12:45:21.932Z"
   },
   {
    "duration": 4,
    "start_time": "2023-07-20T15:21:06.828Z"
   },
   {
    "duration": 5,
    "start_time": "2023-07-20T15:21:18.952Z"
   },
   {
    "duration": 13,
    "start_time": "2023-07-20T16:56:49.042Z"
   }
  ],
  "kernelspec": {
   "display_name": "Python 3 (ipykernel)",
   "language": "python",
   "name": "python3"
  },
  "language_info": {
   "codemirror_mode": {
    "name": "ipython",
    "version": 3
   },
   "file_extension": ".py",
   "mimetype": "text/x-python",
   "name": "python",
   "nbconvert_exporter": "python",
   "pygments_lexer": "ipython3",
   "version": "3.9.13"
  },
  "toc": {
   "base_numbering": 1,
   "nav_menu": {},
   "number_sections": true,
   "sideBar": true,
   "skip_h1_title": true,
   "title_cell": "Table of Contents",
   "title_sidebar": "Contents",
   "toc_cell": false,
   "toc_position": {},
   "toc_section_display": true,
   "toc_window_display": false
  }
 },
 "nbformat": 4,
 "nbformat_minor": 2
}
