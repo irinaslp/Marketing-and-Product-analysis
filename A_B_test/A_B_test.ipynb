{
 "cells": [
  {
   "cell_type": "markdown",
   "metadata": {},
   "source": [
    "# Проект по А-В-тестированию"
   ]
  },
  {
   "cell_type": "markdown",
   "metadata": {},
   "source": [
    "**Задача** — провести оценку результатов A/B-теста. В распоряжении есть датасет с действиями пользователей, техническое задание и несколько вспомогательных датасетов.\n",
    "\n",
    "Необходимо оценить корректность проведения теста и проанализируйте его результаты.\n",
    "\n",
    "Чтобы оценить корректность проведения теста:\n",
    "\n",
    "- удостовериться, что нет пересечений с конкурирующим тестом и нет пользователей, участвующих в двух группах теста одновременно;\n",
    "- проверить равномерность распределения пользователей по тестовым группам и правильность их формирования."
   ]
  },
  {
   "cell_type": "markdown",
   "metadata": {},
   "source": [
    "**Целью** работы является оценка результатов А/В-тестирования, при этом необходимо обозначить возможность их применения и при возможности выдвинуть рекомендации."
   ]
  },
  {
   "cell_type": "markdown",
   "metadata": {},
   "source": [
    "# Итоги исследования"
   ]
  },
  {
   "cell_type": "markdown",
   "metadata": {},
   "source": [
    "**Была нарушена процедура применения А/В-тестирования:**\n",
    "\n",
    "данные не соответствуют ТЗ (в дате проведения, количестве участников, наличии смежных акций и тестов, влияющих на пользователей, не все пользователи из необходимого региона);\n",
    "\n",
    "пользователи за неделю выполняют практически все действия, необходимость проведения теста 14 дней отсутствует при данных показателях (которые могут быть искажены из-за преждевременного окончания сбора данных по событиям);\n",
    "\n",
    "z-тест показал, что значимая разница между долями присутствует только в событии product_page.\n",
    "\n",
    "\n",
    "**Вывод при имеющихся данных:**\n",
    "\n",
    "анализ воронки показал, что группа А имеет лучшие метрики, чем группа В. При этом совершение покупки в группе А происходит на 4% больше, чем в группе В;\n",
    "\n",
    "**Рекомендуется провести повторное А/В-тестирование**"
   ]
  },
  {
   "cell_type": "markdown",
   "metadata": {},
   "source": [
    "## Техническое задание"
   ]
  },
  {
   "cell_type": "markdown",
   "metadata": {},
   "source": [
    "Название теста: recommender_system_test;\n",
    "\n",
    "Группы: А (контрольная), B (новая платёжная воронка);\n",
    "\n",
    "Дата запуска: 2020-12-07;\n",
    "\n",
    "Дата остановки набора новых пользователей: 2020-12-21;\n",
    "\n",
    "Дата остановки: 2021-01-04;\n",
    "\n",
    "Аудитория: 15% новых пользователей из региона EU;\n",
    "\n",
    "Назначение теста: тестирование изменений, связанных с внедрением улучшенной рекомендательной системы;\n",
    "\n",
    "Ожидаемое количество участников теста: 6000.\n",
    "\n",
    "Ожидаемый эффект: за 14 дней с момента регистрации в системе пользователи покажут улучшение каждой метрики не менее, чем на 10%:\n",
    "\n",
    "- конверсии в просмотр карточек товаров — событие product_page\n",
    "- просмотры корзины — product_cart \n",
    "- покупки — purchase.\n",
    "\n",
    "Загрузить данные теста, проверить корректность его проведения и проанализировать полученные результаты."
   ]
  },
  {
   "cell_type": "markdown",
   "metadata": {},
   "source": [
    "## Загрузка данных"
   ]
  },
  {
   "cell_type": "code",
   "execution_count": 1,
   "metadata": {},
   "outputs": [],
   "source": [
    "import pandas as pd\n",
    "import matplotlib.pyplot as plt\n",
    "import seaborn as sns\n",
    "import plotly.express as px\n",
    "from plotly import graph_objects as go\n",
    "import numpy as np\n",
    "import math as mth\n",
    "from scipy import stats as st"
   ]
  },
  {
   "cell_type": "code",
   "execution_count": 2,
   "metadata": {},
   "outputs": [],
   "source": [
    "path_m = 'https://code.s3.yandex.net/datasets/ab_project_marketing_events.csv'\n",
    "path_u = 'https://code.s3.yandex.net/datasets/final_ab_new_users.csv'\n",
    "path_e = 'https://code.s3.yandex.net/datasets/final_ab_events.csv'\n",
    "path_p = 'https://code.s3.yandex.net/datasets/final_ab_participants.csv'"
   ]
  },
  {
   "cell_type": "markdown",
   "metadata": {},
   "source": [
    "/datasets/ab_project_marketing_events.csv — календарь маркетинговых событий на 2020 год;\n",
    "\n",
    "Структура файла:\n",
    "- name — название маркетингового события;\n",
    "- regions — регионы, в которых будет проводиться рекламная кампания;\n",
    "- start_dt — дата начала кампании;\n",
    "- finish_dt — дата завершения кампании.\n",
    "\n",
    "/datasets/final_ab_new_users.csv — все пользователи, зарегистрировавшиеся в интернет-магазине в период с 7 по 21 декабря 2020 года;\n",
    "\n",
    "Структура файла:\n",
    "- user_id — идентификатор пользователя;\n",
    "- first_date — дата регистрации;\n",
    "- region — регион пользователя;\n",
    "- device — устройство, с которого происходила регистрация.\n",
    "\n",
    "/datasets/final_ab_events.csv — все события новых пользователей в период с 7 декабря 2020 по 4 января 2021 года;\n",
    "\n",
    "Структура файла:\n",
    "- user_id — идентификатор пользователя;\n",
    "- event_dt — дата и время события;\n",
    "- event_name — тип события;\n",
    "- details — дополнительные данные о событии. Например, для покупок, purchase, в этом поле хранится стоимость покупки в долларах.\n",
    "\n",
    "/datasets/final_ab_participants.csv — таблица участников тестов.\n",
    "\n",
    "Структура файла:\n",
    "- user_id — идентификатор пользователя;\n",
    "- ab_test — название теста;\n",
    "- group — группа пользователя."
   ]
  },
  {
   "cell_type": "code",
   "execution_count": 3,
   "metadata": {},
   "outputs": [
    {
     "data": {
      "text/html": [
       "<div>\n",
       "<style scoped>\n",
       "    .dataframe tbody tr th:only-of-type {\n",
       "        vertical-align: middle;\n",
       "    }\n",
       "\n",
       "    .dataframe tbody tr th {\n",
       "        vertical-align: top;\n",
       "    }\n",
       "\n",
       "    .dataframe thead th {\n",
       "        text-align: right;\n",
       "    }\n",
       "</style>\n",
       "<table border=\"1\" class=\"dataframe\">\n",
       "  <thead>\n",
       "    <tr style=\"text-align: right;\">\n",
       "      <th></th>\n",
       "      <th>name</th>\n",
       "      <th>regions</th>\n",
       "      <th>start_dt</th>\n",
       "      <th>finish_dt</th>\n",
       "    </tr>\n",
       "  </thead>\n",
       "  <tbody>\n",
       "    <tr>\n",
       "      <th>0</th>\n",
       "      <td>Christmas&amp;New Year Promo</td>\n",
       "      <td>EU, N.America</td>\n",
       "      <td>2020-12-25</td>\n",
       "      <td>2021-01-03</td>\n",
       "    </tr>\n",
       "    <tr>\n",
       "      <th>1</th>\n",
       "      <td>St. Valentine's Day Giveaway</td>\n",
       "      <td>EU, CIS, APAC, N.America</td>\n",
       "      <td>2020-02-14</td>\n",
       "      <td>2020-02-16</td>\n",
       "    </tr>\n",
       "    <tr>\n",
       "      <th>2</th>\n",
       "      <td>St. Patric's Day Promo</td>\n",
       "      <td>EU, N.America</td>\n",
       "      <td>2020-03-17</td>\n",
       "      <td>2020-03-19</td>\n",
       "    </tr>\n",
       "    <tr>\n",
       "      <th>3</th>\n",
       "      <td>Easter Promo</td>\n",
       "      <td>EU, CIS, APAC, N.America</td>\n",
       "      <td>2020-04-12</td>\n",
       "      <td>2020-04-19</td>\n",
       "    </tr>\n",
       "    <tr>\n",
       "      <th>4</th>\n",
       "      <td>4th of July Promo</td>\n",
       "      <td>N.America</td>\n",
       "      <td>2020-07-04</td>\n",
       "      <td>2020-07-11</td>\n",
       "    </tr>\n",
       "    <tr>\n",
       "      <th>5</th>\n",
       "      <td>Black Friday Ads Campaign</td>\n",
       "      <td>EU, CIS, APAC, N.America</td>\n",
       "      <td>2020-11-26</td>\n",
       "      <td>2020-12-01</td>\n",
       "    </tr>\n",
       "    <tr>\n",
       "      <th>6</th>\n",
       "      <td>Chinese New Year Promo</td>\n",
       "      <td>APAC</td>\n",
       "      <td>2020-01-25</td>\n",
       "      <td>2020-02-07</td>\n",
       "    </tr>\n",
       "    <tr>\n",
       "      <th>7</th>\n",
       "      <td>Labor day (May 1st) Ads Campaign</td>\n",
       "      <td>EU, CIS, APAC</td>\n",
       "      <td>2020-05-01</td>\n",
       "      <td>2020-05-03</td>\n",
       "    </tr>\n",
       "    <tr>\n",
       "      <th>8</th>\n",
       "      <td>International Women's Day Promo</td>\n",
       "      <td>EU, CIS, APAC</td>\n",
       "      <td>2020-03-08</td>\n",
       "      <td>2020-03-10</td>\n",
       "    </tr>\n",
       "    <tr>\n",
       "      <th>9</th>\n",
       "      <td>Victory Day CIS (May 9th) Event</td>\n",
       "      <td>CIS</td>\n",
       "      <td>2020-05-09</td>\n",
       "      <td>2020-05-11</td>\n",
       "    </tr>\n",
       "    <tr>\n",
       "      <th>10</th>\n",
       "      <td>CIS New Year Gift Lottery</td>\n",
       "      <td>CIS</td>\n",
       "      <td>2020-12-30</td>\n",
       "      <td>2021-01-07</td>\n",
       "    </tr>\n",
       "    <tr>\n",
       "      <th>11</th>\n",
       "      <td>Dragon Boat Festival Giveaway</td>\n",
       "      <td>APAC</td>\n",
       "      <td>2020-06-25</td>\n",
       "      <td>2020-07-01</td>\n",
       "    </tr>\n",
       "    <tr>\n",
       "      <th>12</th>\n",
       "      <td>Single's Day Gift Promo</td>\n",
       "      <td>APAC</td>\n",
       "      <td>2020-11-11</td>\n",
       "      <td>2020-11-12</td>\n",
       "    </tr>\n",
       "    <tr>\n",
       "      <th>13</th>\n",
       "      <td>Chinese Moon Festival</td>\n",
       "      <td>APAC</td>\n",
       "      <td>2020-10-01</td>\n",
       "      <td>2020-10-07</td>\n",
       "    </tr>\n",
       "  </tbody>\n",
       "</table>\n",
       "</div>"
      ],
      "text/plain": [
       "                                name                   regions   start_dt  \\\n",
       "0           Christmas&New Year Promo             EU, N.America 2020-12-25   \n",
       "1       St. Valentine's Day Giveaway  EU, CIS, APAC, N.America 2020-02-14   \n",
       "2             St. Patric's Day Promo             EU, N.America 2020-03-17   \n",
       "3                       Easter Promo  EU, CIS, APAC, N.America 2020-04-12   \n",
       "4                  4th of July Promo                 N.America 2020-07-04   \n",
       "5          Black Friday Ads Campaign  EU, CIS, APAC, N.America 2020-11-26   \n",
       "6             Chinese New Year Promo                      APAC 2020-01-25   \n",
       "7   Labor day (May 1st) Ads Campaign             EU, CIS, APAC 2020-05-01   \n",
       "8    International Women's Day Promo             EU, CIS, APAC 2020-03-08   \n",
       "9    Victory Day CIS (May 9th) Event                       CIS 2020-05-09   \n",
       "10         CIS New Year Gift Lottery                       CIS 2020-12-30   \n",
       "11     Dragon Boat Festival Giveaway                      APAC 2020-06-25   \n",
       "12           Single's Day Gift Promo                      APAC 2020-11-11   \n",
       "13             Chinese Moon Festival                      APAC 2020-10-01   \n",
       "\n",
       "    finish_dt  \n",
       "0  2021-01-03  \n",
       "1  2020-02-16  \n",
       "2  2020-03-19  \n",
       "3  2020-04-19  \n",
       "4  2020-07-11  \n",
       "5  2020-12-01  \n",
       "6  2020-02-07  \n",
       "7  2020-05-03  \n",
       "8  2020-03-10  \n",
       "9  2020-05-11  \n",
       "10 2021-01-07  \n",
       "11 2020-07-01  \n",
       "12 2020-11-12  \n",
       "13 2020-10-07  "
      ]
     },
     "execution_count": 3,
     "metadata": {},
     "output_type": "execute_result"
    }
   ],
   "source": [
    "marketing_events = pd.read_csv(path_m)\n",
    "marketing_events['start_dt'] =pd.to_datetime(marketing_events['start_dt'])\n",
    "marketing_events['finish_dt'] =pd.to_datetime(marketing_events['finish_dt'])\n",
    "marketing_events"
   ]
  },
  {
   "cell_type": "code",
   "execution_count": 4,
   "metadata": {
    "scrolled": false
   },
   "outputs": [
    {
     "data": {
      "text/html": [
       "<div>\n",
       "<style scoped>\n",
       "    .dataframe tbody tr th:only-of-type {\n",
       "        vertical-align: middle;\n",
       "    }\n",
       "\n",
       "    .dataframe tbody tr th {\n",
       "        vertical-align: top;\n",
       "    }\n",
       "\n",
       "    .dataframe thead th {\n",
       "        text-align: right;\n",
       "    }\n",
       "</style>\n",
       "<table border=\"1\" class=\"dataframe\">\n",
       "  <thead>\n",
       "    <tr style=\"text-align: right;\">\n",
       "      <th></th>\n",
       "      <th>user_id</th>\n",
       "      <th>first_date</th>\n",
       "      <th>region</th>\n",
       "      <th>device</th>\n",
       "    </tr>\n",
       "  </thead>\n",
       "  <tbody>\n",
       "    <tr>\n",
       "      <th>0</th>\n",
       "      <td>D72A72121175D8BE</td>\n",
       "      <td>2020-12-07</td>\n",
       "      <td>EU</td>\n",
       "      <td>PC</td>\n",
       "    </tr>\n",
       "    <tr>\n",
       "      <th>1</th>\n",
       "      <td>F1C668619DFE6E65</td>\n",
       "      <td>2020-12-07</td>\n",
       "      <td>N.America</td>\n",
       "      <td>Android</td>\n",
       "    </tr>\n",
       "    <tr>\n",
       "      <th>2</th>\n",
       "      <td>2E1BF1D4C37EA01F</td>\n",
       "      <td>2020-12-07</td>\n",
       "      <td>EU</td>\n",
       "      <td>PC</td>\n",
       "    </tr>\n",
       "    <tr>\n",
       "      <th>3</th>\n",
       "      <td>50734A22C0C63768</td>\n",
       "      <td>2020-12-07</td>\n",
       "      <td>EU</td>\n",
       "      <td>iPhone</td>\n",
       "    </tr>\n",
       "    <tr>\n",
       "      <th>4</th>\n",
       "      <td>E1BDDCE0DAFA2679</td>\n",
       "      <td>2020-12-07</td>\n",
       "      <td>N.America</td>\n",
       "      <td>iPhone</td>\n",
       "    </tr>\n",
       "    <tr>\n",
       "      <th>...</th>\n",
       "      <td>...</td>\n",
       "      <td>...</td>\n",
       "      <td>...</td>\n",
       "      <td>...</td>\n",
       "    </tr>\n",
       "    <tr>\n",
       "      <th>61728</th>\n",
       "      <td>1DB53B933257165D</td>\n",
       "      <td>2020-12-20</td>\n",
       "      <td>EU</td>\n",
       "      <td>Android</td>\n",
       "    </tr>\n",
       "    <tr>\n",
       "      <th>61729</th>\n",
       "      <td>538643EB4527ED03</td>\n",
       "      <td>2020-12-20</td>\n",
       "      <td>EU</td>\n",
       "      <td>Mac</td>\n",
       "    </tr>\n",
       "    <tr>\n",
       "      <th>61730</th>\n",
       "      <td>7ADEE837D5D8CBBD</td>\n",
       "      <td>2020-12-20</td>\n",
       "      <td>EU</td>\n",
       "      <td>PC</td>\n",
       "    </tr>\n",
       "    <tr>\n",
       "      <th>61731</th>\n",
       "      <td>1C7D23927835213F</td>\n",
       "      <td>2020-12-20</td>\n",
       "      <td>EU</td>\n",
       "      <td>iPhone</td>\n",
       "    </tr>\n",
       "    <tr>\n",
       "      <th>61732</th>\n",
       "      <td>8F04273BB2860229</td>\n",
       "      <td>2020-12-20</td>\n",
       "      <td>EU</td>\n",
       "      <td>Android</td>\n",
       "    </tr>\n",
       "  </tbody>\n",
       "</table>\n",
       "<p>61733 rows × 4 columns</p>\n",
       "</div>"
      ],
      "text/plain": [
       "                user_id first_date     region   device\n",
       "0      D72A72121175D8BE 2020-12-07         EU       PC\n",
       "1      F1C668619DFE6E65 2020-12-07  N.America  Android\n",
       "2      2E1BF1D4C37EA01F 2020-12-07         EU       PC\n",
       "3      50734A22C0C63768 2020-12-07         EU   iPhone\n",
       "4      E1BDDCE0DAFA2679 2020-12-07  N.America   iPhone\n",
       "...                 ...        ...        ...      ...\n",
       "61728  1DB53B933257165D 2020-12-20         EU  Android\n",
       "61729  538643EB4527ED03 2020-12-20         EU      Mac\n",
       "61730  7ADEE837D5D8CBBD 2020-12-20         EU       PC\n",
       "61731  1C7D23927835213F 2020-12-20         EU   iPhone\n",
       "61732  8F04273BB2860229 2020-12-20         EU  Android\n",
       "\n",
       "[61733 rows x 4 columns]"
      ]
     },
     "execution_count": 4,
     "metadata": {},
     "output_type": "execute_result"
    }
   ],
   "source": [
    "new_users = pd.read_csv(path_u)\n",
    "new_users['first_date'] =pd.to_datetime(new_users['first_date'])\n",
    "new_users"
   ]
  },
  {
   "cell_type": "code",
   "execution_count": 5,
   "metadata": {},
   "outputs": [
    {
     "data": {
      "text/html": [
       "<div>\n",
       "<style scoped>\n",
       "    .dataframe tbody tr th:only-of-type {\n",
       "        vertical-align: middle;\n",
       "    }\n",
       "\n",
       "    .dataframe tbody tr th {\n",
       "        vertical-align: top;\n",
       "    }\n",
       "\n",
       "    .dataframe thead th {\n",
       "        text-align: right;\n",
       "    }\n",
       "</style>\n",
       "<table border=\"1\" class=\"dataframe\">\n",
       "  <thead>\n",
       "    <tr style=\"text-align: right;\">\n",
       "      <th></th>\n",
       "      <th>user_id</th>\n",
       "      <th>event_dt</th>\n",
       "      <th>event_name</th>\n",
       "      <th>details</th>\n",
       "    </tr>\n",
       "  </thead>\n",
       "  <tbody>\n",
       "    <tr>\n",
       "      <th>0</th>\n",
       "      <td>E1BDDCE0DAFA2679</td>\n",
       "      <td>2020-12-07 20:22:03</td>\n",
       "      <td>purchase</td>\n",
       "      <td>99.99</td>\n",
       "    </tr>\n",
       "    <tr>\n",
       "      <th>1</th>\n",
       "      <td>7B6452F081F49504</td>\n",
       "      <td>2020-12-07 09:22:53</td>\n",
       "      <td>purchase</td>\n",
       "      <td>9.99</td>\n",
       "    </tr>\n",
       "    <tr>\n",
       "      <th>2</th>\n",
       "      <td>9CD9F34546DF254C</td>\n",
       "      <td>2020-12-07 12:59:29</td>\n",
       "      <td>purchase</td>\n",
       "      <td>4.99</td>\n",
       "    </tr>\n",
       "    <tr>\n",
       "      <th>3</th>\n",
       "      <td>96F27A054B191457</td>\n",
       "      <td>2020-12-07 04:02:40</td>\n",
       "      <td>purchase</td>\n",
       "      <td>4.99</td>\n",
       "    </tr>\n",
       "    <tr>\n",
       "      <th>4</th>\n",
       "      <td>1FD7660FDF94CA1F</td>\n",
       "      <td>2020-12-07 10:15:09</td>\n",
       "      <td>purchase</td>\n",
       "      <td>4.99</td>\n",
       "    </tr>\n",
       "    <tr>\n",
       "      <th>...</th>\n",
       "      <td>...</td>\n",
       "      <td>...</td>\n",
       "      <td>...</td>\n",
       "      <td>...</td>\n",
       "    </tr>\n",
       "    <tr>\n",
       "      <th>440312</th>\n",
       "      <td>245E85F65C358E08</td>\n",
       "      <td>2020-12-30 19:35:55</td>\n",
       "      <td>login</td>\n",
       "      <td>NaN</td>\n",
       "    </tr>\n",
       "    <tr>\n",
       "      <th>440313</th>\n",
       "      <td>9385A108F5A0A7A7</td>\n",
       "      <td>2020-12-30 10:54:15</td>\n",
       "      <td>login</td>\n",
       "      <td>NaN</td>\n",
       "    </tr>\n",
       "    <tr>\n",
       "      <th>440314</th>\n",
       "      <td>DB650B7559AC6EAC</td>\n",
       "      <td>2020-12-30 10:59:09</td>\n",
       "      <td>login</td>\n",
       "      <td>NaN</td>\n",
       "    </tr>\n",
       "    <tr>\n",
       "      <th>440315</th>\n",
       "      <td>F80C9BDDEA02E53C</td>\n",
       "      <td>2020-12-30 09:53:39</td>\n",
       "      <td>login</td>\n",
       "      <td>NaN</td>\n",
       "    </tr>\n",
       "    <tr>\n",
       "      <th>440316</th>\n",
       "      <td>7AEC61159B672CC5</td>\n",
       "      <td>2020-12-30 11:36:13</td>\n",
       "      <td>login</td>\n",
       "      <td>NaN</td>\n",
       "    </tr>\n",
       "  </tbody>\n",
       "</table>\n",
       "<p>440317 rows × 4 columns</p>\n",
       "</div>"
      ],
      "text/plain": [
       "                 user_id            event_dt event_name  details\n",
       "0       E1BDDCE0DAFA2679 2020-12-07 20:22:03   purchase    99.99\n",
       "1       7B6452F081F49504 2020-12-07 09:22:53   purchase     9.99\n",
       "2       9CD9F34546DF254C 2020-12-07 12:59:29   purchase     4.99\n",
       "3       96F27A054B191457 2020-12-07 04:02:40   purchase     4.99\n",
       "4       1FD7660FDF94CA1F 2020-12-07 10:15:09   purchase     4.99\n",
       "...                  ...                 ...        ...      ...\n",
       "440312  245E85F65C358E08 2020-12-30 19:35:55      login      NaN\n",
       "440313  9385A108F5A0A7A7 2020-12-30 10:54:15      login      NaN\n",
       "440314  DB650B7559AC6EAC 2020-12-30 10:59:09      login      NaN\n",
       "440315  F80C9BDDEA02E53C 2020-12-30 09:53:39      login      NaN\n",
       "440316  7AEC61159B672CC5 2020-12-30 11:36:13      login      NaN\n",
       "\n",
       "[440317 rows x 4 columns]"
      ]
     },
     "execution_count": 5,
     "metadata": {},
     "output_type": "execute_result"
    }
   ],
   "source": [
    "events = pd.read_csv(path_e)\n",
    "events['event_dt'] =pd.to_datetime(events['event_dt'])\n",
    "events"
   ]
  },
  {
   "cell_type": "code",
   "execution_count": 6,
   "metadata": {
    "scrolled": false
   },
   "outputs": [
    {
     "data": {
      "text/html": [
       "<div>\n",
       "<style scoped>\n",
       "    .dataframe tbody tr th:only-of-type {\n",
       "        vertical-align: middle;\n",
       "    }\n",
       "\n",
       "    .dataframe tbody tr th {\n",
       "        vertical-align: top;\n",
       "    }\n",
       "\n",
       "    .dataframe thead th {\n",
       "        text-align: right;\n",
       "    }\n",
       "</style>\n",
       "<table border=\"1\" class=\"dataframe\">\n",
       "  <thead>\n",
       "    <tr style=\"text-align: right;\">\n",
       "      <th></th>\n",
       "      <th>user_id</th>\n",
       "      <th>group</th>\n",
       "      <th>ab_test</th>\n",
       "    </tr>\n",
       "  </thead>\n",
       "  <tbody>\n",
       "    <tr>\n",
       "      <th>0</th>\n",
       "      <td>D1ABA3E2887B6A73</td>\n",
       "      <td>A</td>\n",
       "      <td>recommender_system_test</td>\n",
       "    </tr>\n",
       "    <tr>\n",
       "      <th>1</th>\n",
       "      <td>A7A3664BD6242119</td>\n",
       "      <td>A</td>\n",
       "      <td>recommender_system_test</td>\n",
       "    </tr>\n",
       "    <tr>\n",
       "      <th>2</th>\n",
       "      <td>DABC14FDDFADD29E</td>\n",
       "      <td>A</td>\n",
       "      <td>recommender_system_test</td>\n",
       "    </tr>\n",
       "    <tr>\n",
       "      <th>3</th>\n",
       "      <td>04988C5DF189632E</td>\n",
       "      <td>A</td>\n",
       "      <td>recommender_system_test</td>\n",
       "    </tr>\n",
       "    <tr>\n",
       "      <th>4</th>\n",
       "      <td>482F14783456D21B</td>\n",
       "      <td>B</td>\n",
       "      <td>recommender_system_test</td>\n",
       "    </tr>\n",
       "    <tr>\n",
       "      <th>...</th>\n",
       "      <td>...</td>\n",
       "      <td>...</td>\n",
       "      <td>...</td>\n",
       "    </tr>\n",
       "    <tr>\n",
       "      <th>18263</th>\n",
       "      <td>1D302F8688B91781</td>\n",
       "      <td>B</td>\n",
       "      <td>interface_eu_test</td>\n",
       "    </tr>\n",
       "    <tr>\n",
       "      <th>18264</th>\n",
       "      <td>3DE51B726983B657</td>\n",
       "      <td>A</td>\n",
       "      <td>interface_eu_test</td>\n",
       "    </tr>\n",
       "    <tr>\n",
       "      <th>18265</th>\n",
       "      <td>F501F79D332BE86C</td>\n",
       "      <td>A</td>\n",
       "      <td>interface_eu_test</td>\n",
       "    </tr>\n",
       "    <tr>\n",
       "      <th>18266</th>\n",
       "      <td>63FBE257B05F2245</td>\n",
       "      <td>A</td>\n",
       "      <td>interface_eu_test</td>\n",
       "    </tr>\n",
       "    <tr>\n",
       "      <th>18267</th>\n",
       "      <td>79F9ABFB029CF724</td>\n",
       "      <td>B</td>\n",
       "      <td>interface_eu_test</td>\n",
       "    </tr>\n",
       "  </tbody>\n",
       "</table>\n",
       "<p>18268 rows × 3 columns</p>\n",
       "</div>"
      ],
      "text/plain": [
       "                user_id group                  ab_test\n",
       "0      D1ABA3E2887B6A73     A  recommender_system_test\n",
       "1      A7A3664BD6242119     A  recommender_system_test\n",
       "2      DABC14FDDFADD29E     A  recommender_system_test\n",
       "3      04988C5DF189632E     A  recommender_system_test\n",
       "4      482F14783456D21B     B  recommender_system_test\n",
       "...                 ...   ...                      ...\n",
       "18263  1D302F8688B91781     B        interface_eu_test\n",
       "18264  3DE51B726983B657     A        interface_eu_test\n",
       "18265  F501F79D332BE86C     A        interface_eu_test\n",
       "18266  63FBE257B05F2245     A        interface_eu_test\n",
       "18267  79F9ABFB029CF724     B        interface_eu_test\n",
       "\n",
       "[18268 rows x 3 columns]"
      ]
     },
     "execution_count": 6,
     "metadata": {},
     "output_type": "execute_result"
    }
   ],
   "source": [
    "participants = pd.read_csv(path_p)\n",
    "participants"
   ]
  },
  {
   "cell_type": "markdown",
   "metadata": {},
   "source": [
    "## Подготовка данных"
   ]
  },
  {
   "cell_type": "markdown",
   "metadata": {},
   "source": [
    "### Анализ типов"
   ]
  },
  {
   "cell_type": "code",
   "execution_count": 7,
   "metadata": {},
   "outputs": [
    {
     "name": "stdout",
     "output_type": "stream",
     "text": [
      "<class 'pandas.core.frame.DataFrame'>\n",
      "RangeIndex: 14 entries, 0 to 13\n",
      "Data columns (total 4 columns):\n",
      " #   Column     Non-Null Count  Dtype         \n",
      "---  ------     --------------  -----         \n",
      " 0   name       14 non-null     object        \n",
      " 1   regions    14 non-null     object        \n",
      " 2   start_dt   14 non-null     datetime64[ns]\n",
      " 3   finish_dt  14 non-null     datetime64[ns]\n",
      "dtypes: datetime64[ns](2), object(2)\n",
      "memory usage: 576.0+ bytes\n"
     ]
    }
   ],
   "source": [
    "marketing_events.info()"
   ]
  },
  {
   "cell_type": "code",
   "execution_count": 8,
   "metadata": {},
   "outputs": [
    {
     "name": "stdout",
     "output_type": "stream",
     "text": [
      "<class 'pandas.core.frame.DataFrame'>\n",
      "RangeIndex: 61733 entries, 0 to 61732\n",
      "Data columns (total 4 columns):\n",
      " #   Column      Non-Null Count  Dtype         \n",
      "---  ------      --------------  -----         \n",
      " 0   user_id     61733 non-null  object        \n",
      " 1   first_date  61733 non-null  datetime64[ns]\n",
      " 2   region      61733 non-null  object        \n",
      " 3   device      61733 non-null  object        \n",
      "dtypes: datetime64[ns](1), object(3)\n",
      "memory usage: 1.9+ MB\n"
     ]
    }
   ],
   "source": [
    "new_users.info()"
   ]
  },
  {
   "cell_type": "code",
   "execution_count": 9,
   "metadata": {},
   "outputs": [
    {
     "data": {
      "text/plain": [
       "array(['EU', 'N.America', 'APAC', 'CIS'], dtype=object)"
      ]
     },
     "execution_count": 9,
     "metadata": {},
     "output_type": "execute_result"
    }
   ],
   "source": [
    "new_users['region'].unique()"
   ]
  },
  {
   "cell_type": "code",
   "execution_count": 10,
   "metadata": {},
   "outputs": [
    {
     "data": {
      "text/plain": [
       "array(['PC', 'Android', 'iPhone', 'Mac'], dtype=object)"
      ]
     },
     "execution_count": 10,
     "metadata": {},
     "output_type": "execute_result"
    }
   ],
   "source": [
    "new_users['device'].unique()"
   ]
  },
  {
   "cell_type": "code",
   "execution_count": 11,
   "metadata": {},
   "outputs": [
    {
     "name": "stdout",
     "output_type": "stream",
     "text": [
      "<class 'pandas.core.frame.DataFrame'>\n",
      "RangeIndex: 440317 entries, 0 to 440316\n",
      "Data columns (total 4 columns):\n",
      " #   Column      Non-Null Count   Dtype         \n",
      "---  ------      --------------   -----         \n",
      " 0   user_id     440317 non-null  object        \n",
      " 1   event_dt    440317 non-null  datetime64[ns]\n",
      " 2   event_name  440317 non-null  object        \n",
      " 3   details     62740 non-null   float64       \n",
      "dtypes: datetime64[ns](1), float64(1), object(2)\n",
      "memory usage: 13.4+ MB\n"
     ]
    }
   ],
   "source": [
    "events.info()"
   ]
  },
  {
   "cell_type": "code",
   "execution_count": 12,
   "metadata": {},
   "outputs": [
    {
     "data": {
      "text/plain": [
       "array(['purchase', 'product_cart', 'product_page', 'login'], dtype=object)"
      ]
     },
     "execution_count": 12,
     "metadata": {},
     "output_type": "execute_result"
    }
   ],
   "source": [
    "events['event_name'].unique()"
   ]
  },
  {
   "cell_type": "code",
   "execution_count": 13,
   "metadata": {},
   "outputs": [
    {
     "name": "stdout",
     "output_type": "stream",
     "text": [
      "<class 'pandas.core.frame.DataFrame'>\n",
      "RangeIndex: 18268 entries, 0 to 18267\n",
      "Data columns (total 3 columns):\n",
      " #   Column   Non-Null Count  Dtype \n",
      "---  ------   --------------  ----- \n",
      " 0   user_id  18268 non-null  object\n",
      " 1   group    18268 non-null  object\n",
      " 2   ab_test  18268 non-null  object\n",
      "dtypes: object(3)\n",
      "memory usage: 428.3+ KB\n"
     ]
    }
   ],
   "source": [
    "participants.info()"
   ]
  },
  {
   "cell_type": "code",
   "execution_count": 14,
   "metadata": {},
   "outputs": [
    {
     "data": {
      "text/plain": [
       "array(['recommender_system_test', 'interface_eu_test'], dtype=object)"
      ]
     },
     "execution_count": 14,
     "metadata": {},
     "output_type": "execute_result"
    }
   ],
   "source": [
    "participants['ab_test'].unique()"
   ]
  },
  {
   "cell_type": "code",
   "execution_count": 15,
   "metadata": {},
   "outputs": [
    {
     "data": {
      "text/plain": [
       "array(['A', 'B'], dtype=object)"
      ]
     },
     "execution_count": 15,
     "metadata": {},
     "output_type": "execute_result"
    }
   ],
   "source": [
    "participants['group'].unique()"
   ]
  },
  {
   "cell_type": "markdown",
   "metadata": {},
   "source": [
    "### Анализ пропусков"
   ]
  },
  {
   "cell_type": "markdown",
   "metadata": {},
   "source": [
    "Пропуски есть в таблице events. Скорее всего, это связано с тем, что не у всех значений заполняется поле details."
   ]
  },
  {
   "cell_type": "code",
   "execution_count": 16,
   "metadata": {},
   "outputs": [
    {
     "data": {
      "text/plain": [
       "array(['purchase', 'product_cart', 'product_page', 'login'], dtype=object)"
      ]
     },
     "execution_count": 16,
     "metadata": {},
     "output_type": "execute_result"
    }
   ],
   "source": [
    "events['event_name'].unique()"
   ]
  },
  {
   "cell_type": "code",
   "execution_count": 17,
   "metadata": {},
   "outputs": [
    {
     "name": "stdout",
     "output_type": "stream",
     "text": [
      "<class 'pandas.core.frame.DataFrame'>\n",
      "Int64Index: 62740 entries, 0 to 62739\n",
      "Data columns (total 4 columns):\n",
      " #   Column      Non-Null Count  Dtype         \n",
      "---  ------      --------------  -----         \n",
      " 0   user_id     62740 non-null  object        \n",
      " 1   event_dt    62740 non-null  datetime64[ns]\n",
      " 2   event_name  62740 non-null  object        \n",
      " 3   details     62740 non-null  float64       \n",
      "dtypes: datetime64[ns](1), float64(1), object(2)\n",
      "memory usage: 2.4+ MB\n"
     ]
    }
   ],
   "source": [
    "events[events['event_name'] == 'purchase'].info()"
   ]
  },
  {
   "cell_type": "markdown",
   "metadata": {},
   "source": [
    "### Анализ дубликатов"
   ]
  },
  {
   "cell_type": "code",
   "execution_count": 18,
   "metadata": {},
   "outputs": [
    {
     "data": {
      "text/html": [
       "<div>\n",
       "<style scoped>\n",
       "    .dataframe tbody tr th:only-of-type {\n",
       "        vertical-align: middle;\n",
       "    }\n",
       "\n",
       "    .dataframe tbody tr th {\n",
       "        vertical-align: top;\n",
       "    }\n",
       "\n",
       "    .dataframe thead th {\n",
       "        text-align: right;\n",
       "    }\n",
       "</style>\n",
       "<table border=\"1\" class=\"dataframe\">\n",
       "  <thead>\n",
       "    <tr style=\"text-align: right;\">\n",
       "      <th></th>\n",
       "      <th>name</th>\n",
       "      <th>regions</th>\n",
       "      <th>start_dt</th>\n",
       "      <th>finish_dt</th>\n",
       "    </tr>\n",
       "  </thead>\n",
       "  <tbody>\n",
       "  </tbody>\n",
       "</table>\n",
       "</div>"
      ],
      "text/plain": [
       "Empty DataFrame\n",
       "Columns: [name, regions, start_dt, finish_dt]\n",
       "Index: []"
      ]
     },
     "execution_count": 18,
     "metadata": {},
     "output_type": "execute_result"
    }
   ],
   "source": [
    "marketing_events[marketing_events.duplicated()]"
   ]
  },
  {
   "cell_type": "code",
   "execution_count": 19,
   "metadata": {},
   "outputs": [
    {
     "data": {
      "text/html": [
       "<div>\n",
       "<style scoped>\n",
       "    .dataframe tbody tr th:only-of-type {\n",
       "        vertical-align: middle;\n",
       "    }\n",
       "\n",
       "    .dataframe tbody tr th {\n",
       "        vertical-align: top;\n",
       "    }\n",
       "\n",
       "    .dataframe thead th {\n",
       "        text-align: right;\n",
       "    }\n",
       "</style>\n",
       "<table border=\"1\" class=\"dataframe\">\n",
       "  <thead>\n",
       "    <tr style=\"text-align: right;\">\n",
       "      <th></th>\n",
       "      <th>user_id</th>\n",
       "      <th>first_date</th>\n",
       "      <th>region</th>\n",
       "      <th>device</th>\n",
       "    </tr>\n",
       "  </thead>\n",
       "  <tbody>\n",
       "  </tbody>\n",
       "</table>\n",
       "</div>"
      ],
      "text/plain": [
       "Empty DataFrame\n",
       "Columns: [user_id, first_date, region, device]\n",
       "Index: []"
      ]
     },
     "execution_count": 19,
     "metadata": {},
     "output_type": "execute_result"
    }
   ],
   "source": [
    "new_users[new_users.duplicated()]"
   ]
  },
  {
   "cell_type": "code",
   "execution_count": 20,
   "metadata": {},
   "outputs": [
    {
     "data": {
      "text/html": [
       "<div>\n",
       "<style scoped>\n",
       "    .dataframe tbody tr th:only-of-type {\n",
       "        vertical-align: middle;\n",
       "    }\n",
       "\n",
       "    .dataframe tbody tr th {\n",
       "        vertical-align: top;\n",
       "    }\n",
       "\n",
       "    .dataframe thead th {\n",
       "        text-align: right;\n",
       "    }\n",
       "</style>\n",
       "<table border=\"1\" class=\"dataframe\">\n",
       "  <thead>\n",
       "    <tr style=\"text-align: right;\">\n",
       "      <th></th>\n",
       "      <th>user_id</th>\n",
       "      <th>event_dt</th>\n",
       "      <th>event_name</th>\n",
       "      <th>details</th>\n",
       "    </tr>\n",
       "  </thead>\n",
       "  <tbody>\n",
       "  </tbody>\n",
       "</table>\n",
       "</div>"
      ],
      "text/plain": [
       "Empty DataFrame\n",
       "Columns: [user_id, event_dt, event_name, details]\n",
       "Index: []"
      ]
     },
     "execution_count": 20,
     "metadata": {},
     "output_type": "execute_result"
    }
   ],
   "source": [
    "events[events.duplicated()]"
   ]
  },
  {
   "cell_type": "code",
   "execution_count": 21,
   "metadata": {},
   "outputs": [
    {
     "data": {
      "text/html": [
       "<div>\n",
       "<style scoped>\n",
       "    .dataframe tbody tr th:only-of-type {\n",
       "        vertical-align: middle;\n",
       "    }\n",
       "\n",
       "    .dataframe tbody tr th {\n",
       "        vertical-align: top;\n",
       "    }\n",
       "\n",
       "    .dataframe thead th {\n",
       "        text-align: right;\n",
       "    }\n",
       "</style>\n",
       "<table border=\"1\" class=\"dataframe\">\n",
       "  <thead>\n",
       "    <tr style=\"text-align: right;\">\n",
       "      <th></th>\n",
       "      <th>user_id</th>\n",
       "      <th>group</th>\n",
       "      <th>ab_test</th>\n",
       "    </tr>\n",
       "  </thead>\n",
       "  <tbody>\n",
       "  </tbody>\n",
       "</table>\n",
       "</div>"
      ],
      "text/plain": [
       "Empty DataFrame\n",
       "Columns: [user_id, group, ab_test]\n",
       "Index: []"
      ]
     },
     "execution_count": 21,
     "metadata": {},
     "output_type": "execute_result"
    }
   ],
   "source": [
    "participants[participants.duplicated()]"
   ]
  },
  {
   "cell_type": "markdown",
   "metadata": {},
   "source": [
    "### Вывод"
   ]
  },
  {
   "cell_type": "markdown",
   "metadata": {},
   "source": [
    "Тип данных дат было необходимо привести к верному формату.\n",
    "\n",
    "Пропуски присутствуют только в таблице events и не требуют заполнения, поскольку присутствуют только в поле details и отвечают его логике.\n",
    "\n",
    "Дубликаты в данных отсутствуют."
   ]
  },
  {
   "cell_type": "markdown",
   "metadata": {},
   "source": [
    "## Исследование"
   ]
  },
  {
   "cell_type": "markdown",
   "metadata": {},
   "source": [
    "### Проверка соответствия ТЗ"
   ]
  },
  {
   "cell_type": "markdown",
   "metadata": {},
   "source": [
    "- Дата запуска: 2020-12-07;\n",
    "\n",
    "- Дата остановки набора новых пользователей: 2020-12-21;\n",
    "\n",
    "- Дата остановки: 2021-01-04;"
   ]
  },
  {
   "cell_type": "code",
   "execution_count": 22,
   "metadata": {},
   "outputs": [
    {
     "data": {
      "text/plain": [
       "Timestamp('2020-12-07 00:00:33')"
      ]
     },
     "execution_count": 22,
     "metadata": {},
     "output_type": "execute_result"
    }
   ],
   "source": [
    "events['event_dt'].min()"
   ]
  },
  {
   "cell_type": "code",
   "execution_count": 23,
   "metadata": {},
   "outputs": [
    {
     "data": {
      "text/plain": [
       "Timestamp('2020-12-21 00:00:00')"
      ]
     },
     "execution_count": 23,
     "metadata": {},
     "output_type": "execute_result"
    }
   ],
   "source": [
    "(\n",
    "    new_users[new_users['user_id']\n",
    "    .isin(participants[participants['ab_test'] == 'recommender_system_test']['user_id'])]\n",
    "    ['first_date']\n",
    "    .max()\n",
    ")"
   ]
  },
  {
   "cell_type": "code",
   "execution_count": 24,
   "metadata": {},
   "outputs": [
    {
     "data": {
      "text/plain": [
       "Timestamp('2020-12-30 23:36:33')"
      ]
     },
     "execution_count": 24,
     "metadata": {},
     "output_type": "execute_result"
    }
   ],
   "source": [
    "events['event_dt'].max()"
   ]
  },
  {
   "cell_type": "markdown",
   "metadata": {},
   "source": [
    "Дата запуска теста соответствует минималной дате. При этом пользователи, набранные до 21.12, не совершают события вплоть до 04.01, завершая все события 30.12.\n",
    "\n",
    "Стоит также отметить, что по факту набор происходит действительно до 21.12, как и указано в ТЗ."
   ]
  },
  {
   "cell_type": "markdown",
   "metadata": {},
   "source": [
    "- Аудитория: 15% новых пользователей из региона EU;"
   ]
  },
  {
   "cell_type": "code",
   "execution_count": 25,
   "metadata": {},
   "outputs": [
    {
     "data": {
      "text/plain": [
       "15.0"
      ]
     },
     "execution_count": 25,
     "metadata": {},
     "output_type": "execute_result"
    }
   ],
   "source": [
    "start_date = \"2020-12-07\"\n",
    "finish_date = \"2020-12-21\"\n",
    "participants_date = participants.merge(new_users)\n",
    "participants_date = participants_date[participants_date['first_date'] <= finish_date]\n",
    "\n",
    "round(len(participants_date[(participants_date['ab_test'] == 'recommender_system_test') & (participants_date['region'] == 'EU')]) \n",
    "      / len(new_users[(new_users['region'] == 'EU') & (new_users['first_date'] <= finish_date)]) * 100, 2)"
   ]
  },
  {
   "cell_type": "code",
   "execution_count": 26,
   "metadata": {},
   "outputs": [],
   "source": [
    "test_users = new_users[new_users['user_id'].isin(participants[participants['ab_test'] == 'recommender_system_test']['user_id'])]"
   ]
  },
  {
   "cell_type": "code",
   "execution_count": 27,
   "metadata": {},
   "outputs": [
    {
     "data": {
      "text/plain": [
       "94.78"
      ]
     },
     "execution_count": 27,
     "metadata": {},
     "output_type": "execute_result"
    }
   ],
   "source": [
    "round(len(test_users[test_users['region'] == 'EU']) / len(test_users) * 100, 2)"
   ]
  },
  {
   "cell_type": "markdown",
   "metadata": {},
   "source": [
    "В тесте участвует около 15% от всех новых пользователей, при этом около 95% из них из региона EU."
   ]
  },
  {
   "cell_type": "markdown",
   "metadata": {},
   "source": [
    "- Ожидаемое количество участников теста: 6000."
   ]
  },
  {
   "cell_type": "code",
   "execution_count": 28,
   "metadata": {},
   "outputs": [
    {
     "data": {
      "text/plain": [
       "6701"
      ]
     },
     "execution_count": 28,
     "metadata": {},
     "output_type": "execute_result"
    }
   ],
   "source": [
    "len(participants[participants['ab_test'] == 'recommender_system_test'])"
   ]
  },
  {
   "cell_type": "code",
   "execution_count": 29,
   "metadata": {},
   "outputs": [
    {
     "data": {
      "text/plain": [
       "111.68"
      ]
     },
     "execution_count": 29,
     "metadata": {},
     "output_type": "execute_result"
    }
   ],
   "source": [
    "specification_participants = 6000\n",
    "round(len(participants[participants['ab_test'] == 'recommender_system_test']) / specification_participants * 100, 2)"
   ]
  },
  {
   "cell_type": "markdown",
   "metadata": {},
   "source": [
    "Всего в рассматриваемом тесте 6701 участник. Это составляет 112% от ожидаемого количества в ТЗ."
   ]
  },
  {
   "cell_type": "markdown",
   "metadata": {},
   "source": [
    "### Проверка времени проведения теста"
   ]
  },
  {
   "cell_type": "code",
   "execution_count": 30,
   "metadata": {},
   "outputs": [
    {
     "data": {
      "text/html": [
       "<div>\n",
       "<style scoped>\n",
       "    .dataframe tbody tr th:only-of-type {\n",
       "        vertical-align: middle;\n",
       "    }\n",
       "\n",
       "    .dataframe tbody tr th {\n",
       "        vertical-align: top;\n",
       "    }\n",
       "\n",
       "    .dataframe thead th {\n",
       "        text-align: right;\n",
       "    }\n",
       "</style>\n",
       "<table border=\"1\" class=\"dataframe\">\n",
       "  <thead>\n",
       "    <tr style=\"text-align: right;\">\n",
       "      <th></th>\n",
       "      <th>name</th>\n",
       "      <th>regions</th>\n",
       "      <th>start_dt</th>\n",
       "      <th>finish_dt</th>\n",
       "    </tr>\n",
       "  </thead>\n",
       "  <tbody>\n",
       "    <tr>\n",
       "      <th>0</th>\n",
       "      <td>Christmas&amp;New Year Promo</td>\n",
       "      <td>EU, N.America</td>\n",
       "      <td>2020-12-25</td>\n",
       "      <td>2021-01-03</td>\n",
       "    </tr>\n",
       "  </tbody>\n",
       "</table>\n",
       "</div>"
      ],
      "text/plain": [
       "                       name        regions   start_dt  finish_dt\n",
       "0  Christmas&New Year Promo  EU, N.America 2020-12-25 2021-01-03"
      ]
     },
     "execution_count": 30,
     "metadata": {},
     "output_type": "execute_result"
    }
   ],
   "source": [
    "end_date = \"2021-01-04\"\n",
    "marketing_events[(marketing_events['start_dt'] >= start_date) & (marketing_events['finish_dt'] <= end_date)]"
   ]
  },
  {
   "cell_type": "code",
   "execution_count": 31,
   "metadata": {},
   "outputs": [
    {
     "data": {
      "text/html": [
       "<div>\n",
       "<style scoped>\n",
       "    .dataframe tbody tr th:only-of-type {\n",
       "        vertical-align: middle;\n",
       "    }\n",
       "\n",
       "    .dataframe tbody tr th {\n",
       "        vertical-align: top;\n",
       "    }\n",
       "\n",
       "    .dataframe thead th {\n",
       "        text-align: right;\n",
       "    }\n",
       "</style>\n",
       "<table border=\"1\" class=\"dataframe\">\n",
       "  <thead>\n",
       "    <tr style=\"text-align: right;\">\n",
       "      <th></th>\n",
       "      <th>name</th>\n",
       "      <th>regions</th>\n",
       "      <th>start_dt</th>\n",
       "      <th>finish_dt</th>\n",
       "    </tr>\n",
       "  </thead>\n",
       "  <tbody>\n",
       "    <tr>\n",
       "      <th>0</th>\n",
       "      <td>Christmas&amp;New Year Promo</td>\n",
       "      <td>EU, N.America</td>\n",
       "      <td>2020-12-25</td>\n",
       "      <td>2021-01-03</td>\n",
       "    </tr>\n",
       "    <tr>\n",
       "      <th>10</th>\n",
       "      <td>CIS New Year Gift Lottery</td>\n",
       "      <td>CIS</td>\n",
       "      <td>2020-12-30</td>\n",
       "      <td>2021-01-07</td>\n",
       "    </tr>\n",
       "  </tbody>\n",
       "</table>\n",
       "</div>"
      ],
      "text/plain": [
       "                         name        regions   start_dt  finish_dt\n",
       "0    Christmas&New Year Promo  EU, N.America 2020-12-25 2021-01-03\n",
       "10  CIS New Year Gift Lottery            CIS 2020-12-30 2021-01-07"
      ]
     },
     "execution_count": 31,
     "metadata": {},
     "output_type": "execute_result"
    }
   ],
   "source": [
    "marketing_events[(marketing_events['start_dt'] >= start_date)]"
   ]
  },
  {
   "cell_type": "markdown",
   "metadata": {},
   "source": [
    "За рассматриваемый период одна акция полностью попадает в рамки теста, вторая заканчивается после окончания теста, при этом начинается 30.12, то есть в момент, когда фактически пользователи из когорты заканчивают все свои события.\n",
    "\n",
    "Это могло повлиять на результаты тестирования, поскольку маркетинговая кампания происходила не на протяжении всего теста. Тем не менее, она влияла как на группу А, так и на группу В."
   ]
  },
  {
   "cell_type": "code",
   "execution_count": 32,
   "metadata": {},
   "outputs": [],
   "source": [
    "events['event_date'] = events['event_dt'].dt.floor('D')\n",
    "events = new_users.merge(events, how='left')\n",
    "events['days'] = events['event_date'] - events['first_date']\n",
    "events = events[events['days'] < pd.to_timedelta(14, unit='D')] "
   ]
  },
  {
   "cell_type": "markdown",
   "metadata": {},
   "source": [
    "Ожидаемый эффект рассматривается за 14 дней с момента регистрации, остальное отсекается."
   ]
  },
  {
   "cell_type": "markdown",
   "metadata": {},
   "source": [
    "### Проверка аудитории теста"
   ]
  },
  {
   "cell_type": "code",
   "execution_count": 33,
   "metadata": {},
   "outputs": [
    {
     "data": {
      "text/plain": [
       "0"
      ]
     },
     "execution_count": 33,
     "metadata": {},
     "output_type": "execute_result"
    }
   ],
   "source": [
    "user_group = participants[participants['ab_test'] == 'recommender_system_test']\n",
    "user_group.duplicated().sum()"
   ]
  },
  {
   "cell_type": "markdown",
   "metadata": {},
   "source": [
    "В рамках одного теста пользователи не попалают в обе группы А и В. Количество пользователей совпадает с количеством групп пользователь-А/В группа"
   ]
  },
  {
   "cell_type": "code",
   "execution_count": 34,
   "metadata": {},
   "outputs": [
    {
     "data": {
      "text/plain": [
       "1602"
      ]
     },
     "execution_count": 34,
     "metadata": {},
     "output_type": "execute_result"
    }
   ],
   "source": [
    "participants['user_id'].duplicated().sum()"
   ]
  },
  {
   "cell_type": "markdown",
   "metadata": {},
   "source": [
    "1602 пользователя попали в несколько групп (то есть либо в оба теста, либо в обе группы)"
   ]
  },
  {
   "cell_type": "code",
   "execution_count": 35,
   "metadata": {},
   "outputs": [],
   "source": [
    "recommender_system_test_A = user_group[user_group['group'] == 'A']\n",
    "recommender_system_test_B = user_group[user_group['group'] == 'B']\n",
    "\n",
    "user_group_2 = participants[(participants['ab_test'] == 'interface_eu_test') & (participants['group'] == 'B')]"
   ]
  },
  {
   "cell_type": "code",
   "execution_count": 36,
   "metadata": {},
   "outputs": [
    {
     "data": {
      "text/plain": [
       "439"
      ]
     },
     "execution_count": 36,
     "metadata": {},
     "output_type": "execute_result"
    }
   ],
   "source": [
    "recommender_system_test_A['user_id'].isin(user_group_2['user_id']).sum()"
   ]
  },
  {
   "cell_type": "code",
   "execution_count": 37,
   "metadata": {},
   "outputs": [
    {
     "data": {
      "text/plain": [
       "344"
      ]
     },
     "execution_count": 37,
     "metadata": {},
     "output_type": "execute_result"
    }
   ],
   "source": [
    "recommender_system_test_B['user_id'].isin(user_group_2['user_id']).sum()"
   ]
  },
  {
   "cell_type": "markdown",
   "metadata": {},
   "source": [
    "В группу А попало 439 пользователей из второго теста, в группу В - 344."
   ]
  },
  {
   "cell_type": "code",
   "execution_count": 38,
   "metadata": {},
   "outputs": [
    {
     "data": {
      "text/plain": [
       "user_id    11.48\n",
       "group      11.48\n",
       "ab_test    11.48\n",
       "dtype: float64"
      ]
     },
     "execution_count": 38,
     "metadata": {},
     "output_type": "execute_result"
    }
   ],
   "source": [
    "round(\n",
    "    recommender_system_test_A['user_id'].isin(user_group_2['user_id']).sum()\n",
    "/  \n",
    "    user_group[user_group['group'] == 'A'].count() * 100, 2)"
   ]
  },
  {
   "cell_type": "code",
   "execution_count": 39,
   "metadata": {},
   "outputs": [
    {
     "data": {
      "text/plain": [
       "user_id    9.0\n",
       "group      9.0\n",
       "ab_test    9.0\n",
       "dtype: float64"
      ]
     },
     "execution_count": 39,
     "metadata": {},
     "output_type": "execute_result"
    }
   ],
   "source": [
    "round(\n",
    "    recommender_system_test_B['user_id'].isin(user_group_2['user_id']).sum()\n",
    "/  \n",
    "    user_group[user_group['group'] == 'A'].count() * 100, 2)"
   ]
  },
  {
   "cell_type": "markdown",
   "metadata": {},
   "source": [
    "Количество пользователей из второго тесте в группе А составляет 11,5%, в группе В - 9%. Можно сказать, что влияние происходит довольно равномерно."
   ]
  },
  {
   "cell_type": "code",
   "execution_count": 40,
   "metadata": {},
   "outputs": [
    {
     "data": {
      "text/plain": [
       "A    3824\n",
       "B    2877\n",
       "Name: group, dtype: int64"
      ]
     },
     "execution_count": 40,
     "metadata": {},
     "output_type": "execute_result"
    }
   ],
   "source": [
    "user_group['group'].value_counts()"
   ]
  },
  {
   "cell_type": "markdown",
   "metadata": {},
   "source": [
    "При этом всего пользователей в группе А 3824, а пользователей в группе В - 2887."
   ]
  },
  {
   "cell_type": "code",
   "execution_count": 41,
   "metadata": {},
   "outputs": [
    {
     "data": {
      "text/plain": [
       "32.92"
      ]
     },
     "execution_count": 41,
     "metadata": {},
     "output_type": "execute_result"
    }
   ],
   "source": [
    "round(len(user_group[user_group['group'] == 'A']) / len(user_group[user_group['group'] == 'B']) * 100 - 100, 2)"
   ]
  },
  {
   "cell_type": "markdown",
   "metadata": {},
   "source": [
    "В рассматриваемом случае пользователей в группе А на примерно 33% больше, чем в группе В."
   ]
  },
  {
   "cell_type": "markdown",
   "metadata": {},
   "source": [
    "### Вывод"
   ]
  },
  {
   "cell_type": "markdown",
   "metadata": {},
   "source": [
    "Нельзя сказать, что данные полностью соответствуют ТЗ:\n",
    "\n",
    "дата запуска и остановки работы совпадают с ТЗ, дата окончания теста - нет;\n",
    "\n",
    "во время проведения теста было пересечение с 2 маркетинговыми акциями;\n",
    "\n",
    "в тесте завлечены (хоть и распределены равномерно) пользователи из конкурирующего теста;\n",
    "\n",
    "группа А по количеству польователей больше группы В на 33%."
   ]
  },
  {
   "cell_type": "markdown",
   "metadata": {},
   "source": [
    "## Воронка"
   ]
  },
  {
   "cell_type": "markdown",
   "metadata": {},
   "source": [
    "### Анализ распределения событий между пользователями"
   ]
  },
  {
   "cell_type": "code",
   "execution_count": 42,
   "metadata": {},
   "outputs": [
    {
     "data": {
      "text/plain": [
       "3824"
      ]
     },
     "execution_count": 42,
     "metadata": {},
     "output_type": "execute_result"
    }
   ],
   "source": [
    "recommender_system_test_A = recommender_system_test_A.merge(events, how='left')\n",
    "recommender_system_test_A['user_id'].nunique()"
   ]
  },
  {
   "cell_type": "code",
   "execution_count": 43,
   "metadata": {},
   "outputs": [
    {
     "data": {
      "text/plain": [
       "2877"
      ]
     },
     "execution_count": 43,
     "metadata": {},
     "output_type": "execute_result"
    }
   ],
   "source": [
    "recommender_system_test_B = recommender_system_test_B.merge(events, how='left')\n",
    "recommender_system_test_B['user_id'].nunique()"
   ]
  },
  {
   "cell_type": "markdown",
   "metadata": {},
   "source": [
    "Создаются таблицы, в которые ко всем пользователям необходимого теста групп А или В добавляются проделанные события."
   ]
  },
  {
   "cell_type": "code",
   "execution_count": 44,
   "metadata": {},
   "outputs": [
    {
     "name": "stdout",
     "output_type": "stream",
     "text": [
      "Общее количество событий в группе А: 18801\n",
      "Среднее количество событий в группе А: 4.92\n",
      "Медианное количество событий в группе А: 4.00\n",
      "Общее количество событий в группе B: 5055\n",
      "Среднее количество событий в группе В: 1.76\n",
      "Медианное количество событий в группе В: 0.00\n",
      "\n",
      "Медианное количество уникальных событий на пользователя в группе А: 2.0\n",
      "Медианное количество уникальных событий на пользователя в группе B: 0.0\n",
      "Отношение количества событий в группе А к группе В в %: 371.93\n"
     ]
    }
   ],
   "source": [
    "events_A = (\n",
    "    recommender_system_test_A.pivot_table(index='user_id', values='event_name', aggfunc=['count', 'nunique'])\n",
    "    .reset_index()\n",
    ")\n",
    "events_A.columns = ['user_id', 'total_events', 'unique_events']\n",
    "\n",
    "a_total = events_A['total_events'].sum()\n",
    "a_mean = events_A['total_events'].mean()\n",
    "a_median = events_A['total_events'].median()\n",
    "a_median_unique = events_A['unique_events'].median()\n",
    "\n",
    "events_B = (\n",
    "    recommender_system_test_B.pivot_table(index='user_id', values='event_name', aggfunc=['count', 'nunique'])\n",
    "    .reset_index()\n",
    ")\n",
    "events_B.columns = ['user_id', 'total_events', 'unique_events']\n",
    "\n",
    "b_total = events_B['total_events'].sum()\n",
    "b_mean = events_B['total_events'].mean()\n",
    "b_median = events_B['total_events'].median()\n",
    "b_median_unique = events_B['unique_events'].median()\n",
    "\n",
    "\n",
    "print(f'Общее количество событий в группе А: {a_total}\\n'\n",
    "     f'Среднее количество событий в группе А: {a_mean:.2f}\\n'\n",
    "     f'Медианное количество событий в группе А: {a_median:.2f}\\n'\n",
    "     f'Общее количество событий в группе B: {b_total}\\n'\n",
    "     f'Среднее количество событий в группе В: {b_mean:.2f}\\n'\n",
    "     f'Медианное количество событий в группе В: {b_median:.2f}\\n\\n'\n",
    "     f'Медианное количество уникальных событий на пользователя в группе А: {a_median_unique}\\n'\n",
    "     f'Медианное количество уникальных событий на пользователя в группе B: {b_median_unique}\\n'\n",
    "     f'Отношение количества событий в группе А к группе В в %: {a_total/b_total*100:.2f}')"
   ]
  },
  {
   "cell_type": "markdown",
   "metadata": {},
   "source": [
    "При разнице количества пользователей в примерно 1,3, разница количества событий между группами составляет около 3,7. При этом медианное количество событий в группе В составляет 0 против 4 в группе А.\n",
    "\n",
    "Среднее количество событий для группы А составляет около 5, в то время как для группы В меньше 2 (1,76)."
   ]
  },
  {
   "cell_type": "code",
   "execution_count": 45,
   "metadata": {},
   "outputs": [
    {
     "data": {
      "image/png": "[encoded data removed]",
      "text/plain": [
       "<Figure size 1080x576 with 1 Axes>"
      ]
     },
     "metadata": {
      "needs_background": "light"
     },
     "output_type": "display_data"
    }
   ],
   "source": [
    "plt.figure(figsize=(15, 8))\n",
    "sns.histplot(events_A['total_events'], bins=10)\n",
    "plt.title('Распределение количества событий в группе А')\n",
    "plt.show()"
   ]
  },
  {
   "cell_type": "markdown",
   "metadata": {},
   "source": [
    "Больше всего пользователей в группе А совершили от 0 до 2 дейтсвий, далее резкий скачок и плато от 2,5 до примерно 10 действий."
   ]
  },
  {
   "cell_type": "code",
   "execution_count": 46,
   "metadata": {},
   "outputs": [
    {
     "data": {
      "image/png": "[encoded data removed]",
      "text/plain": [
       "<Figure size 1080x576 with 1 Axes>"
      ]
     },
     "metadata": {
      "needs_background": "light"
     },
     "output_type": "display_data"
    }
   ],
   "source": [
    "plt.figure(figsize=(15, 8))\n",
    "sns.histplot(events_B['total_events'], bins=10)\n",
    "plt.title('Распределение количества событий в группе B')\n",
    "plt.show()"
   ]
  },
  {
   "cell_type": "markdown",
   "metadata": {},
   "source": [
    "Скачок в группе В между 0-2 и 2-5 действиями гораздо глубже. Видно, что большинство пользователей из выборки не совершали действий."
   ]
  },
  {
   "cell_type": "markdown",
   "metadata": {},
   "source": [
    "### Анализ распределения по дням"
   ]
  },
  {
   "cell_type": "code",
   "execution_count": 47,
   "metadata": {},
   "outputs": [
    {
     "data": {
      "image/png": "[encoded data removed]",
      "text/plain": [
       "<Figure size 1080x576 with 1 Axes>"
      ]
     },
     "metadata": {
      "needs_background": "light"
     },
     "output_type": "display_data"
    }
   ],
   "source": [
    "recommender_system_test_A['group'] = 'A'\n",
    "recommender_system_test_B['group'] = 'B'\n",
    "test = recommender_system_test_A.append(recommender_system_test_B)\n",
    "test['event_date'] = test['event_dt'].dt.floor('D')\n",
    "data_users = test.pivot_table(index=['group','event_date'], values='event_name', aggfunc='count').reset_index()\n",
    "\n",
    "plt.figure(figsize=(15, 8))\n",
    "ax = sns.lineplot(y='event_name', x='event_date', hue='group', data=data_users)\n",
    "plt.title('Общее количество событий по дням')\n",
    "plt.show()"
   ]
  },
  {
   "cell_type": "markdown",
   "metadata": {},
   "source": [
    "В группе В достаточно стабильное количество событий по дням, при этом в начале события группы А схожи в количестве с группой В (особенно учитывая разницу в 30% в участниках групп). Далее, с 13 декабря, происходит резкий рост событий в группе А, продолжающийся до 21 декабря, далее - спад в обеих группах (что логично, поскольку с 21 декабря перестает происходить набор в группы)."
   ]
  },
  {
   "cell_type": "code",
   "execution_count": 48,
   "metadata": {},
   "outputs": [
    {
     "data": {
      "image/png": "[encoded data removed]",
      "text/plain": [
       "<Figure size 1080x576 with 1 Axes>"
      ]
     },
     "metadata": {
      "needs_background": "light"
     },
     "output_type": "display_data"
    }
   ],
   "source": [
    "new_users_date = new_users.merge(participants)\n",
    "new_users_date= new_users_date.pivot_table(index=['group','first_date'], values='user_id', aggfunc='count').reset_index()\n",
    "\n",
    "plt.figure(figsize=(15, 8))\n",
    "ax = sns.lineplot(y='user_id', x='first_date', hue='group', data=new_users_date)\n",
    "plt.title('Общее количество новых пользователей по дням')\n",
    "plt.show()"
   ]
  },
  {
   "cell_type": "markdown",
   "metadata": {},
   "source": [
    "Новые пользователи появлялись равномерно в группах А и В, при этом в группе В всегда ниже. Видно, что в период с 12 по 14 происходил рост пользователей с пиком 14 декабря и дальнейшим спадом. Этим можно объяснить повышения количества событий в эти же даты."
   ]
  },
  {
   "cell_type": "markdown",
   "metadata": {},
   "source": [
    "### Построение воронки"
   ]
  },
  {
   "cell_type": "code",
   "execution_count": 49,
   "metadata": {},
   "outputs": [],
   "source": [
    "test = test.merge(new_users)\n",
    "test['days'] = test['event_date'] - test['first_date']\n",
    "test = test[test['days'] < pd.to_timedelta(14, unit='D')] #ограничение измерения метрик за 14 дней с момента регистрации"
   ]
  },
  {
   "cell_type": "code",
   "execution_count": 50,
   "metadata": {},
   "outputs": [
    {
     "data": {
      "text/html": [
       "<div>\n",
       "<style scoped>\n",
       "    .dataframe tbody tr th:only-of-type {\n",
       "        vertical-align: middle;\n",
       "    }\n",
       "\n",
       "    .dataframe tbody tr th {\n",
       "        vertical-align: top;\n",
       "    }\n",
       "\n",
       "    .dataframe thead th {\n",
       "        text-align: right;\n",
       "    }\n",
       "</style>\n",
       "<table border=\"1\" class=\"dataframe\">\n",
       "  <thead>\n",
       "    <tr style=\"text-align: right;\">\n",
       "      <th></th>\n",
       "      <th>event_name</th>\n",
       "      <th>user_id</th>\n",
       "      <th>share</th>\n",
       "    </tr>\n",
       "  </thead>\n",
       "  <tbody>\n",
       "    <tr>\n",
       "      <th>0</th>\n",
       "      <td>login</td>\n",
       "      <td>2747</td>\n",
       "      <td>1.00</td>\n",
       "    </tr>\n",
       "    <tr>\n",
       "      <th>1</th>\n",
       "      <td>product_cart</td>\n",
       "      <td>824</td>\n",
       "      <td>0.30</td>\n",
       "    </tr>\n",
       "    <tr>\n",
       "      <th>2</th>\n",
       "      <td>product_page</td>\n",
       "      <td>1780</td>\n",
       "      <td>0.65</td>\n",
       "    </tr>\n",
       "    <tr>\n",
       "      <th>3</th>\n",
       "      <td>purchase</td>\n",
       "      <td>872</td>\n",
       "      <td>0.32</td>\n",
       "    </tr>\n",
       "  </tbody>\n",
       "</table>\n",
       "</div>"
      ],
      "text/plain": [
       "     event_name  user_id  share\n",
       "0         login     2747   1.00\n",
       "1  product_cart      824   0.30\n",
       "2  product_page     1780   0.65\n",
       "3      purchase      872   0.32"
      ]
     },
     "execution_count": 50,
     "metadata": {},
     "output_type": "execute_result"
    }
   ],
   "source": [
    "users_A = test[test['group'] == 'A'].groupby('event_name').agg({'user_id': 'nunique'})\n",
    "users_A['share'] = round(users_A['user_id'] / test[test['group'] == 'A']['user_id'].nunique(), 2)\n",
    "users_A = users_A.reset_index()\n",
    "users_A"
   ]
  },
  {
   "cell_type": "markdown",
   "metadata": {},
   "source": [
    "В группе А из все зашли в систему. При этом на странице продукта оказалось 65%, совершили покупку и добавили в корзину примерно одно количество пользователей - 30% и 32%. Это можно объяснить возможным наличием в магазине \"быстрой покупки\"."
   ]
  },
  {
   "cell_type": "code",
   "execution_count": 51,
   "metadata": {},
   "outputs": [
    {
     "data": {
      "text/html": [
       "<div>\n",
       "<style scoped>\n",
       "    .dataframe tbody tr th:only-of-type {\n",
       "        vertical-align: middle;\n",
       "    }\n",
       "\n",
       "    .dataframe tbody tr th {\n",
       "        vertical-align: top;\n",
       "    }\n",
       "\n",
       "    .dataframe thead th {\n",
       "        text-align: right;\n",
       "    }\n",
       "</style>\n",
       "<table border=\"1\" class=\"dataframe\">\n",
       "  <thead>\n",
       "    <tr style=\"text-align: right;\">\n",
       "      <th></th>\n",
       "      <th>event_name</th>\n",
       "      <th>user_id</th>\n",
       "      <th>share</th>\n",
       "    </tr>\n",
       "  </thead>\n",
       "  <tbody>\n",
       "    <tr>\n",
       "      <th>0</th>\n",
       "      <td>login</td>\n",
       "      <td>927</td>\n",
       "      <td>1.00</td>\n",
       "    </tr>\n",
       "    <tr>\n",
       "      <th>1</th>\n",
       "      <td>product_cart</td>\n",
       "      <td>255</td>\n",
       "      <td>0.27</td>\n",
       "    </tr>\n",
       "    <tr>\n",
       "      <th>2</th>\n",
       "      <td>product_page</td>\n",
       "      <td>523</td>\n",
       "      <td>0.56</td>\n",
       "    </tr>\n",
       "    <tr>\n",
       "      <th>3</th>\n",
       "      <td>purchase</td>\n",
       "      <td>256</td>\n",
       "      <td>0.28</td>\n",
       "    </tr>\n",
       "  </tbody>\n",
       "</table>\n",
       "</div>"
      ],
      "text/plain": [
       "     event_name  user_id  share\n",
       "0         login      927   1.00\n",
       "1  product_cart      255   0.27\n",
       "2  product_page      523   0.56\n",
       "3      purchase      256   0.28"
      ]
     },
     "execution_count": 51,
     "metadata": {},
     "output_type": "execute_result"
    }
   ],
   "source": [
    "users_B = test[test['group'] == 'B'].groupby('event_name').agg({'user_id': 'nunique'})\n",
    "users_B['share'] = round(users_B['user_id'] / test[test['group'] == 'B']['user_id'].nunique(), 2)\n",
    "users_B = users_B.reset_index()\n",
    "users_B"
   ]
  },
  {
   "cell_type": "markdown",
   "metadata": {},
   "source": [
    "В группе В 56% зашли на страницу товара, 28% - совершили покупку."
   ]
  },
  {
   "cell_type": "code",
   "execution_count": 1,
   "metadata": {},
   "outputs": [],
   "source": [
    "#funnel_A = users_A[['event_name', 'user_id']]\n",
    "#index_sorted = [0, 2, 1, 3]\n",
    "#funnel_A = funnel_A.reindex(index_sorted)\n",
    "\n",
    "#funnel_B = users_B[['event_name', 'user_id']]\n",
    "#index_sorted = [0, 2, 1, 3]\n",
    "#funnel_B = funnel_B.reindex(index_sorted)\n",
    "\n",
    "#fig = go.Figure()\n",
    "\n",
    "#fig.add_trace(go.Funnel(\n",
    "#    name = 'A',\n",
    "#    y = funnel_A['event_name'],\n",
    "#    x = funnel_A['user_id'],\n",
    "#    textinfo = \"value+percent initial\"))\n",
    "\n",
    "#fig.add_trace(go.Funnel(\n",
    "#    name = 'B',\n",
    "#    y = funnel_B['event_name'],\n",
    "#    x = funnel_B['user_id'],\n",
    "#    textinfo = \"value+percent initial\"))\n",
    "\n",
    "#fig.update_layout(title_text = 'Воронка конверсии событий по группам A/B')\n",
    "#fig.show()"
   ]
  },
  {
   "attachments": {
    "newplot.png": {
     "image/png": "[encoded data removed]"
    }
   },
   "cell_type": "markdown",
   "metadata": {},
   "source": [
    "![newplot.png](attachment:newplot.png)"
   ]
  },
  {
   "cell_type": "markdown",
   "metadata": {},
   "source": [
    "32% пользователей совершили покупку в группе А и 28% в группе В. При этом зашедших в профиль пользователей в группе В практически в 3 раза меньше, чем в группе А."
   ]
  },
  {
   "cell_type": "markdown",
   "metadata": {},
   "source": [
    "### Вывод"
   ]
  },
  {
   "cell_type": "markdown",
   "metadata": {},
   "source": [
    "Приступая к тестированию нужно учесть, что группы А и В собраны довольно различно.\n",
    "\n",
    "Размеры групп различаются в 1,3 раза, в то время как количество событий на группу А в около 3,5 раза больше. \n",
    "\n",
    "Медианное и среднее количество событий по группам различно, в группе В медианное количество событий 0, в группе А - 4.\n",
    "\n",
    "В воронку попали не все пользователи, поскольку не все пользователи за рассмотренный период совершали событие. На первом шаге воронки в группе А в примерно 3 раза больше пользователей, чем в группе В. При этом на каждом последующем шаге пользователи в группах уменьшались в схожих пропорциях (разница от 3 до 9 %)."
   ]
  },
  {
   "cell_type": "markdown",
   "metadata": {},
   "source": [
    "## A/B-тест"
   ]
  },
  {
   "cell_type": "markdown",
   "metadata": {},
   "source": [
    "### Проверка метрик"
   ]
  },
  {
   "cell_type": "code",
   "execution_count": 53,
   "metadata": {
    "scrolled": false
   },
   "outputs": [],
   "source": [
    "events_data = test.pivot_table(index=['days', 'group', 'event_name'], values='user_id', aggfunc='nunique').reset_index()"
   ]
  },
  {
   "cell_type": "code",
   "execution_count": 54,
   "metadata": {},
   "outputs": [],
   "source": [
    "product_page = events_data[events_data['event_name'] == 'product_page']\n",
    "product_cart = events_data[events_data['event_name'] == 'product_cart']\n",
    "purchase = events_data[events_data['event_name'] == 'purchase']"
   ]
  },
  {
   "cell_type": "code",
   "execution_count": 55,
   "metadata": {},
   "outputs": [],
   "source": [
    "pd.options.mode.chained_assignment = None\n",
    "product_page['events_cumsum'] = product_page.groupby('group')['user_id'].cumsum()\n",
    "product_cart['events_cumsum'] = product_cart.groupby('group')['user_id'].cumsum()\n",
    "purchase['events_cumsum'] = purchase.groupby('group')['user_id'].cumsum()"
   ]
  },
  {
   "cell_type": "code",
   "execution_count": 56,
   "metadata": {},
   "outputs": [
    {
     "data": {
      "image/png": "[encoded data removed]",
      "text/plain": [
       "<Figure size 1080x576 with 1 Axes>"
      ]
     },
     "metadata": {
      "needs_background": "light"
     },
     "output_type": "display_data"
    }
   ],
   "source": [
    "plt.figure(figsize=(15, 8))\n",
    "ax = sns.lineplot(y='events_cumsum', x='days', hue='group', data=product_page)\n",
    "plt.title('Накопленное количество посещений страницы по дням')\n",
    "plt.show()"
   ]
  },
  {
   "cell_type": "code",
   "execution_count": 57,
   "metadata": {},
   "outputs": [
    {
     "data": {
      "image/png": "[encoded data removed]",
      "text/plain": [
       "<Figure size 1080x576 with 1 Axes>"
      ]
     },
     "metadata": {
      "needs_background": "light"
     },
     "output_type": "display_data"
    }
   ],
   "source": [
    "plt.figure(figsize=(15, 8))\n",
    "ax = sns.lineplot(y='events_cumsum', x='days', hue='group', data=product_cart)\n",
    "plt.title('Накопленное количество посещения корзины по дням')\n",
    "plt.show()"
   ]
  },
  {
   "cell_type": "code",
   "execution_count": 58,
   "metadata": {},
   "outputs": [
    {
     "data": {
      "image/png": "[encoded data removed]",
      "text/plain": [
       "<Figure size 1080x576 with 1 Axes>"
      ]
     },
     "metadata": {
      "needs_background": "light"
     },
     "output_type": "display_data"
    }
   ],
   "source": [
    "plt.figure(figsize=(15, 8))\n",
    "ax = sns.lineplot(y='events_cumsum', x='days', hue='group', data=purchase)\n",
    "plt.title('Накопленное количество покупок по дням')\n",
    "plt.show()"
   ]
  },
  {
   "cell_type": "markdown",
   "metadata": {},
   "source": [
    "Нельзя сказать, что за 14 дней метрики разительно улучшились. Причиной тому может быть то, что пользователи завершают свои действия гораздо быстрее - уже на 7 день графики становятся достаточно пологими, что говорит о том, что большинство пользователей к этому времени уже завершиили свои действия на сайте. \n",
    "\n",
    "В группе В рост менее яркий, чем в группе А."
   ]
  },
  {
   "cell_type": "markdown",
   "metadata": {},
   "source": [
    "### A/B-тест, проверка z-критерия"
   ]
  },
  {
   "cell_type": "markdown",
   "metadata": {},
   "source": [
    "Так же роводится z-тест (проверка гипотезы о равенстве долей). Альфа принимает значение 0,05/3 (с учетом поправки Бонферрони).\n",
    "\n",
    "**H0:** между групп A и В нет различий в долях\n",
    "\n",
    "**H1:** между долями есть значимая разница"
   ]
  },
  {
   "cell_type": "code",
   "execution_count": 59,
   "metadata": {},
   "outputs": [],
   "source": [
    "def test_z(group_1, group_2, event, alpha):\n",
    "      \n",
    "    def successes_trials(group1, group2, event):\n",
    "            successes = (\n",
    "                np\n",
    "                .array([test.query(f'group == \"{group_1}\"  & event_name == \"{event}\"')['user_id'].nunique(),\n",
    "                          test.query(f'group == \"{group_2}\" & event_name == \"{event}\"')['user_id'].nunique()])\n",
    "            )\n",
    "            trials = (\n",
    "                np\n",
    "                .array([test.query(f'group == \"{group_1}\"')['user_id'].nunique(),\\\n",
    "                           test.query(f'group == \"{group_2}\"')['user_id'].nunique()])\n",
    "            )\n",
    "            return successes, trials\n",
    "        \n",
    "    successes, trials = successes_trials(group_1, group_2, event) \n",
    "# пропорция успехов в первой группе:\n",
    "    p1 = successes[0]/trials[0]\n",
    "# пропорция успехов во второй группе: \n",
    "    p2 = successes[1]/trials[1]\n",
    "    print(trials[0], trials[1])\n",
    "# пропорция успехов в комбинированном датасете: \n",
    "    p_combined = (successes[0] + successes[1]) / (trials[0] + trials[1])\n",
    " \n",
    "    difference = p1 - p2 \n",
    "\n",
    "    z_value = difference / mth.sqrt(p_combined * (1 - p_combined) * (1/trials[0] + 1/trials[1]))\n",
    " \n",
    "    distr = st.norm(0, 1) \n",
    " \n",
    "    p_value = (1 - distr.cdf(abs(z_value))) * 2\n",
    "    \n",
    "    print(f'Группы {group_1} и {group_2}. Событие {event}')\n",
    " \n",
    "    print('p-значение: ', round(p_value, 4))\n",
    "    if p_value < alpha:\n",
    "        print('Отвергаем нулевую гипотезу: между долями есть значимая разница\\n')\n",
    "    else:\n",
    "        print('Не получилось отвергнуть нулевую гипотезу, нет оснований считать доли разными\\n'\n",
    "        )"
   ]
  },
  {
   "cell_type": "code",
   "execution_count": 60,
   "metadata": {
    "scrolled": false
   },
   "outputs": [
    {
     "name": "stdout",
     "output_type": "stream",
     "text": [
      "2747 928\n",
      "Группы A и B. Событие product_page\n",
      "p-значение:  0.0\n",
      "Отвергаем нулевую гипотезу: между долями есть значимая разница\n",
      "\n",
      "2747 928\n",
      "Группы A и B. Событие product_cart\n",
      "p-значение:  0.1453\n",
      "Не получилось отвергнуть нулевую гипотезу, нет оснований считать доли разными\n",
      "\n",
      "2747 928\n",
      "Группы A и B. Событие purchase\n",
      "p-значение:  0.0176\n",
      "Не получилось отвергнуть нулевую гипотезу, нет оснований считать доли разными\n",
      "\n"
     ]
    }
   ],
   "source": [
    "alpha = 0.05 / 3 # критический уровень статистической значимости с поправкой\n",
    "group_1 = 'A'\n",
    "group_2 = 'B'\n",
    "\n",
    "test_z(group_1, group_2, 'product_page', alpha)\n",
    "test_z(group_1, group_2, 'product_cart', alpha)\n",
    "test_z(group_1, group_2, 'purchase', alpha)"
   ]
  },
  {
   "cell_type": "markdown",
   "metadata": {},
   "source": [
    "### Вывод"
   ]
  },
  {
   "cell_type": "markdown",
   "metadata": {},
   "source": [
    "Группы А и В значительно различаются по количеству пользователей и совершаемых ими событий. При этом необходимость следить за метриками на протяжении 14 дней отсутствует, поскольку большинство событий заканчиваются на 7 день.\n",
    "\n",
    "Метрики группы А значительно выше, чем в группе В.\n",
    "\n",
    "Z-тест показал, что значимая разница между долями присутствует только в событии product_page. При этом событие purchase проходит порог в 0,05, но не проходит порог в 0,05/3."
   ]
  },
  {
   "cell_type": "markdown",
   "metadata": {},
   "source": [
    "## Выводы"
   ]
  },
  {
   "cell_type": "markdown",
   "metadata": {},
   "source": [
    "**Была нарушена процедура применения А/В-тестирования:**\n",
    "\n",
    "данные не соответствуют ТЗ (в дате проведения, количестве участников, наличии смежных акций и тестов, влияющих на пользователей, не все пользователи из необходимого региона);\n",
    "\n",
    "пользователи за неделю выполняют практически все действия, необходимость проведения теста 14 дней отсутствует при данных показателях (которые могут быть искажены из-за преждевременного окончания сбора данных по событиям);\n",
    "\n",
    "z-тест показал, что значимая разница между долями присутствует только в событии product_page.\n",
    "\n",
    "\n",
    "**Вывод при имеющихся данных:**\n",
    "\n",
    "анализ воронки показал, что группа А имеет лучшие метрики, чем группа В. При этом совершение покупки в группе А происходит на 4% больше, чем в группе В;\n",
    "\n",
    "**Рекомендуется провести повторное А/В-тестирование**"
   ]
  }
 ],
 "metadata": {
  "ExecuteTimeLog": [
   {
    "duration": 8,
    "start_time": "2023-07-17T16:54:00.599Z"
   },
   {
    "duration": 444,
    "start_time": "2023-07-19T09:54:47.204Z"
   },
   {
    "duration": 69,
    "start_time": "2023-07-19T09:55:17.744Z"
   },
   {
    "duration": 4,
    "start_time": "2023-07-19T09:55:23.845Z"
   },
   {
    "duration": 755,
    "start_time": "2023-07-19T09:55:25.153Z"
   },
   {
    "duration": 796,
    "start_time": "2023-07-19T09:55:30.501Z"
   },
   {
    "duration": 3,
    "start_time": "2023-07-19T09:56:05.606Z"
   },
   {
    "duration": 44,
    "start_time": "2023-07-19T09:56:10.339Z"
   },
   {
    "duration": 152,
    "start_time": "2023-07-19T09:57:04.006Z"
   },
   {
    "duration": 802,
    "start_time": "2023-07-19T09:57:37.512Z"
   },
   {
    "duration": 95,
    "start_time": "2023-07-19T09:58:38.499Z"
   },
   {
    "duration": 146,
    "start_time": "2023-07-19T10:00:18.650Z"
   },
   {
    "duration": 19,
    "start_time": "2023-07-19T10:00:36.018Z"
   },
   {
    "duration": 55,
    "start_time": "2023-07-19T10:00:42.581Z"
   },
   {
    "duration": 22,
    "start_time": "2023-07-19T10:00:46.451Z"
   },
   {
    "duration": 11,
    "start_time": "2023-07-19T10:00:49.512Z"
   },
   {
    "duration": 80,
    "start_time": "2023-07-19T10:05:58.540Z"
   },
   {
    "duration": 131,
    "start_time": "2023-07-19T10:06:21.918Z"
   },
   {
    "duration": 962,
    "start_time": "2023-07-19T10:06:40.876Z"
   },
   {
    "duration": 11,
    "start_time": "2023-07-19T10:06:46.351Z"
   },
   {
    "duration": 16,
    "start_time": "2023-07-19T10:06:47.379Z"
   },
   {
    "duration": 42,
    "start_time": "2023-07-19T10:06:48.416Z"
   },
   {
    "duration": 13,
    "start_time": "2023-07-19T10:06:49.450Z"
   },
   {
    "duration": 3,
    "start_time": "2023-07-19T10:16:25.080Z"
   },
   {
    "duration": 25,
    "start_time": "2023-07-19T10:19:21.356Z"
   },
   {
    "duration": 36,
    "start_time": "2023-07-19T10:19:28.923Z"
   },
   {
    "duration": 39,
    "start_time": "2023-07-19T10:19:34.352Z"
   },
   {
    "duration": 38,
    "start_time": "2023-07-19T10:35:16.403Z"
   },
   {
    "duration": 46,
    "start_time": "2023-07-19T10:35:30.911Z"
   },
   {
    "duration": 50,
    "start_time": "2023-07-19T10:35:43.678Z"
   },
   {
    "duration": 38,
    "start_time": "2023-07-19T10:36:11.536Z"
   },
   {
    "duration": 10,
    "start_time": "2023-07-19T10:37:30.199Z"
   },
   {
    "duration": 9,
    "start_time": "2023-07-19T10:38:00.074Z"
   },
   {
    "duration": 36,
    "start_time": "2023-07-19T10:38:00.470Z"
   },
   {
    "duration": 192,
    "start_time": "2023-07-19T10:38:00.933Z"
   },
   {
    "duration": 17,
    "start_time": "2023-07-19T10:38:01.560Z"
   },
   {
    "duration": 5,
    "start_time": "2023-07-19T10:43:46.523Z"
   },
   {
    "duration": 6,
    "start_time": "2023-07-19T10:43:53.532Z"
   },
   {
    "duration": 2,
    "start_time": "2023-07-19T10:45:17.883Z"
   },
   {
    "duration": 5,
    "start_time": "2023-07-19T10:52:43.778Z"
   },
   {
    "duration": 10,
    "start_time": "2023-07-19T10:53:05.619Z"
   },
   {
    "duration": 5,
    "start_time": "2023-07-19T10:53:16.196Z"
   },
   {
    "duration": 69,
    "start_time": "2023-07-19T10:54:19.236Z"
   },
   {
    "duration": 45,
    "start_time": "2023-07-19T10:54:23.116Z"
   },
   {
    "duration": 98,
    "start_time": "2023-07-19T10:58:45.761Z"
   },
   {
    "duration": 69,
    "start_time": "2023-07-19T10:58:48.917Z"
   },
   {
    "duration": 31,
    "start_time": "2023-07-19T10:58:52.465Z"
   },
   {
    "duration": 4,
    "start_time": "2023-07-19T10:59:33.357Z"
   },
   {
    "duration": 1083,
    "start_time": "2023-07-19T10:59:42.726Z"
   },
   {
    "duration": 10,
    "start_time": "2023-07-19T11:01:21.698Z"
   },
   {
    "duration": 7,
    "start_time": "2023-07-19T11:01:25.945Z"
   },
   {
    "duration": 14,
    "start_time": "2023-07-19T11:02:58.188Z"
   },
   {
    "duration": 21,
    "start_time": "2023-07-19T11:03:07.479Z"
   },
   {
    "duration": 14,
    "start_time": "2023-07-19T11:03:17.190Z"
   },
   {
    "duration": 14,
    "start_time": "2023-07-19T11:03:22.673Z"
   },
   {
    "duration": 14,
    "start_time": "2023-07-19T11:03:32.910Z"
   },
   {
    "duration": 16,
    "start_time": "2023-07-19T11:05:13.513Z"
   },
   {
    "duration": 22,
    "start_time": "2023-07-19T11:05:16.825Z"
   },
   {
    "duration": 13,
    "start_time": "2023-07-19T11:05:20.006Z"
   },
   {
    "duration": 21,
    "start_time": "2023-07-19T11:05:40.351Z"
   },
   {
    "duration": 15,
    "start_time": "2023-07-19T11:05:48.913Z"
   },
   {
    "duration": 15,
    "start_time": "2023-07-19T11:05:57.390Z"
   },
   {
    "duration": 6,
    "start_time": "2023-07-19T11:06:17.060Z"
   },
   {
    "duration": 6,
    "start_time": "2023-07-19T11:06:29.737Z"
   },
   {
    "duration": 5,
    "start_time": "2023-07-19T11:08:09.634Z"
   },
   {
    "duration": 10,
    "start_time": "2023-07-19T11:09:52.574Z"
   },
   {
    "duration": 7,
    "start_time": "2023-07-19T11:12:05.905Z"
   },
   {
    "duration": 376,
    "start_time": "2023-07-19T14:50:52.393Z"
   },
   {
    "duration": 3,
    "start_time": "2023-07-19T14:50:52.771Z"
   },
   {
    "duration": 97,
    "start_time": "2023-07-19T14:50:52.775Z"
   },
   {
    "duration": 212,
    "start_time": "2023-07-19T14:50:52.874Z"
   },
   {
    "duration": 987,
    "start_time": "2023-07-19T14:50:53.089Z"
   },
   {
    "duration": 104,
    "start_time": "2023-07-19T14:50:54.079Z"
   },
   {
    "duration": 13,
    "start_time": "2023-07-19T14:50:54.185Z"
   },
   {
    "duration": 28,
    "start_time": "2023-07-19T14:50:54.200Z"
   },
   {
    "duration": 72,
    "start_time": "2023-07-19T14:50:54.230Z"
   },
   {
    "duration": 14,
    "start_time": "2023-07-19T14:50:54.306Z"
   },
   {
    "duration": 46,
    "start_time": "2023-07-19T14:50:54.321Z"
   },
   {
    "duration": 40,
    "start_time": "2023-07-19T14:50:54.369Z"
   },
   {
    "duration": 8,
    "start_time": "2023-07-19T14:50:54.411Z"
   },
   {
    "duration": 53,
    "start_time": "2023-07-19T14:50:54.421Z"
   },
   {
    "duration": 181,
    "start_time": "2023-07-19T14:50:54.476Z"
   },
   {
    "duration": 13,
    "start_time": "2023-07-19T14:50:54.659Z"
   },
   {
    "duration": 5,
    "start_time": "2023-07-19T14:50:54.673Z"
   },
   {
    "duration": 4,
    "start_time": "2023-07-19T14:50:54.680Z"
   },
   {
    "duration": 6,
    "start_time": "2023-07-19T14:50:54.685Z"
   },
   {
    "duration": 8,
    "start_time": "2023-07-19T14:50:54.692Z"
   },
   {
    "duration": 13,
    "start_time": "2023-07-19T14:50:54.701Z"
   },
   {
    "duration": 46,
    "start_time": "2023-07-19T14:50:54.715Z"
   },
   {
    "duration": 13,
    "start_time": "2023-07-19T14:50:54.762Z"
   },
   {
    "duration": 8,
    "start_time": "2023-07-19T14:50:54.777Z"
   },
   {
    "duration": 1243,
    "start_time": "2023-07-19T14:54:06.066Z"
   },
   {
    "duration": 4,
    "start_time": "2023-07-19T14:56:20.792Z"
   },
   {
    "duration": 81,
    "start_time": "2023-07-19T14:56:30.557Z"
   },
   {
    "duration": 7,
    "start_time": "2023-07-19T14:56:50.453Z"
   },
   {
    "duration": 11,
    "start_time": "2023-07-19T14:57:05.581Z"
   },
   {
    "duration": 13,
    "start_time": "2023-07-19T14:57:39.357Z"
   },
   {
    "duration": 82,
    "start_time": "2023-07-19T14:58:08.918Z"
   },
   {
    "duration": 12,
    "start_time": "2023-07-19T14:58:22.258Z"
   },
   {
    "duration": 13,
    "start_time": "2023-07-19T14:58:29.026Z"
   },
   {
    "duration": 474,
    "start_time": "2023-07-19T15:01:23.807Z"
   },
   {
    "duration": 3,
    "start_time": "2023-07-19T15:01:24.284Z"
   },
   {
    "duration": 102,
    "start_time": "2023-07-19T15:01:24.289Z"
   },
   {
    "duration": 173,
    "start_time": "2023-07-19T15:01:24.392Z"
   },
   {
    "duration": 1104,
    "start_time": "2023-07-19T15:01:24.567Z"
   },
   {
    "duration": 76,
    "start_time": "2023-07-19T15:01:25.673Z"
   },
   {
    "duration": 14,
    "start_time": "2023-07-19T15:01:25.751Z"
   },
   {
    "duration": 53,
    "start_time": "2023-07-19T15:01:25.767Z"
   },
   {
    "duration": 91,
    "start_time": "2023-07-19T15:01:25.823Z"
   },
   {
    "duration": 14,
    "start_time": "2023-07-19T15:01:25.916Z"
   },
   {
    "duration": 38,
    "start_time": "2023-07-19T15:01:25.932Z"
   },
   {
    "duration": 45,
    "start_time": "2023-07-19T15:01:25.973Z"
   },
   {
    "duration": 20,
    "start_time": "2023-07-19T15:01:26.020Z"
   },
   {
    "duration": 64,
    "start_time": "2023-07-19T15:01:26.043Z"
   },
   {
    "duration": 209,
    "start_time": "2023-07-19T15:01:26.109Z"
   },
   {
    "duration": 11,
    "start_time": "2023-07-19T15:01:26.320Z"
   },
   {
    "duration": 5,
    "start_time": "2023-07-19T15:01:26.333Z"
   },
   {
    "duration": 31,
    "start_time": "2023-07-19T15:01:26.340Z"
   },
   {
    "duration": 5,
    "start_time": "2023-07-19T15:01:26.372Z"
   },
   {
    "duration": 11,
    "start_time": "2023-07-19T15:01:26.378Z"
   },
   {
    "duration": 360,
    "start_time": "2023-07-19T15:01:42.004Z"
   },
   {
    "duration": 5,
    "start_time": "2023-07-19T15:01:42.367Z"
   },
   {
    "duration": 126,
    "start_time": "2023-07-19T15:01:42.374Z"
   },
   {
    "duration": 159,
    "start_time": "2023-07-19T15:01:42.502Z"
   },
   {
    "duration": 1918,
    "start_time": "2023-07-19T15:01:42.663Z"
   },
   {
    "duration": 78,
    "start_time": "2023-07-19T15:01:44.583Z"
   },
   {
    "duration": 13,
    "start_time": "2023-07-19T15:01:44.662Z"
   },
   {
    "duration": 42,
    "start_time": "2023-07-19T15:01:44.676Z"
   },
   {
    "duration": 50,
    "start_time": "2023-07-19T15:01:44.720Z"
   },
   {
    "duration": 13,
    "start_time": "2023-07-19T15:01:44.772Z"
   },
   {
    "duration": 42,
    "start_time": "2023-07-19T15:01:44.787Z"
   },
   {
    "duration": 44,
    "start_time": "2023-07-19T15:01:44.831Z"
   },
   {
    "duration": 9,
    "start_time": "2023-07-19T15:01:44.877Z"
   },
   {
    "duration": 38,
    "start_time": "2023-07-19T15:01:44.889Z"
   },
   {
    "duration": 232,
    "start_time": "2023-07-19T15:01:44.928Z"
   },
   {
    "duration": 13,
    "start_time": "2023-07-19T15:01:45.161Z"
   },
   {
    "duration": 33,
    "start_time": "2023-07-19T15:01:45.176Z"
   },
   {
    "duration": 51,
    "start_time": "2023-07-19T15:01:45.211Z"
   },
   {
    "duration": 17,
    "start_time": "2023-07-19T15:01:45.264Z"
   },
   {
    "duration": 19,
    "start_time": "2023-07-19T15:01:45.283Z"
   },
   {
    "duration": 89,
    "start_time": "2023-07-19T15:01:45.303Z"
   },
   {
    "duration": 0,
    "start_time": "2023-07-19T15:01:45.394Z"
   },
   {
    "duration": 0,
    "start_time": "2023-07-19T15:01:45.395Z"
   },
   {
    "duration": 11,
    "start_time": "2023-07-19T15:01:54.661Z"
   },
   {
    "duration": 7,
    "start_time": "2023-07-19T15:01:55.107Z"
   },
   {
    "duration": 7,
    "start_time": "2023-07-19T15:01:56.249Z"
   },
   {
    "duration": 6,
    "start_time": "2023-07-19T15:01:56.580Z"
   },
   {
    "duration": 21,
    "start_time": "2023-07-19T15:02:09.990Z"
   },
   {
    "duration": 13,
    "start_time": "2023-07-19T15:04:22.872Z"
   },
   {
    "duration": 26,
    "start_time": "2023-07-19T15:05:04.054Z"
   },
   {
    "duration": 12,
    "start_time": "2023-07-19T15:05:07.065Z"
   },
   {
    "duration": 7,
    "start_time": "2023-07-19T15:05:07.699Z"
   },
   {
    "duration": 11,
    "start_time": "2023-07-19T15:05:24.549Z"
   },
   {
    "duration": 6,
    "start_time": "2023-07-19T15:05:24.811Z"
   },
   {
    "duration": 1133,
    "start_time": "2023-07-19T15:07:42.516Z"
   },
   {
    "duration": 11,
    "start_time": "2023-07-19T15:07:58.685Z"
   },
   {
    "duration": 1142,
    "start_time": "2023-07-19T15:09:28.701Z"
   },
   {
    "duration": 10,
    "start_time": "2023-07-19T15:09:46.809Z"
   },
   {
    "duration": 10,
    "start_time": "2023-07-19T15:10:11.617Z"
   },
   {
    "duration": 10,
    "start_time": "2023-07-19T15:11:50.234Z"
   },
   {
    "duration": 9,
    "start_time": "2023-07-19T15:12:06.714Z"
   },
   {
    "duration": 11,
    "start_time": "2023-07-19T15:12:24.489Z"
   },
   {
    "duration": 12,
    "start_time": "2023-07-19T15:12:42.165Z"
   },
   {
    "duration": 13,
    "start_time": "2023-07-19T15:33:34.784Z"
   },
   {
    "duration": 39,
    "start_time": "2023-07-19T15:40:23.493Z"
   },
   {
    "duration": 1131,
    "start_time": "2023-07-19T15:41:06.024Z"
   },
   {
    "duration": 35,
    "start_time": "2023-07-19T15:41:13.403Z"
   },
   {
    "duration": 34,
    "start_time": "2023-07-19T15:41:21.909Z"
   },
   {
    "duration": 40,
    "start_time": "2023-07-19T15:41:28.176Z"
   },
   {
    "duration": 26,
    "start_time": "2023-07-19T15:42:26.468Z"
   },
   {
    "duration": 12,
    "start_time": "2023-07-19T15:42:38.501Z"
   },
   {
    "duration": 16,
    "start_time": "2023-07-19T15:42:44.257Z"
   },
   {
    "duration": 25,
    "start_time": "2023-07-19T15:42:51.008Z"
   },
   {
    "duration": 12,
    "start_time": "2023-07-19T15:43:37.949Z"
   },
   {
    "duration": 26,
    "start_time": "2023-07-19T15:43:45.506Z"
   },
   {
    "duration": 29,
    "start_time": "2023-07-19T15:43:58.383Z"
   },
   {
    "duration": 32,
    "start_time": "2023-07-19T15:44:27.953Z"
   },
   {
    "duration": 17,
    "start_time": "2023-07-19T15:45:19.355Z"
   },
   {
    "duration": 19,
    "start_time": "2023-07-19T15:45:38.370Z"
   },
   {
    "duration": 17,
    "start_time": "2023-07-19T15:45:44.154Z"
   },
   {
    "duration": 14,
    "start_time": "2023-07-19T15:45:48.557Z"
   },
   {
    "duration": 4,
    "start_time": "2023-07-19T15:45:53.253Z"
   },
   {
    "duration": 6,
    "start_time": "2023-07-19T15:57:01.780Z"
   },
   {
    "duration": 6,
    "start_time": "2023-07-19T15:57:07.649Z"
   },
   {
    "duration": 8,
    "start_time": "2023-07-19T15:57:19.052Z"
   },
   {
    "duration": 19,
    "start_time": "2023-07-19T15:57:24.066Z"
   },
   {
    "duration": 5,
    "start_time": "2023-07-19T16:03:53.693Z"
   },
   {
    "duration": 5,
    "start_time": "2023-07-19T16:04:06.442Z"
   },
   {
    "duration": 38,
    "start_time": "2023-07-19T16:04:27.608Z"
   },
   {
    "duration": 8,
    "start_time": "2023-07-19T16:04:46.612Z"
   },
   {
    "duration": 7,
    "start_time": "2023-07-19T16:04:57.882Z"
   },
   {
    "duration": 17,
    "start_time": "2023-07-19T16:06:38.818Z"
   },
   {
    "duration": 14,
    "start_time": "2023-07-19T16:06:58.565Z"
   },
   {
    "duration": 12,
    "start_time": "2023-07-19T16:07:45.853Z"
   },
   {
    "duration": 4,
    "start_time": "2023-07-19T16:07:46.378Z"
   },
   {
    "duration": 13,
    "start_time": "2023-07-19T16:07:54.175Z"
   },
   {
    "duration": 14,
    "start_time": "2023-07-19T16:08:00.756Z"
   },
   {
    "duration": 11,
    "start_time": "2023-07-19T16:08:17.762Z"
   },
   {
    "duration": 10,
    "start_time": "2023-07-19T16:08:25.417Z"
   },
   {
    "duration": 12,
    "start_time": "2023-07-19T16:08:43.970Z"
   },
   {
    "duration": 8,
    "start_time": "2023-07-19T16:09:04.004Z"
   },
   {
    "duration": 7,
    "start_time": "2023-07-19T16:09:15.112Z"
   },
   {
    "duration": 28,
    "start_time": "2023-07-19T16:15:58.150Z"
   },
   {
    "duration": 9,
    "start_time": "2023-07-19T16:16:13.026Z"
   },
   {
    "duration": 7,
    "start_time": "2023-07-19T16:16:22.193Z"
   },
   {
    "duration": 7,
    "start_time": "2023-07-19T16:18:26.743Z"
   },
   {
    "duration": 18,
    "start_time": "2023-07-19T16:18:56.580Z"
   },
   {
    "duration": 8,
    "start_time": "2023-07-19T16:19:03.004Z"
   },
   {
    "duration": 6,
    "start_time": "2023-07-19T16:19:06.609Z"
   },
   {
    "duration": 11,
    "start_time": "2023-07-19T16:19:29.046Z"
   },
   {
    "duration": 9,
    "start_time": "2023-07-19T16:19:49.538Z"
   },
   {
    "duration": 12,
    "start_time": "2023-07-19T16:19:57.498Z"
   },
   {
    "duration": 17,
    "start_time": "2023-07-19T16:21:15.545Z"
   },
   {
    "duration": 13,
    "start_time": "2023-07-19T16:21:20.180Z"
   },
   {
    "duration": 880,
    "start_time": "2023-07-19T16:22:02.012Z"
   },
   {
    "duration": 7,
    "start_time": "2023-07-19T16:22:10.960Z"
   },
   {
    "duration": 7,
    "start_time": "2023-07-19T16:22:14.525Z"
   },
   {
    "duration": 7,
    "start_time": "2023-07-19T16:22:31.156Z"
   },
   {
    "duration": 16,
    "start_time": "2023-07-19T16:23:21.945Z"
   },
   {
    "duration": 12,
    "start_time": "2023-07-19T16:24:09.815Z"
   },
   {
    "duration": 17,
    "start_time": "2023-07-19T16:24:12.940Z"
   },
   {
    "duration": 12,
    "start_time": "2023-07-19T17:52:43.995Z"
   },
   {
    "duration": 4,
    "start_time": "2023-07-19T17:53:28.171Z"
   },
   {
    "duration": 13,
    "start_time": "2023-07-19T17:53:32.049Z"
   },
   {
    "duration": 5,
    "start_time": "2023-07-19T17:53:59.672Z"
   },
   {
    "duration": 9,
    "start_time": "2023-07-19T17:54:32.622Z"
   },
   {
    "duration": 16,
    "start_time": "2023-07-19T17:54:35.872Z"
   },
   {
    "duration": 1140,
    "start_time": "2023-07-19T17:55:11.129Z"
   },
   {
    "duration": 12,
    "start_time": "2023-07-19T17:55:18.139Z"
   },
   {
    "duration": 14,
    "start_time": "2023-07-19T17:55:24.274Z"
   },
   {
    "duration": 10,
    "start_time": "2023-07-19T17:55:28.417Z"
   },
   {
    "duration": 6,
    "start_time": "2023-07-19T17:55:39.250Z"
   },
   {
    "duration": 7,
    "start_time": "2023-07-19T17:55:47.881Z"
   },
   {
    "duration": 68,
    "start_time": "2023-07-19T17:56:23.164Z"
   },
   {
    "duration": 10,
    "start_time": "2023-07-19T17:56:34.573Z"
   },
   {
    "duration": 8,
    "start_time": "2023-07-19T17:56:41.647Z"
   },
   {
    "duration": 7,
    "start_time": "2023-07-19T17:56:51.995Z"
   },
   {
    "duration": 3,
    "start_time": "2023-07-19T17:57:45.698Z"
   },
   {
    "duration": 12,
    "start_time": "2023-07-19T17:57:53.424Z"
   },
   {
    "duration": 17,
    "start_time": "2023-07-19T17:57:57.178Z"
   },
   {
    "duration": 9,
    "start_time": "2023-07-19T17:58:06.009Z"
   },
   {
    "duration": 6,
    "start_time": "2023-07-19T17:58:06.418Z"
   },
   {
    "duration": 6,
    "start_time": "2023-07-19T17:58:06.856Z"
   },
   {
    "duration": 7,
    "start_time": "2023-07-19T17:58:07.962Z"
   },
   {
    "duration": 7,
    "start_time": "2023-07-19T17:58:15.997Z"
   },
   {
    "duration": 9,
    "start_time": "2023-07-19T17:59:26.538Z"
   },
   {
    "duration": 11,
    "start_time": "2023-07-19T17:59:36.271Z"
   },
   {
    "duration": 9,
    "start_time": "2023-07-19T17:59:56.584Z"
   },
   {
    "duration": 8,
    "start_time": "2023-07-19T18:00:15.665Z"
   },
   {
    "duration": 10,
    "start_time": "2023-07-19T18:00:25.263Z"
   },
   {
    "duration": 15,
    "start_time": "2023-07-19T18:01:18.844Z"
   },
   {
    "duration": 10,
    "start_time": "2023-07-19T18:01:23.491Z"
   },
   {
    "duration": 11,
    "start_time": "2023-07-19T18:01:54.766Z"
   },
   {
    "duration": 12,
    "start_time": "2023-07-19T18:01:55.310Z"
   },
   {
    "duration": 8,
    "start_time": "2023-07-19T18:02:12.064Z"
   },
   {
    "duration": 418,
    "start_time": "2023-07-20T11:05:45.525Z"
   },
   {
    "duration": 3,
    "start_time": "2023-07-20T11:05:45.945Z"
   },
   {
    "duration": 94,
    "start_time": "2023-07-20T11:05:45.949Z"
   },
   {
    "duration": 200,
    "start_time": "2023-07-20T11:05:46.045Z"
   },
   {
    "duration": 1444,
    "start_time": "2023-07-20T11:05:46.248Z"
   },
   {
    "duration": 79,
    "start_time": "2023-07-20T11:05:47.694Z"
   },
   {
    "duration": 12,
    "start_time": "2023-07-20T11:05:47.775Z"
   },
   {
    "duration": 32,
    "start_time": "2023-07-20T11:05:47.789Z"
   },
   {
    "duration": 18,
    "start_time": "2023-07-20T11:05:47.823Z"
   },
   {
    "duration": 6,
    "start_time": "2023-07-20T11:05:47.843Z"
   },
   {
    "duration": 47,
    "start_time": "2023-07-20T11:05:47.851Z"
   },
   {
    "duration": 29,
    "start_time": "2023-07-20T11:05:47.900Z"
   },
   {
    "duration": 12,
    "start_time": "2023-07-20T11:05:47.930Z"
   },
   {
    "duration": 5,
    "start_time": "2023-07-20T11:05:47.960Z"
   },
   {
    "duration": 20,
    "start_time": "2023-07-20T11:05:47.967Z"
   },
   {
    "duration": 37,
    "start_time": "2023-07-20T11:05:47.988Z"
   },
   {
    "duration": 40,
    "start_time": "2023-07-20T11:05:48.027Z"
   },
   {
    "duration": 10,
    "start_time": "2023-07-20T11:05:48.070Z"
   },
   {
    "duration": 36,
    "start_time": "2023-07-20T11:05:48.082Z"
   },
   {
    "duration": 211,
    "start_time": "2023-07-20T11:05:48.120Z"
   },
   {
    "duration": 11,
    "start_time": "2023-07-20T11:05:48.332Z"
   },
   {
    "duration": 28,
    "start_time": "2023-07-20T11:05:48.345Z"
   },
   {
    "duration": 31,
    "start_time": "2023-07-20T11:05:48.375Z"
   },
   {
    "duration": 5,
    "start_time": "2023-07-20T11:05:48.408Z"
   },
   {
    "duration": 32,
    "start_time": "2023-07-20T11:05:48.414Z"
   },
   {
    "duration": 10,
    "start_time": "2023-07-20T11:05:48.447Z"
   },
   {
    "duration": 17,
    "start_time": "2023-07-20T11:05:48.459Z"
   },
   {
    "duration": 9,
    "start_time": "2023-07-20T11:05:48.478Z"
   },
   {
    "duration": 17,
    "start_time": "2023-07-20T11:05:48.489Z"
   },
   {
    "duration": 26,
    "start_time": "2023-07-20T11:05:48.508Z"
   },
   {
    "duration": 18,
    "start_time": "2023-07-20T11:05:48.536Z"
   },
   {
    "duration": 23,
    "start_time": "2023-07-20T11:05:48.556Z"
   },
   {
    "duration": 15,
    "start_time": "2023-07-20T11:05:48.581Z"
   },
   {
    "duration": 22,
    "start_time": "2023-07-20T11:05:48.598Z"
   },
   {
    "duration": 17,
    "start_time": "2023-07-20T11:05:48.622Z"
   },
   {
    "duration": 10,
    "start_time": "2023-07-20T11:05:48.641Z"
   },
   {
    "duration": 32,
    "start_time": "2023-07-20T11:05:48.653Z"
   },
   {
    "duration": 25,
    "start_time": "2023-07-20T11:05:48.687Z"
   },
   {
    "duration": 18,
    "start_time": "2023-07-20T11:05:48.713Z"
   },
   {
    "duration": 28,
    "start_time": "2023-07-20T11:05:48.733Z"
   },
   {
    "duration": 9,
    "start_time": "2023-07-20T11:17:41.861Z"
   },
   {
    "duration": 8,
    "start_time": "2023-07-20T11:18:34.488Z"
   },
   {
    "duration": 11,
    "start_time": "2023-07-20T11:18:42.677Z"
   },
   {
    "duration": 1244,
    "start_time": "2023-07-20T11:19:02.796Z"
   },
   {
    "duration": 11,
    "start_time": "2023-07-20T11:19:12.657Z"
   },
   {
    "duration": 1089,
    "start_time": "2023-07-20T11:19:15.875Z"
   },
   {
    "duration": 10,
    "start_time": "2023-07-20T11:19:20.679Z"
   },
   {
    "duration": 13,
    "start_time": "2023-07-20T11:19:58.496Z"
   },
   {
    "duration": 11,
    "start_time": "2023-07-20T11:20:11.201Z"
   },
   {
    "duration": 12,
    "start_time": "2023-07-20T11:20:34.262Z"
   },
   {
    "duration": 62,
    "start_time": "2023-07-20T11:21:25.583Z"
   },
   {
    "duration": 156,
    "start_time": "2023-07-20T11:21:43.357Z"
   },
   {
    "duration": 11,
    "start_time": "2023-07-20T11:21:54.827Z"
   },
   {
    "duration": 136,
    "start_time": "2023-07-20T11:23:01.298Z"
   },
   {
    "duration": 114,
    "start_time": "2023-07-20T11:23:36.653Z"
   },
   {
    "duration": 114,
    "start_time": "2023-07-20T11:23:56.766Z"
   },
   {
    "duration": 223,
    "start_time": "2023-07-20T11:23:58.525Z"
   },
   {
    "duration": 6,
    "start_time": "2023-07-20T11:24:17.815Z"
   },
   {
    "duration": 127,
    "start_time": "2023-07-20T11:24:46.618Z"
   },
   {
    "duration": 234,
    "start_time": "2023-07-20T11:24:49.511Z"
   },
   {
    "duration": 27,
    "start_time": "2023-07-20T11:28:30.293Z"
   },
   {
    "duration": 28,
    "start_time": "2023-07-20T11:28:38.123Z"
   },
   {
    "duration": 35,
    "start_time": "2023-07-20T11:28:42.654Z"
   },
   {
    "duration": 29,
    "start_time": "2023-07-20T11:29:03.457Z"
   },
   {
    "duration": 27,
    "start_time": "2023-07-20T11:29:18.498Z"
   },
   {
    "duration": 50,
    "start_time": "2023-07-20T11:29:24.253Z"
   },
   {
    "duration": 129,
    "start_time": "2023-07-20T11:29:53.123Z"
   },
   {
    "duration": 30,
    "start_time": "2023-07-20T11:31:23.119Z"
   },
   {
    "duration": 36,
    "start_time": "2023-07-20T11:31:26.602Z"
   },
   {
    "duration": 35,
    "start_time": "2023-07-20T11:32:19.091Z"
   },
   {
    "duration": 33,
    "start_time": "2023-07-20T11:32:30.389Z"
   },
   {
    "duration": 32,
    "start_time": "2023-07-20T11:32:36.310Z"
   },
   {
    "duration": 31,
    "start_time": "2023-07-20T11:33:06.102Z"
   },
   {
    "duration": 96,
    "start_time": "2023-07-20T11:34:23.858Z"
   },
   {
    "duration": 4,
    "start_time": "2023-07-20T11:36:25.117Z"
   },
   {
    "duration": 37,
    "start_time": "2023-07-20T11:38:52.041Z"
   },
   {
    "duration": 27,
    "start_time": "2023-07-20T11:39:07.666Z"
   },
   {
    "duration": 31,
    "start_time": "2023-07-20T11:39:19.611Z"
   },
   {
    "duration": 33,
    "start_time": "2023-07-20T11:39:31.826Z"
   },
   {
    "duration": 31,
    "start_time": "2023-07-20T11:39:38.370Z"
   },
   {
    "duration": 31,
    "start_time": "2023-07-20T11:39:42.810Z"
   },
   {
    "duration": 163,
    "start_time": "2023-07-20T11:39:50.438Z"
   },
   {
    "duration": 33,
    "start_time": "2023-07-20T11:40:26.395Z"
   },
   {
    "duration": 5,
    "start_time": "2023-07-20T11:40:46.468Z"
   },
   {
    "duration": 4,
    "start_time": "2023-07-20T11:40:50.439Z"
   },
   {
    "duration": 31,
    "start_time": "2023-07-20T11:41:11.738Z"
   },
   {
    "duration": 32,
    "start_time": "2023-07-20T11:42:01.492Z"
   },
   {
    "duration": 74,
    "start_time": "2023-07-20T11:42:07.642Z"
   },
   {
    "duration": 30,
    "start_time": "2023-07-20T11:42:11.352Z"
   },
   {
    "duration": 81,
    "start_time": "2023-07-20T11:42:59.166Z"
   },
   {
    "duration": 149,
    "start_time": "2023-07-20T11:43:03.280Z"
   },
   {
    "duration": 131,
    "start_time": "2023-07-20T11:44:50.644Z"
   },
   {
    "duration": 55,
    "start_time": "2023-07-20T11:44:55.524Z"
   },
   {
    "duration": 49,
    "start_time": "2023-07-20T11:46:24.593Z"
   },
   {
    "duration": 234,
    "start_time": "2023-07-20T11:46:41.202Z"
   },
   {
    "duration": 242,
    "start_time": "2023-07-20T11:46:51.105Z"
   },
   {
    "duration": 232,
    "start_time": "2023-07-20T11:47:03.199Z"
   },
   {
    "duration": 60,
    "start_time": "2023-07-20T11:48:39.449Z"
   },
   {
    "duration": 53,
    "start_time": "2023-07-20T11:49:50.682Z"
   },
   {
    "duration": 225,
    "start_time": "2023-07-20T11:50:35.590Z"
   },
   {
    "duration": 69,
    "start_time": "2023-07-20T11:50:38.774Z"
   },
   {
    "duration": 58,
    "start_time": "2023-07-20T11:50:40.510Z"
   },
   {
    "duration": 51,
    "start_time": "2023-07-20T11:50:57.238Z"
   },
   {
    "duration": 50,
    "start_time": "2023-07-20T11:51:08.771Z"
   },
   {
    "duration": 340,
    "start_time": "2023-07-20T11:57:57.209Z"
   },
   {
    "duration": 543,
    "start_time": "2023-07-20T11:58:14.639Z"
   },
   {
    "duration": 197,
    "start_time": "2023-07-20T11:58:42.702Z"
   },
   {
    "duration": 197,
    "start_time": "2023-07-20T11:59:04.314Z"
   },
   {
    "duration": 179,
    "start_time": "2023-07-20T11:59:10.447Z"
   },
   {
    "duration": 178,
    "start_time": "2023-07-20T11:59:16.868Z"
   },
   {
    "duration": 176,
    "start_time": "2023-07-20T11:59:25.811Z"
   },
   {
    "duration": 213,
    "start_time": "2023-07-20T11:59:45.426Z"
   },
   {
    "duration": 194,
    "start_time": "2023-07-20T11:59:52.904Z"
   },
   {
    "duration": 265,
    "start_time": "2023-07-20T11:59:56.768Z"
   },
   {
    "duration": 54,
    "start_time": "2023-07-20T12:01:28.804Z"
   },
   {
    "duration": 65,
    "start_time": "2023-07-20T12:01:42.039Z"
   },
   {
    "duration": 181,
    "start_time": "2023-07-20T12:02:24.861Z"
   },
   {
    "duration": 198,
    "start_time": "2023-07-20T12:02:33.608Z"
   },
   {
    "duration": 64,
    "start_time": "2023-07-20T12:04:15.326Z"
   },
   {
    "duration": 54,
    "start_time": "2023-07-20T12:04:20.803Z"
   },
   {
    "duration": 34,
    "start_time": "2023-07-20T12:12:22.169Z"
   },
   {
    "duration": 37,
    "start_time": "2023-07-20T12:13:06.671Z"
   },
   {
    "duration": 630,
    "start_time": "2023-07-20T12:13:34.598Z"
   },
   {
    "duration": 720,
    "start_time": "2023-07-20T12:13:43.825Z"
   },
   {
    "duration": 14149,
    "start_time": "2023-07-20T12:14:11.254Z"
   },
   {
    "duration": 48,
    "start_time": "2023-07-20T12:14:30.677Z"
   },
   {
    "duration": 7817,
    "start_time": "2023-07-20T12:14:46.196Z"
   },
   {
    "duration": 2098,
    "start_time": "2023-07-20T12:14:55.962Z"
   },
   {
    "duration": 1402,
    "start_time": "2023-07-20T12:15:16.955Z"
   },
   {
    "duration": 1048,
    "start_time": "2023-07-20T12:15:25.488Z"
   },
   {
    "duration": 46,
    "start_time": "2023-07-20T12:16:03.959Z"
   },
   {
    "duration": 279,
    "start_time": "2023-07-20T12:16:06.791Z"
   },
   {
    "duration": 277,
    "start_time": "2023-07-20T12:16:19.172Z"
   },
   {
    "duration": 18,
    "start_time": "2023-07-20T12:37:43.659Z"
   },
   {
    "duration": 1240,
    "start_time": "2023-07-20T12:38:06.753Z"
   },
   {
    "duration": 93,
    "start_time": "2023-07-20T12:38:28.021Z"
   },
   {
    "duration": 675,
    "start_time": "2023-07-20T12:38:32.816Z"
   },
   {
    "duration": 6,
    "start_time": "2023-07-20T12:39:47.108Z"
   },
   {
    "duration": 1625,
    "start_time": "2023-07-20T12:40:40.470Z"
   },
   {
    "duration": 18,
    "start_time": "2023-07-20T12:41:07.121Z"
   },
   {
    "duration": 18,
    "start_time": "2023-07-20T12:41:33.279Z"
   },
   {
    "duration": 26,
    "start_time": "2023-07-20T12:42:13.035Z"
   },
   {
    "duration": 27,
    "start_time": "2023-07-20T12:42:39.367Z"
   },
   {
    "duration": 24,
    "start_time": "2023-07-20T12:43:05.680Z"
   },
   {
    "duration": 38,
    "start_time": "2023-07-20T12:43:30.815Z"
   },
   {
    "duration": 29,
    "start_time": "2023-07-20T12:43:39.331Z"
   },
   {
    "duration": 21,
    "start_time": "2023-07-20T12:44:54.866Z"
   },
   {
    "duration": 25,
    "start_time": "2023-07-20T12:45:43.719Z"
   },
   {
    "duration": 507,
    "start_time": "2023-07-20T12:45:51.476Z"
   },
   {
    "duration": 27,
    "start_time": "2023-07-20T12:46:57.276Z"
   },
   {
    "duration": 31,
    "start_time": "2023-07-20T12:48:50.717Z"
   },
   {
    "duration": 27,
    "start_time": "2023-07-20T12:49:01.610Z"
   },
   {
    "duration": 18,
    "start_time": "2023-07-20T12:49:04.556Z"
   },
   {
    "duration": 27,
    "start_time": "2023-07-20T12:49:15.772Z"
   },
   {
    "duration": 28,
    "start_time": "2023-07-20T12:49:28.898Z"
   },
   {
    "duration": 29,
    "start_time": "2023-07-20T12:49:47.620Z"
   },
   {
    "duration": 32,
    "start_time": "2023-07-20T12:50:05.589Z"
   },
   {
    "duration": 26,
    "start_time": "2023-07-20T12:50:09.659Z"
   },
   {
    "duration": 32,
    "start_time": "2023-07-20T12:50:15.821Z"
   },
   {
    "duration": 29,
    "start_time": "2023-07-20T12:50:57.349Z"
   },
   {
    "duration": 27,
    "start_time": "2023-07-20T12:51:06.307Z"
   },
   {
    "duration": 18,
    "start_time": "2023-07-20T12:58:29.009Z"
   },
   {
    "duration": 27,
    "start_time": "2023-07-20T12:58:34.628Z"
   },
   {
    "duration": 17,
    "start_time": "2023-07-20T12:58:35.106Z"
   },
   {
    "duration": 23,
    "start_time": "2023-07-20T12:59:25.366Z"
   },
   {
    "duration": 55,
    "start_time": "2023-07-20T12:59:25.678Z"
   },
   {
    "duration": 52,
    "start_time": "2023-07-20T13:00:00.830Z"
   },
   {
    "duration": 61,
    "start_time": "2023-07-20T13:00:09.276Z"
   },
   {
    "duration": 51,
    "start_time": "2023-07-20T13:00:21.743Z"
   },
   {
    "duration": 20,
    "start_time": "2023-07-20T13:00:55.058Z"
   },
   {
    "duration": 84,
    "start_time": "2023-07-20T13:01:07.303Z"
   },
   {
    "duration": 49,
    "start_time": "2023-07-20T13:01:13.775Z"
   },
   {
    "duration": 50,
    "start_time": "2023-07-20T13:01:26.941Z"
   },
   {
    "duration": 58,
    "start_time": "2023-07-20T13:01:33.686Z"
   },
   {
    "duration": 57,
    "start_time": "2023-07-20T13:01:51.856Z"
   },
   {
    "duration": 61,
    "start_time": "2023-07-20T13:02:12.792Z"
   },
   {
    "duration": 54,
    "start_time": "2023-07-20T13:02:51.630Z"
   },
   {
    "duration": 56,
    "start_time": "2023-07-20T13:04:06.476Z"
   },
   {
    "duration": 54,
    "start_time": "2023-07-20T13:04:47.820Z"
   },
   {
    "duration": 15,
    "start_time": "2023-07-20T13:05:29.265Z"
   },
   {
    "duration": 44,
    "start_time": "2023-07-20T13:05:59.918Z"
   },
   {
    "duration": 64,
    "start_time": "2023-07-20T13:06:00.366Z"
   },
   {
    "duration": 55,
    "start_time": "2023-07-20T13:06:12.057Z"
   },
   {
    "duration": 71,
    "start_time": "2023-07-20T13:08:45.306Z"
   },
   {
    "duration": 75,
    "start_time": "2023-07-20T13:09:22.197Z"
   },
   {
    "duration": 124,
    "start_time": "2023-07-20T13:09:30.454Z"
   },
   {
    "duration": 28,
    "start_time": "2023-07-20T13:09:42.956Z"
   },
   {
    "duration": 24,
    "start_time": "2023-07-20T13:10:16.867Z"
   },
   {
    "duration": 24,
    "start_time": "2023-07-20T13:11:09.741Z"
   },
   {
    "duration": 13,
    "start_time": "2023-07-20T13:14:12.245Z"
   },
   {
    "duration": 11,
    "start_time": "2023-07-20T13:14:19.474Z"
   },
   {
    "duration": 7,
    "start_time": "2023-07-20T13:16:15.992Z"
   },
   {
    "duration": 17,
    "start_time": "2023-07-20T13:18:43.800Z"
   },
   {
    "duration": 3,
    "start_time": "2023-07-20T13:19:13.265Z"
   },
   {
    "duration": 21,
    "start_time": "2023-07-20T13:19:17.606Z"
   },
   {
    "duration": 23,
    "start_time": "2023-07-20T13:19:34.899Z"
   },
   {
    "duration": 15,
    "start_time": "2023-07-20T13:20:17.393Z"
   },
   {
    "duration": 14,
    "start_time": "2023-07-20T13:20:48.981Z"
   },
   {
    "duration": 16,
    "start_time": "2023-07-20T13:21:13.241Z"
   },
   {
    "duration": 17,
    "start_time": "2023-07-20T13:21:31.947Z"
   },
   {
    "duration": 15,
    "start_time": "2023-07-20T13:21:57.685Z"
   },
   {
    "duration": 16,
    "start_time": "2023-07-20T13:22:29.947Z"
   },
   {
    "duration": 1354,
    "start_time": "2023-07-20T13:23:21.922Z"
   },
   {
    "duration": 3,
    "start_time": "2023-07-20T13:23:23.279Z"
   },
   {
    "duration": 105,
    "start_time": "2023-07-20T13:23:23.283Z"
   },
   {
    "duration": 154,
    "start_time": "2023-07-20T13:23:23.391Z"
   },
   {
    "duration": 1258,
    "start_time": "2023-07-20T13:23:23.547Z"
   },
   {
    "duration": 65,
    "start_time": "2023-07-20T13:23:24.806Z"
   },
   {
    "duration": 11,
    "start_time": "2023-07-20T13:23:24.872Z"
   },
   {
    "duration": 20,
    "start_time": "2023-07-20T13:23:24.885Z"
   },
   {
    "duration": 8,
    "start_time": "2023-07-20T13:23:24.918Z"
   },
   {
    "duration": 10,
    "start_time": "2023-07-20T13:23:24.930Z"
   },
   {
    "duration": 56,
    "start_time": "2023-07-20T13:23:24.960Z"
   },
   {
    "duration": 26,
    "start_time": "2023-07-20T13:23:25.018Z"
   },
   {
    "duration": 50,
    "start_time": "2023-07-20T13:23:25.046Z"
   },
   {
    "duration": 40,
    "start_time": "2023-07-20T13:23:25.098Z"
   },
   {
    "duration": 10,
    "start_time": "2023-07-20T13:23:25.140Z"
   },
   {
    "duration": 27,
    "start_time": "2023-07-20T13:23:25.151Z"
   },
   {
    "duration": 41,
    "start_time": "2023-07-20T13:23:25.181Z"
   },
   {
    "duration": 10,
    "start_time": "2023-07-20T13:23:25.224Z"
   },
   {
    "duration": 49,
    "start_time": "2023-07-20T13:23:25.260Z"
   },
   {
    "duration": 231,
    "start_time": "2023-07-20T13:23:25.311Z"
   },
   {
    "duration": 21,
    "start_time": "2023-07-20T13:23:25.544Z"
   },
   {
    "duration": 6,
    "start_time": "2023-07-20T13:23:25.567Z"
   },
   {
    "duration": 25,
    "start_time": "2023-07-20T13:23:25.575Z"
   },
   {
    "duration": 6,
    "start_time": "2023-07-20T13:23:25.601Z"
   },
   {
    "duration": 19,
    "start_time": "2023-07-20T13:23:25.609Z"
   },
   {
    "duration": 30,
    "start_time": "2023-07-20T13:23:25.630Z"
   },
   {
    "duration": 7,
    "start_time": "2023-07-20T13:23:25.662Z"
   },
   {
    "duration": 7,
    "start_time": "2023-07-20T13:23:25.672Z"
   },
   {
    "duration": 16,
    "start_time": "2023-07-20T13:23:25.680Z"
   },
   {
    "duration": 18,
    "start_time": "2023-07-20T13:23:25.698Z"
   },
   {
    "duration": 13,
    "start_time": "2023-07-20T13:23:25.718Z"
   },
   {
    "duration": 27,
    "start_time": "2023-07-20T13:23:25.733Z"
   },
   {
    "duration": 7,
    "start_time": "2023-07-20T13:23:25.762Z"
   },
   {
    "duration": 12,
    "start_time": "2023-07-20T13:23:25.770Z"
   },
   {
    "duration": 7,
    "start_time": "2023-07-20T13:23:25.784Z"
   },
   {
    "duration": 6,
    "start_time": "2023-07-20T13:23:25.793Z"
   },
   {
    "duration": 30,
    "start_time": "2023-07-20T13:23:25.800Z"
   },
   {
    "duration": 12,
    "start_time": "2023-07-20T13:23:25.831Z"
   },
   {
    "duration": 10,
    "start_time": "2023-07-20T13:23:25.858Z"
   },
   {
    "duration": 14,
    "start_time": "2023-07-20T13:23:25.870Z"
   },
   {
    "duration": 165,
    "start_time": "2023-07-20T13:23:25.886Z"
   },
   {
    "duration": 139,
    "start_time": "2023-07-20T13:23:26.058Z"
   },
   {
    "duration": 64,
    "start_time": "2023-07-20T13:23:26.199Z"
   },
   {
    "duration": 227,
    "start_time": "2023-07-20T13:23:26.265Z"
   },
   {
    "duration": 210,
    "start_time": "2023-07-20T13:23:26.494Z"
   },
   {
    "duration": 372,
    "start_time": "2023-07-20T13:23:26.705Z"
   },
   {
    "duration": 38,
    "start_time": "2023-07-20T13:23:27.078Z"
   },
   {
    "duration": 156,
    "start_time": "2023-07-20T13:23:27.118Z"
   },
   {
    "duration": 8,
    "start_time": "2023-07-20T13:23:33.638Z"
   },
   {
    "duration": 10,
    "start_time": "2023-07-20T13:23:41.247Z"
   },
   {
    "duration": 8,
    "start_time": "2023-07-20T13:23:43.921Z"
   },
   {
    "duration": 17,
    "start_time": "2023-07-20T13:24:20.686Z"
   },
   {
    "duration": 17,
    "start_time": "2023-07-20T13:24:51.554Z"
   },
   {
    "duration": 9,
    "start_time": "2023-07-20T13:25:00.105Z"
   },
   {
    "duration": 17,
    "start_time": "2023-07-20T13:25:12.408Z"
   },
   {
    "duration": 9,
    "start_time": "2023-07-20T13:25:14.970Z"
   },
   {
    "duration": 23,
    "start_time": "2023-07-20T13:25:38.897Z"
   },
   {
    "duration": 20,
    "start_time": "2023-07-20T13:25:58.044Z"
   },
   {
    "duration": 15,
    "start_time": "2023-07-20T13:26:14.561Z"
   },
   {
    "duration": 41,
    "start_time": "2023-07-20T13:26:40.323Z"
   },
   {
    "duration": 27,
    "start_time": "2023-07-20T13:26:58.584Z"
   },
   {
    "duration": 27,
    "start_time": "2023-07-20T13:27:04.600Z"
   },
   {
    "duration": 22,
    "start_time": "2023-07-20T13:27:25.837Z"
   },
   {
    "duration": 18,
    "start_time": "2023-07-20T15:24:42.806Z"
   },
   {
    "duration": 54,
    "start_time": "2023-07-20T15:25:36.654Z"
   },
   {
    "duration": 38,
    "start_time": "2023-07-20T15:26:38.580Z"
   },
   {
    "duration": 88,
    "start_time": "2023-07-20T15:26:42.483Z"
   },
   {
    "duration": 1284,
    "start_time": "2023-07-20T15:27:40.473Z"
   },
   {
    "duration": 63,
    "start_time": "2023-07-20T15:27:47.496Z"
   },
   {
    "duration": 53,
    "start_time": "2023-07-20T15:28:21.068Z"
   },
   {
    "duration": 67,
    "start_time": "2023-07-20T15:28:24.558Z"
   },
   {
    "duration": 31,
    "start_time": "2023-07-20T15:31:36.238Z"
   },
   {
    "duration": 35,
    "start_time": "2023-07-20T15:32:32.606Z"
   },
   {
    "duration": 28,
    "start_time": "2023-07-20T15:33:22.301Z"
   },
   {
    "duration": 28,
    "start_time": "2023-07-20T15:33:31.631Z"
   },
   {
    "duration": 27,
    "start_time": "2023-07-20T15:33:42.483Z"
   },
   {
    "duration": 28,
    "start_time": "2023-07-20T15:34:27.160Z"
   },
   {
    "duration": 5,
    "start_time": "2023-07-20T15:35:10.324Z"
   },
   {
    "duration": 13,
    "start_time": "2023-07-20T15:35:13.760Z"
   },
   {
    "duration": 6,
    "start_time": "2023-07-20T15:36:29.077Z"
   },
   {
    "duration": 4,
    "start_time": "2023-07-20T15:39:25.569Z"
   },
   {
    "duration": 17,
    "start_time": "2023-07-20T15:39:38.064Z"
   },
   {
    "duration": 3,
    "start_time": "2023-07-20T15:39:51.032Z"
   },
   {
    "duration": 11,
    "start_time": "2023-07-20T15:39:52.394Z"
   },
   {
    "duration": 12,
    "start_time": "2023-07-20T15:40:12.076Z"
   },
   {
    "duration": 11,
    "start_time": "2023-07-20T15:40:37.121Z"
   },
   {
    "duration": 8,
    "start_time": "2023-07-20T15:40:52.455Z"
   },
   {
    "duration": 13,
    "start_time": "2023-07-20T15:41:15.052Z"
   },
   {
    "duration": 4,
    "start_time": "2023-07-20T15:41:33.155Z"
   },
   {
    "duration": 4,
    "start_time": "2023-07-20T15:41:37.499Z"
   },
   {
    "duration": 11,
    "start_time": "2023-07-20T15:42:06.953Z"
   },
   {
    "duration": 4,
    "start_time": "2023-07-20T15:43:20.156Z"
   },
   {
    "duration": 11,
    "start_time": "2023-07-20T15:43:39.948Z"
   },
   {
    "duration": 12,
    "start_time": "2023-07-20T15:49:40.568Z"
   },
   {
    "duration": 7,
    "start_time": "2023-07-20T15:53:12.537Z"
   },
   {
    "duration": 11,
    "start_time": "2023-07-20T15:53:17.710Z"
   },
   {
    "duration": 6,
    "start_time": "2023-07-20T15:53:24.299Z"
   },
   {
    "duration": 3,
    "start_time": "2023-07-20T15:53:54.502Z"
   },
   {
    "duration": 4,
    "start_time": "2023-07-20T15:54:32.313Z"
   },
   {
    "duration": 7,
    "start_time": "2023-07-20T15:57:27.303Z"
   },
   {
    "duration": 26,
    "start_time": "2023-07-20T15:57:27.970Z"
   },
   {
    "duration": 21,
    "start_time": "2023-07-20T15:58:15.913Z"
   },
   {
    "duration": 1277,
    "start_time": "2023-07-20T15:58:58.368Z"
   },
   {
    "duration": 2,
    "start_time": "2023-07-20T15:58:59.647Z"
   },
   {
    "duration": 118,
    "start_time": "2023-07-20T15:58:59.651Z"
   },
   {
    "duration": 149,
    "start_time": "2023-07-20T15:58:59.772Z"
   },
   {
    "duration": 1042,
    "start_time": "2023-07-20T15:58:59.922Z"
   },
   {
    "duration": 89,
    "start_time": "2023-07-20T15:59:00.966Z"
   },
   {
    "duration": 13,
    "start_time": "2023-07-20T15:59:01.057Z"
   },
   {
    "duration": 67,
    "start_time": "2023-07-20T15:59:01.071Z"
   },
   {
    "duration": 77,
    "start_time": "2023-07-20T15:59:01.139Z"
   },
   {
    "duration": 55,
    "start_time": "2023-07-20T15:59:01.219Z"
   },
   {
    "duration": 120,
    "start_time": "2023-07-20T15:59:01.276Z"
   },
   {
    "duration": 66,
    "start_time": "2023-07-20T15:59:01.398Z"
   },
   {
    "duration": 197,
    "start_time": "2023-07-20T15:59:01.466Z"
   },
   {
    "duration": 83,
    "start_time": "2023-07-20T15:59:01.664Z"
   },
   {
    "duration": 85,
    "start_time": "2023-07-20T15:59:01.749Z"
   },
   {
    "duration": 90,
    "start_time": "2023-07-20T15:59:01.836Z"
   },
   {
    "duration": 91,
    "start_time": "2023-07-20T15:59:01.928Z"
   },
   {
    "duration": 81,
    "start_time": "2023-07-20T15:59:02.020Z"
   },
   {
    "duration": 84,
    "start_time": "2023-07-20T15:59:02.103Z"
   },
   {
    "duration": 261,
    "start_time": "2023-07-20T15:59:02.189Z"
   },
   {
    "duration": 19,
    "start_time": "2023-07-20T15:59:02.452Z"
   },
   {
    "duration": 23,
    "start_time": "2023-07-20T15:59:02.472Z"
   },
   {
    "duration": 39,
    "start_time": "2023-07-20T15:59:02.497Z"
   },
   {
    "duration": 35,
    "start_time": "2023-07-20T15:59:02.538Z"
   },
   {
    "duration": 56,
    "start_time": "2023-07-20T15:59:02.575Z"
   },
   {
    "duration": 15,
    "start_time": "2023-07-20T15:59:02.633Z"
   },
   {
    "duration": 9,
    "start_time": "2023-07-20T15:59:02.650Z"
   },
   {
    "duration": 13,
    "start_time": "2023-07-20T15:59:02.663Z"
   },
   {
    "duration": 23,
    "start_time": "2023-07-20T15:59:02.677Z"
   },
   {
    "duration": 13,
    "start_time": "2023-07-20T15:59:02.702Z"
   },
   {
    "duration": 40,
    "start_time": "2023-07-20T15:59:02.717Z"
   },
   {
    "duration": 13,
    "start_time": "2023-07-20T15:59:02.758Z"
   },
   {
    "duration": 19,
    "start_time": "2023-07-20T15:59:02.773Z"
   },
   {
    "duration": 21,
    "start_time": "2023-07-20T15:59:02.794Z"
   },
   {
    "duration": 18,
    "start_time": "2023-07-20T15:59:02.817Z"
   },
   {
    "duration": 34,
    "start_time": "2023-07-20T15:59:02.836Z"
   },
   {
    "duration": 16,
    "start_time": "2023-07-20T15:59:02.872Z"
   },
   {
    "duration": 21,
    "start_time": "2023-07-20T15:59:02.890Z"
   },
   {
    "duration": 24,
    "start_time": "2023-07-20T15:59:02.913Z"
   },
   {
    "duration": 12,
    "start_time": "2023-07-20T15:59:02.939Z"
   },
   {
    "duration": 151,
    "start_time": "2023-07-20T15:59:02.952Z"
   },
   {
    "duration": 135,
    "start_time": "2023-07-20T15:59:03.105Z"
   },
   {
    "duration": 57,
    "start_time": "2023-07-20T15:59:03.242Z"
   },
   {
    "duration": 221,
    "start_time": "2023-07-20T15:59:03.301Z"
   },
   {
    "duration": 201,
    "start_time": "2023-07-20T15:59:03.523Z"
   },
   {
    "duration": 368,
    "start_time": "2023-07-20T15:59:03.726Z"
   },
   {
    "duration": 1355,
    "start_time": "2023-07-20T15:59:04.096Z"
   },
   {
    "duration": 0,
    "start_time": "2023-07-20T15:59:05.453Z"
   },
   {
    "duration": 0,
    "start_time": "2023-07-20T15:59:05.454Z"
   },
   {
    "duration": 0,
    "start_time": "2023-07-20T15:59:05.456Z"
   },
   {
    "duration": 0,
    "start_time": "2023-07-20T15:59:05.458Z"
   },
   {
    "duration": 0,
    "start_time": "2023-07-20T15:59:05.459Z"
   },
   {
    "duration": 0,
    "start_time": "2023-07-20T15:59:05.460Z"
   },
   {
    "duration": 0,
    "start_time": "2023-07-20T15:59:05.461Z"
   },
   {
    "duration": 0,
    "start_time": "2023-07-20T15:59:05.462Z"
   },
   {
    "duration": 0,
    "start_time": "2023-07-20T15:59:05.463Z"
   },
   {
    "duration": 0,
    "start_time": "2023-07-20T15:59:05.464Z"
   },
   {
    "duration": 45,
    "start_time": "2023-07-20T15:59:26.752Z"
   },
   {
    "duration": 23,
    "start_time": "2023-07-20T15:59:27.264Z"
   },
   {
    "duration": 17,
    "start_time": "2023-07-20T15:59:27.632Z"
   },
   {
    "duration": 183,
    "start_time": "2023-07-20T15:59:27.989Z"
   },
   {
    "duration": 23,
    "start_time": "2023-07-20T15:59:33.410Z"
   },
   {
    "duration": 27,
    "start_time": "2023-07-20T15:59:33.764Z"
   },
   {
    "duration": 9,
    "start_time": "2023-07-20T15:59:34.038Z"
   },
   {
    "duration": 12,
    "start_time": "2023-07-20T15:59:34.247Z"
   },
   {
    "duration": 4,
    "start_time": "2023-07-20T15:59:34.432Z"
   },
   {
    "duration": 4,
    "start_time": "2023-07-20T15:59:34.940Z"
   },
   {
    "duration": 19,
    "start_time": "2023-07-20T16:01:50.801Z"
   },
   {
    "duration": 6,
    "start_time": "2023-07-20T16:01:51.535Z"
   },
   {
    "duration": 7,
    "start_time": "2023-07-20T16:01:53.616Z"
   },
   {
    "duration": 4,
    "start_time": "2023-07-20T16:01:56.487Z"
   },
   {
    "duration": 4,
    "start_time": "2023-07-20T16:01:57.699Z"
   },
   {
    "duration": 6,
    "start_time": "2023-07-20T16:08:22.926Z"
   },
   {
    "duration": 25,
    "start_time": "2023-07-20T16:08:44.804Z"
   },
   {
    "duration": 6,
    "start_time": "2023-07-20T16:09:04.748Z"
   },
   {
    "duration": 6,
    "start_time": "2023-07-20T16:09:22.624Z"
   },
   {
    "duration": 14,
    "start_time": "2023-07-20T16:09:26.640Z"
   },
   {
    "duration": 126,
    "start_time": "2023-07-20T16:10:15.590Z"
   },
   {
    "duration": 17,
    "start_time": "2023-07-20T16:11:34.790Z"
   },
   {
    "duration": 19,
    "start_time": "2023-07-20T16:11:38.023Z"
   },
   {
    "duration": 20,
    "start_time": "2023-07-20T16:11:48.387Z"
   },
   {
    "duration": 219,
    "start_time": "2023-07-20T16:12:15.677Z"
   },
   {
    "duration": 113,
    "start_time": "2023-07-20T16:12:48.491Z"
   },
   {
    "duration": 183,
    "start_time": "2023-07-20T16:13:00.823Z"
   },
   {
    "duration": 235,
    "start_time": "2023-07-20T16:13:55.485Z"
   },
   {
    "duration": 231,
    "start_time": "2023-07-20T16:14:24.705Z"
   },
   {
    "duration": 270,
    "start_time": "2023-07-20T16:14:33.230Z"
   },
   {
    "duration": 270,
    "start_time": "2023-07-20T16:15:05.838Z"
   },
   {
    "duration": 45,
    "start_time": "2023-07-20T16:15:57.705Z"
   },
   {
    "duration": 26,
    "start_time": "2023-07-20T16:15:58.102Z"
   },
   {
    "duration": 20,
    "start_time": "2023-07-20T16:15:58.803Z"
   },
   {
    "duration": 24,
    "start_time": "2023-07-20T16:15:59.215Z"
   },
   {
    "duration": 29,
    "start_time": "2023-07-20T16:16:15.070Z"
   },
   {
    "duration": 50,
    "start_time": "2023-07-20T16:16:15.251Z"
   },
   {
    "duration": 8,
    "start_time": "2023-07-20T16:16:15.417Z"
   },
   {
    "duration": 17,
    "start_time": "2023-07-20T16:16:15.603Z"
   },
   {
    "duration": 238,
    "start_time": "2023-07-20T16:16:15.784Z"
   },
   {
    "duration": 4,
    "start_time": "2023-07-20T16:16:18.683Z"
   },
   {
    "duration": 13,
    "start_time": "2023-07-20T16:16:24.638Z"
   },
   {
    "duration": 8,
    "start_time": "2023-07-20T16:17:55.599Z"
   },
   {
    "duration": 225,
    "start_time": "2023-07-20T16:18:23.560Z"
   },
   {
    "duration": 220,
    "start_time": "2023-07-20T16:19:37.144Z"
   },
   {
    "duration": 215,
    "start_time": "2023-07-20T16:19:52.097Z"
   },
   {
    "duration": 22,
    "start_time": "2023-07-20T16:19:58.983Z"
   },
   {
    "duration": 7,
    "start_time": "2023-07-20T16:49:09.491Z"
   },
   {
    "duration": 6,
    "start_time": "2023-07-20T16:50:06.945Z"
   },
   {
    "duration": 3,
    "start_time": "2023-07-20T16:50:07.342Z"
   },
   {
    "duration": 19,
    "start_time": "2023-07-20T16:50:30.621Z"
   },
   {
    "duration": 3,
    "start_time": "2023-07-20T16:50:51.147Z"
   },
   {
    "duration": 16,
    "start_time": "2023-07-20T16:50:56.277Z"
   },
   {
    "duration": 7,
    "start_time": "2023-07-20T16:51:33.467Z"
   },
   {
    "duration": 39,
    "start_time": "2023-07-20T16:51:33.782Z"
   },
   {
    "duration": 7,
    "start_time": "2023-07-20T16:51:58.238Z"
   },
   {
    "duration": 39,
    "start_time": "2023-07-20T16:51:58.506Z"
   },
   {
    "duration": 7,
    "start_time": "2023-07-20T16:52:58.149Z"
   },
   {
    "duration": 38,
    "start_time": "2023-07-20T16:52:58.728Z"
   },
   {
    "duration": 8,
    "start_time": "2023-07-20T16:53:31.158Z"
   },
   {
    "duration": 1080,
    "start_time": "2023-07-20T16:53:32.106Z"
   },
   {
    "duration": 7,
    "start_time": "2023-07-20T16:53:46.045Z"
   },
   {
    "duration": 1089,
    "start_time": "2023-07-20T16:53:46.434Z"
   },
   {
    "duration": 6,
    "start_time": "2023-07-20T16:53:57.425Z"
   },
   {
    "duration": 23,
    "start_time": "2023-07-20T16:53:57.898Z"
   },
   {
    "duration": 3,
    "start_time": "2023-07-20T16:54:39.211Z"
   },
   {
    "duration": 7,
    "start_time": "2023-07-20T16:54:43.478Z"
   },
   {
    "duration": 19,
    "start_time": "2023-07-20T16:54:43.816Z"
   },
   {
    "duration": 7,
    "start_time": "2023-07-20T16:55:10.667Z"
   },
   {
    "duration": 33,
    "start_time": "2023-07-20T16:55:10.979Z"
   },
   {
    "duration": 37,
    "start_time": "2023-07-20T16:55:30.973Z"
   },
   {
    "duration": 13,
    "start_time": "2023-07-20T16:56:17.283Z"
   },
   {
    "duration": 7,
    "start_time": "2023-07-20T16:57:16.280Z"
   },
   {
    "duration": 61,
    "start_time": "2023-07-20T16:57:16.835Z"
   },
   {
    "duration": 9,
    "start_time": "2023-07-20T16:57:28.055Z"
   },
   {
    "duration": 56,
    "start_time": "2023-07-20T16:57:28.411Z"
   },
   {
    "duration": 1253,
    "start_time": "2023-07-20T17:21:31.817Z"
   },
   {
    "duration": 2,
    "start_time": "2023-07-20T17:21:33.072Z"
   },
   {
    "duration": 85,
    "start_time": "2023-07-20T17:21:33.076Z"
   },
   {
    "duration": 162,
    "start_time": "2023-07-20T17:21:33.163Z"
   },
   {
    "duration": 917,
    "start_time": "2023-07-20T17:21:33.327Z"
   },
   {
    "duration": 100,
    "start_time": "2023-07-20T17:21:34.246Z"
   },
   {
    "duration": 12,
    "start_time": "2023-07-20T17:21:34.348Z"
   },
   {
    "duration": 28,
    "start_time": "2023-07-20T17:21:34.362Z"
   },
   {
    "duration": 23,
    "start_time": "2023-07-20T17:21:34.391Z"
   },
   {
    "duration": 19,
    "start_time": "2023-07-20T17:21:34.416Z"
   },
   {
    "duration": 47,
    "start_time": "2023-07-20T17:21:34.437Z"
   },
   {
    "duration": 26,
    "start_time": "2023-07-20T17:21:34.486Z"
   },
   {
    "duration": 12,
    "start_time": "2023-07-20T17:21:34.514Z"
   },
   {
    "duration": 19,
    "start_time": "2023-07-20T17:21:34.527Z"
   },
   {
    "duration": 14,
    "start_time": "2023-07-20T17:21:34.548Z"
   },
   {
    "duration": 29,
    "start_time": "2023-07-20T17:21:34.564Z"
   },
   {
    "duration": 39,
    "start_time": "2023-07-20T17:21:34.595Z"
   },
   {
    "duration": 27,
    "start_time": "2023-07-20T17:21:34.636Z"
   },
   {
    "duration": 36,
    "start_time": "2023-07-20T17:21:34.665Z"
   },
   {
    "duration": 219,
    "start_time": "2023-07-20T17:21:34.703Z"
   },
   {
    "duration": 13,
    "start_time": "2023-07-20T17:21:34.924Z"
   },
   {
    "duration": 6,
    "start_time": "2023-07-20T17:21:34.938Z"
   },
   {
    "duration": 29,
    "start_time": "2023-07-20T17:21:34.945Z"
   },
   {
    "duration": 6,
    "start_time": "2023-07-20T17:21:34.975Z"
   },
   {
    "duration": 13,
    "start_time": "2023-07-20T17:21:34.983Z"
   },
   {
    "duration": 20,
    "start_time": "2023-07-20T17:21:34.997Z"
   },
   {
    "duration": 7,
    "start_time": "2023-07-20T17:21:35.019Z"
   },
   {
    "duration": 32,
    "start_time": "2023-07-20T17:21:35.030Z"
   },
   {
    "duration": 13,
    "start_time": "2023-07-20T17:21:35.063Z"
   },
   {
    "duration": 13,
    "start_time": "2023-07-20T17:21:35.078Z"
   },
   {
    "duration": 14,
    "start_time": "2023-07-20T17:21:35.094Z"
   },
   {
    "duration": 15,
    "start_time": "2023-07-20T17:21:35.109Z"
   },
   {
    "duration": 5,
    "start_time": "2023-07-20T17:21:35.126Z"
   },
   {
    "duration": 31,
    "start_time": "2023-07-20T17:21:35.133Z"
   },
   {
    "duration": 7,
    "start_time": "2023-07-20T17:21:35.165Z"
   },
   {
    "duration": 11,
    "start_time": "2023-07-20T17:21:35.173Z"
   },
   {
    "duration": 12,
    "start_time": "2023-07-20T17:21:35.186Z"
   },
   {
    "duration": 10,
    "start_time": "2023-07-20T17:21:35.200Z"
   },
   {
    "duration": 16,
    "start_time": "2023-07-20T17:21:35.211Z"
   },
   {
    "duration": 30,
    "start_time": "2023-07-20T17:21:35.229Z"
   },
   {
    "duration": 173,
    "start_time": "2023-07-20T17:21:35.260Z"
   },
   {
    "duration": 125,
    "start_time": "2023-07-20T17:21:35.435Z"
   },
   {
    "duration": 54,
    "start_time": "2023-07-20T17:21:35.562Z"
   },
   {
    "duration": 213,
    "start_time": "2023-07-20T17:21:35.618Z"
   },
   {
    "duration": 199,
    "start_time": "2023-07-20T17:21:35.833Z"
   },
   {
    "duration": 373,
    "start_time": "2023-07-20T17:21:36.034Z"
   },
   {
    "duration": 53,
    "start_time": "2023-07-20T17:21:36.409Z"
   },
   {
    "duration": 26,
    "start_time": "2023-07-20T17:21:36.464Z"
   },
   {
    "duration": 19,
    "start_time": "2023-07-20T17:21:36.492Z"
   },
   {
    "duration": 156,
    "start_time": "2023-07-20T17:21:36.512Z"
   },
   {
    "duration": 22,
    "start_time": "2023-07-20T17:21:36.669Z"
   },
   {
    "duration": 6,
    "start_time": "2023-07-20T17:21:36.693Z"
   },
   {
    "duration": 59,
    "start_time": "2023-07-20T17:21:36.700Z"
   },
   {
    "duration": 262,
    "start_time": "2023-07-20T17:21:36.762Z"
   },
   {
    "duration": 313,
    "start_time": "2023-07-20T17:21:37.026Z"
   },
   {
    "duration": 225,
    "start_time": "2023-07-20T17:21:37.341Z"
   },
   {
    "duration": 6,
    "start_time": "2023-07-20T17:21:37.568Z"
   },
   {
    "duration": 62,
    "start_time": "2023-07-20T17:21:37.576Z"
   },
   {
    "duration": 1123,
    "start_time": "2023-07-20T18:13:15.199Z"
   },
   {
    "duration": 2,
    "start_time": "2023-07-20T18:13:16.324Z"
   },
   {
    "duration": 86,
    "start_time": "2023-07-20T18:13:16.328Z"
   },
   {
    "duration": 129,
    "start_time": "2023-07-20T18:13:16.416Z"
   },
   {
    "duration": 1705,
    "start_time": "2023-07-20T18:13:16.546Z"
   },
   {
    "duration": 96,
    "start_time": "2023-07-20T18:13:18.252Z"
   },
   {
    "duration": 9,
    "start_time": "2023-07-20T18:13:18.349Z"
   },
   {
    "duration": 16,
    "start_time": "2023-07-20T18:13:18.360Z"
   },
   {
    "duration": 6,
    "start_time": "2023-07-20T18:13:18.378Z"
   },
   {
    "duration": 9,
    "start_time": "2023-07-20T18:13:18.386Z"
   },
   {
    "duration": 37,
    "start_time": "2023-07-20T18:13:18.396Z"
   },
   {
    "duration": 25,
    "start_time": "2023-07-20T18:13:18.434Z"
   },
   {
    "duration": 10,
    "start_time": "2023-07-20T18:13:18.460Z"
   },
   {
    "duration": 7,
    "start_time": "2023-07-20T18:13:18.471Z"
   },
   {
    "duration": 23,
    "start_time": "2023-07-20T18:13:18.480Z"
   },
   {
    "duration": 24,
    "start_time": "2023-07-20T18:13:18.505Z"
   },
   {
    "duration": 36,
    "start_time": "2023-07-20T18:13:18.531Z"
   },
   {
    "duration": 32,
    "start_time": "2023-07-20T18:13:18.568Z"
   },
   {
    "duration": 29,
    "start_time": "2023-07-20T18:13:18.602Z"
   },
   {
    "duration": 149,
    "start_time": "2023-07-20T18:13:18.632Z"
   },
   {
    "duration": 17,
    "start_time": "2023-07-20T18:13:18.783Z"
   },
   {
    "duration": 4,
    "start_time": "2023-07-20T18:13:18.802Z"
   },
   {
    "duration": 12,
    "start_time": "2023-07-20T18:13:18.807Z"
   },
   {
    "duration": 4,
    "start_time": "2023-07-20T18:13:18.820Z"
   },
   {
    "duration": 13,
    "start_time": "2023-07-20T18:13:18.825Z"
   },
   {
    "duration": 7,
    "start_time": "2023-07-20T18:13:18.839Z"
   },
   {
    "duration": 5,
    "start_time": "2023-07-20T18:13:18.848Z"
   },
   {
    "duration": 6,
    "start_time": "2023-07-20T18:13:18.857Z"
   },
   {
    "duration": 6,
    "start_time": "2023-07-20T18:13:18.864Z"
   },
   {
    "duration": 8,
    "start_time": "2023-07-20T18:13:18.899Z"
   },
   {
    "duration": 9,
    "start_time": "2023-07-20T18:13:18.908Z"
   },
   {
    "duration": 11,
    "start_time": "2023-07-20T18:13:18.919Z"
   },
   {
    "duration": 4,
    "start_time": "2023-07-20T18:13:18.931Z"
   },
   {
    "duration": 10,
    "start_time": "2023-07-20T18:13:18.936Z"
   },
   {
    "duration": 4,
    "start_time": "2023-07-20T18:13:18.947Z"
   },
   {
    "duration": 7,
    "start_time": "2023-07-20T18:13:18.953Z"
   },
   {
    "duration": 10,
    "start_time": "2023-07-20T18:13:18.961Z"
   },
   {
    "duration": 32,
    "start_time": "2023-07-20T18:13:18.972Z"
   },
   {
    "duration": 5,
    "start_time": "2023-07-20T18:13:19.005Z"
   },
   {
    "duration": 6,
    "start_time": "2023-07-20T18:13:19.011Z"
   },
   {
    "duration": 113,
    "start_time": "2023-07-20T18:13:19.018Z"
   },
   {
    "duration": 77,
    "start_time": "2023-07-20T18:13:19.132Z"
   },
   {
    "duration": 44,
    "start_time": "2023-07-20T18:13:19.211Z"
   },
   {
    "duration": 168,
    "start_time": "2023-07-20T18:13:19.256Z"
   },
   {
    "duration": 164,
    "start_time": "2023-07-20T18:13:19.426Z"
   },
   {
    "duration": 285,
    "start_time": "2023-07-20T18:13:19.592Z"
   },
   {
    "duration": 38,
    "start_time": "2023-07-20T18:13:19.878Z"
   },
   {
    "duration": 19,
    "start_time": "2023-07-20T18:13:19.918Z"
   },
   {
    "duration": 15,
    "start_time": "2023-07-20T18:13:19.939Z"
   },
   {
    "duration": 799,
    "start_time": "2023-07-20T18:13:19.955Z"
   },
   {
    "duration": 49,
    "start_time": "2023-07-20T18:13:20.755Z"
   },
   {
    "duration": 5,
    "start_time": "2023-07-20T18:13:20.805Z"
   },
   {
    "duration": 24,
    "start_time": "2023-07-20T18:13:20.812Z"
   },
   {
    "duration": 251,
    "start_time": "2023-07-20T18:13:20.838Z"
   },
   {
    "duration": 269,
    "start_time": "2023-07-20T18:13:21.090Z"
   },
   {
    "duration": 216,
    "start_time": "2023-07-20T18:13:21.360Z"
   },
   {
    "duration": 7,
    "start_time": "2023-07-20T18:13:21.577Z"
   },
   {
    "duration": 66,
    "start_time": "2023-07-20T18:13:21.585Z"
   },
   {
    "duration": 15,
    "start_time": "2023-07-20T18:14:34.660Z"
   },
   {
    "duration": 6,
    "start_time": "2023-07-20T18:17:01.279Z"
   },
   {
    "duration": 127,
    "start_time": "2023-07-20T18:17:02.746Z"
   },
   {
    "duration": 1071,
    "start_time": "2023-07-20T18:17:07.950Z"
   },
   {
    "duration": 2,
    "start_time": "2023-07-20T18:17:09.023Z"
   },
   {
    "duration": 60,
    "start_time": "2023-07-20T18:17:09.027Z"
   },
   {
    "duration": 190,
    "start_time": "2023-07-20T18:17:09.089Z"
   },
   {
    "duration": 705,
    "start_time": "2023-07-20T18:17:09.280Z"
   },
   {
    "duration": 59,
    "start_time": "2023-07-20T18:17:09.986Z"
   },
   {
    "duration": 10,
    "start_time": "2023-07-20T18:17:10.046Z"
   },
   {
    "duration": 16,
    "start_time": "2023-07-20T18:17:10.057Z"
   },
   {
    "duration": 6,
    "start_time": "2023-07-20T18:17:10.074Z"
   },
   {
    "duration": 22,
    "start_time": "2023-07-20T18:17:10.083Z"
   },
   {
    "duration": 36,
    "start_time": "2023-07-20T18:17:10.106Z"
   },
   {
    "duration": 22,
    "start_time": "2023-07-20T18:17:10.144Z"
   },
   {
    "duration": 9,
    "start_time": "2023-07-20T18:17:10.168Z"
   },
   {
    "duration": 21,
    "start_time": "2023-07-20T18:17:10.179Z"
   },
   {
    "duration": 5,
    "start_time": "2023-07-20T18:17:10.201Z"
   },
   {
    "duration": 24,
    "start_time": "2023-07-20T18:17:10.207Z"
   },
   {
    "duration": 32,
    "start_time": "2023-07-20T18:17:10.233Z"
   },
   {
    "duration": 34,
    "start_time": "2023-07-20T18:17:10.266Z"
   },
   {
    "duration": 28,
    "start_time": "2023-07-20T18:17:10.302Z"
   },
   {
    "duration": 142,
    "start_time": "2023-07-20T18:17:10.331Z"
   },
   {
    "duration": 10,
    "start_time": "2023-07-20T18:17:10.474Z"
   },
   {
    "duration": 14,
    "start_time": "2023-07-20T18:17:10.486Z"
   },
   {
    "duration": 10,
    "start_time": "2023-07-20T18:17:10.501Z"
   },
   {
    "duration": 10,
    "start_time": "2023-07-20T18:17:10.512Z"
   },
   {
    "duration": 23,
    "start_time": "2023-07-20T18:17:10.524Z"
   },
   {
    "duration": 46,
    "start_time": "2023-07-20T18:17:10.548Z"
   },
   {
    "duration": 8,
    "start_time": "2023-07-20T18:17:10.595Z"
   },
   {
    "duration": 5,
    "start_time": "2023-07-20T18:17:10.606Z"
   },
   {
    "duration": 8,
    "start_time": "2023-07-20T18:17:10.612Z"
   },
   {
    "duration": 15,
    "start_time": "2023-07-20T18:17:10.621Z"
   },
   {
    "duration": 11,
    "start_time": "2023-07-20T18:17:10.638Z"
   },
   {
    "duration": 16,
    "start_time": "2023-07-20T18:17:10.650Z"
   },
   {
    "duration": 4,
    "start_time": "2023-07-20T18:17:10.668Z"
   },
   {
    "duration": 8,
    "start_time": "2023-07-20T18:17:10.674Z"
   },
   {
    "duration": 18,
    "start_time": "2023-07-20T18:17:10.683Z"
   },
   {
    "duration": 5,
    "start_time": "2023-07-20T18:17:10.703Z"
   },
   {
    "duration": 15,
    "start_time": "2023-07-20T18:17:10.709Z"
   },
   {
    "duration": 28,
    "start_time": "2023-07-20T18:17:10.726Z"
   },
   {
    "duration": 7,
    "start_time": "2023-07-20T18:17:10.756Z"
   },
   {
    "duration": 6,
    "start_time": "2023-07-20T18:17:10.764Z"
   },
   {
    "duration": 85,
    "start_time": "2023-07-20T18:17:10.772Z"
   },
   {
    "duration": 76,
    "start_time": "2023-07-20T18:17:10.859Z"
   },
   {
    "duration": 44,
    "start_time": "2023-07-20T18:17:10.936Z"
   },
   {
    "duration": 168,
    "start_time": "2023-07-20T18:17:10.982Z"
   },
   {
    "duration": 180,
    "start_time": "2023-07-20T18:17:11.151Z"
   },
   {
    "duration": 305,
    "start_time": "2023-07-20T18:17:11.332Z"
   },
   {
    "duration": 30,
    "start_time": "2023-07-20T18:17:11.639Z"
   },
   {
    "duration": 20,
    "start_time": "2023-07-20T18:17:11.671Z"
   },
   {
    "duration": 19,
    "start_time": "2023-07-20T18:17:11.692Z"
   },
   {
    "duration": 705,
    "start_time": "2023-07-20T18:17:11.712Z"
   },
   {
    "duration": 17,
    "start_time": "2023-07-20T18:17:12.418Z"
   },
   {
    "duration": 5,
    "start_time": "2023-07-20T18:17:12.437Z"
   },
   {
    "duration": 61,
    "start_time": "2023-07-20T18:17:12.443Z"
   },
   {
    "duration": 219,
    "start_time": "2023-07-20T18:17:12.506Z"
   },
   {
    "duration": 239,
    "start_time": "2023-07-20T18:17:12.727Z"
   },
   {
    "duration": 189,
    "start_time": "2023-07-20T18:17:12.968Z"
   },
   {
    "duration": 6,
    "start_time": "2023-07-20T18:17:13.158Z"
   },
   {
    "duration": 164,
    "start_time": "2023-07-20T18:17:13.166Z"
   },
   {
    "duration": 6,
    "start_time": "2023-07-20T18:17:24.123Z"
   },
   {
    "duration": 29,
    "start_time": "2023-07-20T18:17:25.450Z"
   },
   {
    "duration": 5,
    "start_time": "2023-07-20T18:17:31.311Z"
   },
   {
    "duration": 50,
    "start_time": "2023-07-20T18:17:32.255Z"
   },
   {
    "duration": 7,
    "start_time": "2023-07-20T18:17:44.442Z"
   },
   {
    "duration": 49,
    "start_time": "2023-07-20T18:17:45.837Z"
   },
   {
    "duration": 8,
    "start_time": "2023-07-20T19:36:15.991Z"
   },
   {
    "duration": 4,
    "start_time": "2023-07-20T19:39:27.125Z"
   },
   {
    "duration": 3,
    "start_time": "2023-07-20T19:39:32.311Z"
   },
   {
    "duration": 3,
    "start_time": "2023-07-20T19:39:40.251Z"
   },
   {
    "duration": 4,
    "start_time": "2023-07-20T19:39:45.985Z"
   },
   {
    "duration": 3,
    "start_time": "2023-07-20T19:40:15.455Z"
   },
   {
    "duration": 121,
    "start_time": "2023-07-20T19:40:28.502Z"
   },
   {
    "duration": 126,
    "start_time": "2023-07-20T19:40:34.232Z"
   },
   {
    "duration": 3,
    "start_time": "2023-07-20T19:40:38.600Z"
   },
   {
    "duration": 3,
    "start_time": "2023-07-20T19:40:42.454Z"
   },
   {
    "duration": 112,
    "start_time": "2023-07-20T19:41:06.528Z"
   },
   {
    "duration": 120,
    "start_time": "2023-07-20T19:41:13.057Z"
   },
   {
    "duration": 43,
    "start_time": "2023-07-20T19:41:28.775Z"
   },
   {
    "duration": 1480,
    "start_time": "2023-07-20T19:41:34.719Z"
   },
   {
    "duration": 3,
    "start_time": "2023-07-20T19:41:36.202Z"
   },
   {
    "duration": 77,
    "start_time": "2023-07-20T19:41:36.207Z"
   },
   {
    "duration": 130,
    "start_time": "2023-07-20T19:41:36.286Z"
   },
   {
    "duration": 761,
    "start_time": "2023-07-20T19:41:36.418Z"
   },
   {
    "duration": 58,
    "start_time": "2023-07-20T19:41:37.180Z"
   },
   {
    "duration": 11,
    "start_time": "2023-07-20T19:41:37.239Z"
   },
   {
    "duration": 37,
    "start_time": "2023-07-20T19:41:37.252Z"
   },
   {
    "duration": 11,
    "start_time": "2023-07-20T19:41:37.291Z"
   },
   {
    "duration": 15,
    "start_time": "2023-07-20T19:41:37.305Z"
   },
   {
    "duration": 46,
    "start_time": "2023-07-20T19:41:37.322Z"
   },
   {
    "duration": 34,
    "start_time": "2023-07-20T19:41:37.370Z"
   },
   {
    "duration": 11,
    "start_time": "2023-07-20T19:41:37.405Z"
   },
   {
    "duration": 13,
    "start_time": "2023-07-20T19:41:37.417Z"
   },
   {
    "duration": 7,
    "start_time": "2023-07-20T19:41:37.431Z"
   },
   {
    "duration": 33,
    "start_time": "2023-07-20T19:41:37.440Z"
   },
   {
    "duration": 65,
    "start_time": "2023-07-20T19:41:37.474Z"
   },
   {
    "duration": 9,
    "start_time": "2023-07-20T19:41:37.541Z"
   },
   {
    "duration": 59,
    "start_time": "2023-07-20T19:41:37.551Z"
   },
   {
    "duration": 156,
    "start_time": "2023-07-20T19:41:37.611Z"
   },
   {
    "duration": 11,
    "start_time": "2023-07-20T19:41:37.769Z"
   },
   {
    "duration": 19,
    "start_time": "2023-07-20T19:41:37.781Z"
   },
   {
    "duration": 35,
    "start_time": "2023-07-20T19:41:37.802Z"
   },
   {
    "duration": 7,
    "start_time": "2023-07-20T19:41:37.839Z"
   },
   {
    "duration": 73,
    "start_time": "2023-07-20T19:41:37.848Z"
   },
   {
    "duration": 29,
    "start_time": "2023-07-20T19:41:37.923Z"
   },
   {
    "duration": 11,
    "start_time": "2023-07-20T19:41:37.954Z"
   },
   {
    "duration": 6,
    "start_time": "2023-07-20T19:41:37.968Z"
   },
   {
    "duration": 23,
    "start_time": "2023-07-20T19:41:37.975Z"
   },
   {
    "duration": 16,
    "start_time": "2023-07-20T19:41:38.000Z"
   },
   {
    "duration": 16,
    "start_time": "2023-07-20T19:41:38.017Z"
   },
   {
    "duration": 12,
    "start_time": "2023-07-20T19:41:38.034Z"
   },
   {
    "duration": 7,
    "start_time": "2023-07-20T19:41:38.048Z"
   },
   {
    "duration": 13,
    "start_time": "2023-07-20T19:41:38.056Z"
   },
   {
    "duration": 18,
    "start_time": "2023-07-20T19:41:38.070Z"
   },
   {
    "duration": 20,
    "start_time": "2023-07-20T19:41:38.090Z"
   },
   {
    "duration": 21,
    "start_time": "2023-07-20T19:41:38.112Z"
   },
   {
    "duration": 20,
    "start_time": "2023-07-20T19:41:38.135Z"
   },
   {
    "duration": 9,
    "start_time": "2023-07-20T19:41:38.156Z"
   },
   {
    "duration": 10,
    "start_time": "2023-07-20T19:41:38.167Z"
   },
   {
    "duration": 116,
    "start_time": "2023-07-20T19:41:38.179Z"
   },
   {
    "duration": 87,
    "start_time": "2023-07-20T19:41:38.296Z"
   },
   {
    "duration": 65,
    "start_time": "2023-07-20T19:41:38.385Z"
   },
   {
    "duration": 198,
    "start_time": "2023-07-20T19:41:38.452Z"
   },
   {
    "duration": 183,
    "start_time": "2023-07-20T19:41:38.652Z"
   },
   {
    "duration": 345,
    "start_time": "2023-07-20T19:41:38.837Z"
   },
   {
    "duration": 44,
    "start_time": "2023-07-20T19:41:39.184Z"
   },
   {
    "duration": 30,
    "start_time": "2023-07-20T19:41:39.230Z"
   },
   {
    "duration": 41,
    "start_time": "2023-07-20T19:41:39.262Z"
   },
   {
    "duration": 173,
    "start_time": "2023-07-20T19:41:39.305Z"
   },
   {
    "duration": 21,
    "start_time": "2023-07-20T19:41:39.480Z"
   },
   {
    "duration": 11,
    "start_time": "2023-07-20T19:41:39.502Z"
   },
   {
    "duration": 13,
    "start_time": "2023-07-20T19:41:39.515Z"
   },
   {
    "duration": 282,
    "start_time": "2023-07-20T19:41:39.530Z"
   },
   {
    "duration": 321,
    "start_time": "2023-07-20T19:41:39.814Z"
   },
   {
    "duration": 210,
    "start_time": "2023-07-20T19:41:40.136Z"
   },
   {
    "duration": 6,
    "start_time": "2023-07-20T19:41:40.348Z"
   },
   {
    "duration": 73,
    "start_time": "2023-07-20T19:41:40.355Z"
   },
   {
    "duration": 47,
    "start_time": "2023-07-20T19:42:10.318Z"
   },
   {
    "duration": 46,
    "start_time": "2023-07-20T19:42:13.792Z"
   },
   {
    "duration": 36,
    "start_time": "2023-07-20T19:42:54.222Z"
   },
   {
    "duration": 35,
    "start_time": "2023-07-20T19:42:59.826Z"
   },
   {
    "duration": 43,
    "start_time": "2023-07-20T19:44:06.822Z"
   },
   {
    "duration": 42,
    "start_time": "2023-07-20T19:44:14.392Z"
   },
   {
    "duration": 38,
    "start_time": "2023-07-20T19:45:24.637Z"
   },
   {
    "duration": 45,
    "start_time": "2023-07-20T19:45:50.379Z"
   },
   {
    "duration": 45,
    "start_time": "2023-07-20T19:46:34.511Z"
   },
   {
    "duration": 46,
    "start_time": "2023-07-20T19:46:53.710Z"
   },
   {
    "duration": 66,
    "start_time": "2023-07-20T19:46:58.283Z"
   },
   {
    "duration": 48,
    "start_time": "2023-07-20T19:47:24.544Z"
   },
   {
    "duration": 35,
    "start_time": "2023-07-20T19:47:37.233Z"
   },
   {
    "duration": 12,
    "start_time": "2023-07-20T19:48:13.244Z"
   },
   {
    "duration": 33,
    "start_time": "2023-07-20T19:48:33.853Z"
   },
   {
    "duration": 5,
    "start_time": "2023-07-20T19:50:10.945Z"
   },
   {
    "duration": 4,
    "start_time": "2023-07-20T19:50:49.229Z"
   },
   {
    "duration": 140,
    "start_time": "2023-07-20T19:51:10.460Z"
   },
   {
    "duration": 38,
    "start_time": "2023-07-20T19:51:18.473Z"
   },
   {
    "duration": 15,
    "start_time": "2023-07-20T19:51:28.013Z"
   },
   {
    "duration": 10,
    "start_time": "2023-07-20T19:51:45.539Z"
   },
   {
    "duration": 6,
    "start_time": "2023-07-20T19:51:45.967Z"
   },
   {
    "duration": 16,
    "start_time": "2023-07-20T19:55:01.448Z"
   },
   {
    "duration": 8,
    "start_time": "2023-07-20T19:55:05.713Z"
   },
   {
    "duration": 22,
    "start_time": "2023-07-20T19:55:43.123Z"
   },
   {
    "duration": 2237,
    "start_time": "2023-07-20T19:57:27.584Z"
   },
   {
    "duration": 9,
    "start_time": "2023-07-20T19:58:34.994Z"
   },
   {
    "duration": 59,
    "start_time": "2023-07-20T20:02:47.222Z"
   },
   {
    "duration": 80,
    "start_time": "2023-07-20T20:02:52.259Z"
   },
   {
    "duration": 79,
    "start_time": "2023-07-20T20:04:09.059Z"
   },
   {
    "duration": 141,
    "start_time": "2023-07-20T20:04:28.295Z"
   },
   {
    "duration": 113,
    "start_time": "2023-07-20T20:04:32.577Z"
   },
   {
    "duration": 7,
    "start_time": "2023-07-20T20:04:37.795Z"
   },
   {
    "duration": 6,
    "start_time": "2023-07-20T20:04:39.267Z"
   },
   {
    "duration": 163,
    "start_time": "2023-07-20T20:05:05.686Z"
   },
   {
    "duration": 129,
    "start_time": "2023-07-20T20:05:09.695Z"
   },
   {
    "duration": 10,
    "start_time": "2023-07-20T20:06:01.535Z"
   },
   {
    "duration": 5,
    "start_time": "2023-07-20T20:06:02.118Z"
   },
   {
    "duration": 6,
    "start_time": "2023-07-20T20:06:02.526Z"
   },
   {
    "duration": 20,
    "start_time": "2023-07-20T20:09:02.011Z"
   },
   {
    "duration": 188,
    "start_time": "2023-07-20T20:09:12.740Z"
   },
   {
    "duration": 124,
    "start_time": "2023-07-20T20:09:29.358Z"
   },
   {
    "duration": 190,
    "start_time": "2023-07-20T20:09:59.273Z"
   },
   {
    "duration": 187,
    "start_time": "2023-07-20T20:10:03.765Z"
   },
   {
    "duration": 176,
    "start_time": "2023-07-20T20:10:16.525Z"
   },
   {
    "duration": 1238,
    "start_time": "2023-07-20T20:10:22.140Z"
   },
   {
    "duration": 2,
    "start_time": "2023-07-20T20:10:23.380Z"
   },
   {
    "duration": 108,
    "start_time": "2023-07-20T20:10:23.384Z"
   },
   {
    "duration": 232,
    "start_time": "2023-07-20T20:10:23.494Z"
   },
   {
    "duration": 877,
    "start_time": "2023-07-20T20:10:23.727Z"
   },
   {
    "duration": 71,
    "start_time": "2023-07-20T20:10:24.605Z"
   },
   {
    "duration": 9,
    "start_time": "2023-07-20T20:10:24.678Z"
   },
   {
    "duration": 17,
    "start_time": "2023-07-20T20:10:24.689Z"
   },
   {
    "duration": 8,
    "start_time": "2023-07-20T20:10:24.707Z"
   },
   {
    "duration": 8,
    "start_time": "2023-07-20T20:10:24.718Z"
   },
   {
    "duration": 50,
    "start_time": "2023-07-20T20:10:24.727Z"
   },
   {
    "duration": 42,
    "start_time": "2023-07-20T20:10:24.778Z"
   },
   {
    "duration": 10,
    "start_time": "2023-07-20T20:10:24.822Z"
   },
   {
    "duration": 6,
    "start_time": "2023-07-20T20:10:24.834Z"
   },
   {
    "duration": 10,
    "start_time": "2023-07-20T20:10:24.841Z"
   },
   {
    "duration": 59,
    "start_time": "2023-07-20T20:10:24.853Z"
   },
   {
    "duration": 40,
    "start_time": "2023-07-20T20:10:24.914Z"
   },
   {
    "duration": 8,
    "start_time": "2023-07-20T20:10:24.955Z"
   },
   {
    "duration": 43,
    "start_time": "2023-07-20T20:10:24.964Z"
   },
   {
    "duration": 155,
    "start_time": "2023-07-20T20:10:25.009Z"
   },
   {
    "duration": 14,
    "start_time": "2023-07-20T20:10:25.165Z"
   },
   {
    "duration": 8,
    "start_time": "2023-07-20T20:10:25.180Z"
   },
   {
    "duration": 18,
    "start_time": "2023-07-20T20:10:25.189Z"
   },
   {
    "duration": 18,
    "start_time": "2023-07-20T20:10:25.208Z"
   },
   {
    "duration": 44,
    "start_time": "2023-07-20T20:10:25.228Z"
   },
   {
    "duration": 9,
    "start_time": "2023-07-20T20:10:25.273Z"
   },
   {
    "duration": 10,
    "start_time": "2023-07-20T20:10:25.284Z"
   },
   {
    "duration": 7,
    "start_time": "2023-07-20T20:10:25.298Z"
   },
   {
    "duration": 20,
    "start_time": "2023-07-20T20:10:25.307Z"
   },
   {
    "duration": 33,
    "start_time": "2023-07-20T20:10:25.329Z"
   },
   {
    "duration": 39,
    "start_time": "2023-07-20T20:10:25.363Z"
   },
   {
    "duration": 14,
    "start_time": "2023-07-20T20:10:25.403Z"
   },
   {
    "duration": 5,
    "start_time": "2023-07-20T20:10:25.419Z"
   },
   {
    "duration": 12,
    "start_time": "2023-07-20T20:10:25.425Z"
   },
   {
    "duration": 5,
    "start_time": "2023-07-20T20:10:25.438Z"
   },
   {
    "duration": 6,
    "start_time": "2023-07-20T20:10:25.444Z"
   },
   {
    "duration": 16,
    "start_time": "2023-07-20T20:10:25.451Z"
   },
   {
    "duration": 8,
    "start_time": "2023-07-20T20:10:25.469Z"
   },
   {
    "duration": 12,
    "start_time": "2023-07-20T20:10:25.478Z"
   },
   {
    "duration": 18,
    "start_time": "2023-07-20T20:10:25.492Z"
   },
   {
    "duration": 155,
    "start_time": "2023-07-20T20:10:25.512Z"
   },
   {
    "duration": 147,
    "start_time": "2023-07-20T20:10:25.668Z"
   },
   {
    "duration": 300,
    "start_time": "2023-07-20T20:10:25.816Z"
   },
   {
    "duration": 274,
    "start_time": "2023-07-20T20:10:26.118Z"
   },
   {
    "duration": 186,
    "start_time": "2023-07-20T20:10:26.401Z"
   },
   {
    "duration": 185,
    "start_time": "2023-07-20T20:10:26.589Z"
   },
   {
    "duration": 329,
    "start_time": "2023-07-20T20:10:26.776Z"
   },
   {
    "duration": 36,
    "start_time": "2023-07-20T20:10:27.107Z"
   },
   {
    "duration": 21,
    "start_time": "2023-07-20T20:10:27.145Z"
   },
   {
    "duration": 32,
    "start_time": "2023-07-20T20:10:27.168Z"
   },
   {
    "duration": 156,
    "start_time": "2023-07-20T20:10:27.202Z"
   },
   {
    "duration": 21,
    "start_time": "2023-07-20T20:10:27.361Z"
   },
   {
    "duration": 6,
    "start_time": "2023-07-20T20:10:27.400Z"
   },
   {
    "duration": 14,
    "start_time": "2023-07-20T20:10:27.408Z"
   },
   {
    "duration": 268,
    "start_time": "2023-07-20T20:10:27.423Z"
   },
   {
    "duration": 274,
    "start_time": "2023-07-20T20:10:27.692Z"
   },
   {
    "duration": 218,
    "start_time": "2023-07-20T20:10:27.967Z"
   },
   {
    "duration": 8,
    "start_time": "2023-07-20T20:10:28.186Z"
   },
   {
    "duration": 86,
    "start_time": "2023-07-20T20:10:28.200Z"
   },
   {
    "duration": 314,
    "start_time": "2023-07-20T20:11:35.967Z"
   },
   {
    "duration": 220,
    "start_time": "2023-07-20T20:11:39.608Z"
   },
   {
    "duration": 219,
    "start_time": "2023-07-20T20:11:43.510Z"
   },
   {
    "duration": 44,
    "start_time": "2023-07-20T20:11:43.964Z"
   },
   {
    "duration": 1232,
    "start_time": "2023-07-20T20:11:53.111Z"
   },
   {
    "duration": 3,
    "start_time": "2023-07-20T20:11:54.344Z"
   },
   {
    "duration": 91,
    "start_time": "2023-07-20T20:11:54.348Z"
   },
   {
    "duration": 145,
    "start_time": "2023-07-20T20:11:54.441Z"
   },
   {
    "duration": 761,
    "start_time": "2023-07-20T20:11:54.588Z"
   },
   {
    "duration": 74,
    "start_time": "2023-07-20T20:11:55.350Z"
   },
   {
    "duration": 14,
    "start_time": "2023-07-20T20:11:55.425Z"
   },
   {
    "duration": 30,
    "start_time": "2023-07-20T20:11:55.440Z"
   },
   {
    "duration": 8,
    "start_time": "2023-07-20T20:11:55.472Z"
   },
   {
    "duration": 14,
    "start_time": "2023-07-20T20:11:55.483Z"
   },
   {
    "duration": 40,
    "start_time": "2023-07-20T20:11:55.500Z"
   },
   {
    "duration": 25,
    "start_time": "2023-07-20T20:11:55.542Z"
   },
   {
    "duration": 15,
    "start_time": "2023-07-20T20:11:55.568Z"
   },
   {
    "duration": 18,
    "start_time": "2023-07-20T20:11:55.584Z"
   },
   {
    "duration": 18,
    "start_time": "2023-07-20T20:11:55.604Z"
   },
   {
    "duration": 34,
    "start_time": "2023-07-20T20:11:55.623Z"
   },
   {
    "duration": 37,
    "start_time": "2023-07-20T20:11:55.658Z"
   },
   {
    "duration": 8,
    "start_time": "2023-07-20T20:11:55.697Z"
   },
   {
    "duration": 43,
    "start_time": "2023-07-20T20:11:55.706Z"
   },
   {
    "duration": 155,
    "start_time": "2023-07-20T20:11:55.751Z"
   },
   {
    "duration": 10,
    "start_time": "2023-07-20T20:11:55.907Z"
   },
   {
    "duration": 22,
    "start_time": "2023-07-20T20:11:55.919Z"
   },
   {
    "duration": 46,
    "start_time": "2023-07-20T20:11:55.943Z"
   },
   {
    "duration": 12,
    "start_time": "2023-07-20T20:11:55.991Z"
   },
   {
    "duration": 61,
    "start_time": "2023-07-20T20:11:56.004Z"
   },
   {
    "duration": 18,
    "start_time": "2023-07-20T20:11:56.066Z"
   },
   {
    "duration": 37,
    "start_time": "2023-07-20T20:11:56.086Z"
   },
   {
    "duration": 19,
    "start_time": "2023-07-20T20:11:56.127Z"
   },
   {
    "duration": 20,
    "start_time": "2023-07-20T20:11:56.147Z"
   },
   {
    "duration": 34,
    "start_time": "2023-07-20T20:11:56.169Z"
   },
   {
    "duration": 38,
    "start_time": "2023-07-20T20:11:56.204Z"
   },
   {
    "duration": 33,
    "start_time": "2023-07-20T20:11:56.244Z"
   },
   {
    "duration": 8,
    "start_time": "2023-07-20T20:11:56.279Z"
   },
   {
    "duration": 10,
    "start_time": "2023-07-20T20:11:56.288Z"
   },
   {
    "duration": 8,
    "start_time": "2023-07-20T20:11:56.299Z"
   },
   {
    "duration": 12,
    "start_time": "2023-07-20T20:11:56.309Z"
   },
   {
    "duration": 14,
    "start_time": "2023-07-20T20:11:56.323Z"
   },
   {
    "duration": 10,
    "start_time": "2023-07-20T20:11:56.338Z"
   },
   {
    "duration": 12,
    "start_time": "2023-07-20T20:11:56.349Z"
   },
   {
    "duration": 13,
    "start_time": "2023-07-20T20:11:56.362Z"
   },
   {
    "duration": 136,
    "start_time": "2023-07-20T20:11:56.376Z"
   },
   {
    "duration": 93,
    "start_time": "2023-07-20T20:11:56.513Z"
   },
   {
    "duration": 275,
    "start_time": "2023-07-20T20:11:56.607Z"
   },
   {
    "duration": 58,
    "start_time": "2023-07-20T20:11:56.884Z"
   },
   {
    "duration": 173,
    "start_time": "2023-07-20T20:11:56.944Z"
   },
   {
    "duration": 168,
    "start_time": "2023-07-20T20:11:57.118Z"
   },
   {
    "duration": 307,
    "start_time": "2023-07-20T20:11:57.288Z"
   },
   {
    "duration": 35,
    "start_time": "2023-07-20T20:11:57.596Z"
   },
   {
    "duration": 68,
    "start_time": "2023-07-20T20:11:57.633Z"
   },
   {
    "duration": 15,
    "start_time": "2023-07-20T20:11:57.703Z"
   },
   {
    "duration": 143,
    "start_time": "2023-07-20T20:11:57.720Z"
   },
   {
    "duration": 21,
    "start_time": "2023-07-20T20:11:57.864Z"
   },
   {
    "duration": 5,
    "start_time": "2023-07-20T20:11:57.899Z"
   },
   {
    "duration": 9,
    "start_time": "2023-07-20T20:11:57.905Z"
   },
   {
    "duration": 286,
    "start_time": "2023-07-20T20:11:57.915Z"
   },
   {
    "duration": 250,
    "start_time": "2023-07-20T20:11:58.203Z"
   },
   {
    "duration": 196,
    "start_time": "2023-07-20T20:11:58.455Z"
   },
   {
    "duration": 6,
    "start_time": "2023-07-20T20:11:58.653Z"
   },
   {
    "duration": 68,
    "start_time": "2023-07-20T20:11:58.661Z"
   },
   {
    "duration": 114,
    "start_time": "2023-07-20T20:13:43.907Z"
   },
   {
    "duration": 55,
    "start_time": "2023-07-20T20:14:28.852Z"
   },
   {
    "duration": 283,
    "start_time": "2023-07-20T20:14:47.136Z"
   },
   {
    "duration": 291,
    "start_time": "2023-07-20T20:14:52.537Z"
   },
   {
    "duration": 289,
    "start_time": "2023-07-20T20:14:58.234Z"
   },
   {
    "duration": 129,
    "start_time": "2023-07-20T20:18:08.291Z"
   },
   {
    "duration": 1131,
    "start_time": "2023-07-20T20:20:16.206Z"
   },
   {
    "duration": 3,
    "start_time": "2023-07-20T20:20:17.338Z"
   },
   {
    "duration": 66,
    "start_time": "2023-07-20T20:20:17.342Z"
   },
   {
    "duration": 159,
    "start_time": "2023-07-20T20:20:17.409Z"
   },
   {
    "duration": 858,
    "start_time": "2023-07-20T20:20:17.569Z"
   },
   {
    "duration": 81,
    "start_time": "2023-07-20T20:20:18.429Z"
   },
   {
    "duration": 9,
    "start_time": "2023-07-20T20:20:18.512Z"
   },
   {
    "duration": 22,
    "start_time": "2023-07-20T20:20:18.523Z"
   },
   {
    "duration": 6,
    "start_time": "2023-07-20T20:20:18.546Z"
   },
   {
    "duration": 8,
    "start_time": "2023-07-20T20:20:18.554Z"
   },
   {
    "duration": 55,
    "start_time": "2023-07-20T20:20:18.563Z"
   },
   {
    "duration": 24,
    "start_time": "2023-07-20T20:20:18.619Z"
   },
   {
    "duration": 11,
    "start_time": "2023-07-20T20:20:18.644Z"
   },
   {
    "duration": 12,
    "start_time": "2023-07-20T20:20:18.656Z"
   },
   {
    "duration": 6,
    "start_time": "2023-07-20T20:20:18.669Z"
   },
   {
    "duration": 41,
    "start_time": "2023-07-20T20:20:18.676Z"
   },
   {
    "duration": 35,
    "start_time": "2023-07-20T20:20:18.719Z"
   },
   {
    "duration": 7,
    "start_time": "2023-07-20T20:20:18.756Z"
   },
   {
    "duration": 47,
    "start_time": "2023-07-20T20:20:18.764Z"
   },
   {
    "duration": 158,
    "start_time": "2023-07-20T20:20:18.812Z"
   },
   {
    "duration": 11,
    "start_time": "2023-07-20T20:20:18.972Z"
   },
   {
    "duration": 16,
    "start_time": "2023-07-20T20:20:18.984Z"
   },
   {
    "duration": 13,
    "start_time": "2023-07-20T20:20:19.001Z"
   },
   {
    "duration": 14,
    "start_time": "2023-07-20T20:20:19.015Z"
   },
   {
    "duration": 39,
    "start_time": "2023-07-20T20:20:19.030Z"
   },
   {
    "duration": 9,
    "start_time": "2023-07-20T20:20:19.071Z"
   },
   {
    "duration": 6,
    "start_time": "2023-07-20T20:20:19.100Z"
   },
   {
    "duration": 7,
    "start_time": "2023-07-20T20:20:19.109Z"
   },
   {
    "duration": 8,
    "start_time": "2023-07-20T20:20:19.117Z"
   },
   {
    "duration": 10,
    "start_time": "2023-07-20T20:20:19.126Z"
   },
   {
    "duration": 8,
    "start_time": "2023-07-20T20:20:19.138Z"
   },
   {
    "duration": 278,
    "start_time": "2023-07-20T20:20:19.147Z"
   },
   {
    "duration": 8,
    "start_time": "2023-07-20T20:20:19.426Z"
   },
   {
    "duration": 5,
    "start_time": "2023-07-20T20:20:19.435Z"
   },
   {
    "duration": 10,
    "start_time": "2023-07-20T20:20:19.441Z"
   },
   {
    "duration": 4,
    "start_time": "2023-07-20T20:20:19.453Z"
   },
   {
    "duration": 10,
    "start_time": "2023-07-20T20:20:19.458Z"
   },
   {
    "duration": 11,
    "start_time": "2023-07-20T20:20:19.469Z"
   },
   {
    "duration": 25,
    "start_time": "2023-07-20T20:20:19.481Z"
   },
   {
    "duration": 27,
    "start_time": "2023-07-20T20:20:19.508Z"
   },
   {
    "duration": 15,
    "start_time": "2023-07-20T20:20:19.536Z"
   },
   {
    "duration": 77,
    "start_time": "2023-07-20T20:20:19.553Z"
   },
   {
    "duration": 68,
    "start_time": "2023-07-20T20:20:19.632Z"
   },
   {
    "duration": 46,
    "start_time": "2023-07-20T20:20:19.702Z"
   },
   {
    "duration": 178,
    "start_time": "2023-07-20T20:20:19.750Z"
   },
   {
    "duration": 172,
    "start_time": "2023-07-20T20:20:19.930Z"
   },
   {
    "duration": 312,
    "start_time": "2023-07-20T20:20:20.103Z"
   },
   {
    "duration": 278,
    "start_time": "2023-07-20T20:20:20.416Z"
   },
   {
    "duration": 41,
    "start_time": "2023-07-20T20:20:20.696Z"
   },
   {
    "duration": 24,
    "start_time": "2023-07-20T20:20:20.738Z"
   },
   {
    "duration": 15,
    "start_time": "2023-07-20T20:20:20.764Z"
   },
   {
    "duration": 134,
    "start_time": "2023-07-20T20:20:20.780Z"
   },
   {
    "duration": 17,
    "start_time": "2023-07-20T20:20:20.915Z"
   },
   {
    "duration": 19,
    "start_time": "2023-07-20T20:20:20.934Z"
   },
   {
    "duration": 52,
    "start_time": "2023-07-20T20:20:20.955Z"
   },
   {
    "duration": 265,
    "start_time": "2023-07-20T20:20:21.009Z"
   },
   {
    "duration": 187,
    "start_time": "2023-07-20T20:20:21.276Z"
   },
   {
    "duration": 209,
    "start_time": "2023-07-20T20:20:21.465Z"
   },
   {
    "duration": 7,
    "start_time": "2023-07-20T20:20:21.676Z"
   },
   {
    "duration": 75,
    "start_time": "2023-07-20T20:20:21.684Z"
   },
   {
    "duration": 1192,
    "start_time": "2023-07-20T20:25:07.949Z"
   },
   {
    "duration": 2,
    "start_time": "2023-07-20T20:25:09.143Z"
   },
   {
    "duration": 74,
    "start_time": "2023-07-20T20:25:09.147Z"
   },
   {
    "duration": 131,
    "start_time": "2023-07-20T20:25:09.223Z"
   },
   {
    "duration": 701,
    "start_time": "2023-07-20T20:25:09.356Z"
   },
   {
    "duration": 79,
    "start_time": "2023-07-20T20:25:10.059Z"
   },
   {
    "duration": 10,
    "start_time": "2023-07-20T20:25:10.140Z"
   },
   {
    "duration": 14,
    "start_time": "2023-07-20T20:25:10.151Z"
   },
   {
    "duration": 7,
    "start_time": "2023-07-20T20:25:10.166Z"
   },
   {
    "duration": 8,
    "start_time": "2023-07-20T20:25:10.175Z"
   },
   {
    "duration": 42,
    "start_time": "2023-07-20T20:25:10.184Z"
   },
   {
    "duration": 24,
    "start_time": "2023-07-20T20:25:10.227Z"
   },
   {
    "duration": 10,
    "start_time": "2023-07-20T20:25:10.254Z"
   },
   {
    "duration": 5,
    "start_time": "2023-07-20T20:25:10.265Z"
   },
   {
    "duration": 6,
    "start_time": "2023-07-20T20:25:10.271Z"
   },
   {
    "duration": 22,
    "start_time": "2023-07-20T20:25:10.299Z"
   },
   {
    "duration": 35,
    "start_time": "2023-07-20T20:25:10.323Z"
   },
   {
    "duration": 7,
    "start_time": "2023-07-20T20:25:10.359Z"
   },
   {
    "duration": 49,
    "start_time": "2023-07-20T20:25:10.367Z"
   },
   {
    "duration": 153,
    "start_time": "2023-07-20T20:25:10.417Z"
   },
   {
    "duration": 10,
    "start_time": "2023-07-20T20:25:10.571Z"
   },
   {
    "duration": 4,
    "start_time": "2023-07-20T20:25:10.583Z"
   },
   {
    "duration": 12,
    "start_time": "2023-07-20T20:25:10.599Z"
   },
   {
    "duration": 9,
    "start_time": "2023-07-20T20:25:10.612Z"
   },
   {
    "duration": 46,
    "start_time": "2023-07-20T20:25:10.622Z"
   },
   {
    "duration": 8,
    "start_time": "2023-07-20T20:25:10.670Z"
   },
   {
    "duration": 10,
    "start_time": "2023-07-20T20:25:10.679Z"
   },
   {
    "duration": 5,
    "start_time": "2023-07-20T20:25:10.700Z"
   },
   {
    "duration": 7,
    "start_time": "2023-07-20T20:25:10.706Z"
   },
   {
    "duration": 9,
    "start_time": "2023-07-20T20:25:10.715Z"
   },
   {
    "duration": 16,
    "start_time": "2023-07-20T20:25:10.725Z"
   },
   {
    "duration": 265,
    "start_time": "2023-07-20T20:25:10.743Z"
   },
   {
    "duration": 9,
    "start_time": "2023-07-20T20:25:11.010Z"
   },
   {
    "duration": 6,
    "start_time": "2023-07-20T20:25:11.020Z"
   },
   {
    "duration": 15,
    "start_time": "2023-07-20T20:25:11.027Z"
   },
   {
    "duration": 4,
    "start_time": "2023-07-20T20:25:11.044Z"
   },
   {
    "duration": 7,
    "start_time": "2023-07-20T20:25:11.049Z"
   },
   {
    "duration": 12,
    "start_time": "2023-07-20T20:25:11.057Z"
   },
   {
    "duration": 9,
    "start_time": "2023-07-20T20:25:11.070Z"
   },
   {
    "duration": 5,
    "start_time": "2023-07-20T20:25:11.099Z"
   },
   {
    "duration": 9,
    "start_time": "2023-07-20T20:25:11.105Z"
   },
   {
    "duration": 86,
    "start_time": "2023-07-20T20:25:11.115Z"
   },
   {
    "duration": 67,
    "start_time": "2023-07-20T20:25:11.202Z"
   },
   {
    "duration": 63,
    "start_time": "2023-07-20T20:25:11.271Z"
   },
   {
    "duration": 173,
    "start_time": "2023-07-20T20:25:11.335Z"
   },
   {
    "duration": 168,
    "start_time": "2023-07-20T20:25:11.509Z"
   },
   {
    "duration": 299,
    "start_time": "2023-07-20T20:25:11.678Z"
   },
   {
    "duration": 279,
    "start_time": "2023-07-20T20:25:11.979Z"
   },
   {
    "duration": 42,
    "start_time": "2023-07-20T20:25:12.259Z"
   },
   {
    "duration": 21,
    "start_time": "2023-07-20T20:25:12.303Z"
   },
   {
    "duration": 16,
    "start_time": "2023-07-20T20:25:12.325Z"
   },
   {
    "duration": 137,
    "start_time": "2023-07-20T20:25:12.342Z"
   },
   {
    "duration": 20,
    "start_time": "2023-07-20T20:25:12.480Z"
   },
   {
    "duration": 20,
    "start_time": "2023-07-20T20:25:12.502Z"
   },
   {
    "duration": 28,
    "start_time": "2023-07-20T20:25:12.524Z"
   },
   {
    "duration": 281,
    "start_time": "2023-07-20T20:25:12.554Z"
   },
   {
    "duration": 191,
    "start_time": "2023-07-20T20:25:12.837Z"
   },
   {
    "duration": 186,
    "start_time": "2023-07-20T20:25:13.030Z"
   },
   {
    "duration": 6,
    "start_time": "2023-07-20T20:25:13.217Z"
   },
   {
    "duration": 58,
    "start_time": "2023-07-20T20:25:13.225Z"
   },
   {
    "duration": 1164,
    "start_time": "2023-07-20T21:41:11.219Z"
   },
   {
    "duration": 2,
    "start_time": "2023-07-20T21:41:12.385Z"
   },
   {
    "duration": 96,
    "start_time": "2023-07-20T21:41:12.388Z"
   },
   {
    "duration": 164,
    "start_time": "2023-07-20T21:41:12.486Z"
   },
   {
    "duration": 911,
    "start_time": "2023-07-20T21:41:12.651Z"
   },
   {
    "duration": 65,
    "start_time": "2023-07-20T21:41:13.563Z"
   },
   {
    "duration": 9,
    "start_time": "2023-07-20T21:41:13.630Z"
   },
   {
    "duration": 17,
    "start_time": "2023-07-20T21:41:13.640Z"
   },
   {
    "duration": 5,
    "start_time": "2023-07-20T21:41:13.659Z"
   },
   {
    "duration": 13,
    "start_time": "2023-07-20T21:41:13.666Z"
   },
   {
    "duration": 40,
    "start_time": "2023-07-20T21:41:13.680Z"
   },
   {
    "duration": 23,
    "start_time": "2023-07-20T21:41:13.722Z"
   },
   {
    "duration": 9,
    "start_time": "2023-07-20T21:41:13.746Z"
   },
   {
    "duration": 7,
    "start_time": "2023-07-20T21:41:13.756Z"
   },
   {
    "duration": 6,
    "start_time": "2023-07-20T21:41:13.764Z"
   },
   {
    "duration": 42,
    "start_time": "2023-07-20T21:41:13.771Z"
   },
   {
    "duration": 33,
    "start_time": "2023-07-20T21:41:13.815Z"
   },
   {
    "duration": 7,
    "start_time": "2023-07-20T21:41:13.850Z"
   },
   {
    "duration": 43,
    "start_time": "2023-07-20T21:41:13.858Z"
   },
   {
    "duration": 148,
    "start_time": "2023-07-20T21:41:13.902Z"
   },
   {
    "duration": 9,
    "start_time": "2023-07-20T21:41:14.052Z"
   },
   {
    "duration": 5,
    "start_time": "2023-07-20T21:41:14.062Z"
   },
   {
    "duration": 17,
    "start_time": "2023-07-20T21:41:14.068Z"
   },
   {
    "duration": 5,
    "start_time": "2023-07-20T21:41:14.099Z"
   },
   {
    "duration": 48,
    "start_time": "2023-07-20T21:41:14.105Z"
   },
   {
    "duration": 8,
    "start_time": "2023-07-20T21:41:14.155Z"
   },
   {
    "duration": 26,
    "start_time": "2023-07-20T21:41:14.164Z"
   },
   {
    "duration": 20,
    "start_time": "2023-07-20T21:41:14.193Z"
   },
   {
    "duration": 8,
    "start_time": "2023-07-20T21:41:14.214Z"
   },
   {
    "duration": 9,
    "start_time": "2023-07-20T21:41:14.223Z"
   },
   {
    "duration": 14,
    "start_time": "2023-07-20T21:41:14.233Z"
   },
   {
    "duration": 219,
    "start_time": "2023-07-20T21:41:14.248Z"
   },
   {
    "duration": 8,
    "start_time": "2023-07-20T21:41:14.468Z"
   },
   {
    "duration": 11,
    "start_time": "2023-07-20T21:41:14.478Z"
   },
   {
    "duration": 13,
    "start_time": "2023-07-20T21:41:14.490Z"
   },
   {
    "duration": 14,
    "start_time": "2023-07-20T21:41:14.504Z"
   },
   {
    "duration": 10,
    "start_time": "2023-07-20T21:41:14.519Z"
   },
   {
    "duration": 12,
    "start_time": "2023-07-20T21:41:14.530Z"
   },
   {
    "duration": 12,
    "start_time": "2023-07-20T21:41:14.543Z"
   },
   {
    "duration": 5,
    "start_time": "2023-07-20T21:41:14.556Z"
   },
   {
    "duration": 7,
    "start_time": "2023-07-20T21:41:14.562Z"
   },
   {
    "duration": 85,
    "start_time": "2023-07-20T21:41:14.570Z"
   },
   {
    "duration": 67,
    "start_time": "2023-07-20T21:41:14.656Z"
   },
   {
    "duration": 46,
    "start_time": "2023-07-20T21:41:14.724Z"
   },
   {
    "duration": 212,
    "start_time": "2023-07-20T21:41:14.771Z"
   },
   {
    "duration": 160,
    "start_time": "2023-07-20T21:41:14.984Z"
   },
   {
    "duration": 303,
    "start_time": "2023-07-20T21:41:15.146Z"
   },
   {
    "duration": 263,
    "start_time": "2023-07-20T21:41:15.450Z"
   },
   {
    "duration": 39,
    "start_time": "2023-07-20T21:41:15.715Z"
   },
   {
    "duration": 20,
    "start_time": "2023-07-20T21:41:15.756Z"
   },
   {
    "duration": 29,
    "start_time": "2023-07-20T21:41:15.777Z"
   },
   {
    "duration": 690,
    "start_time": "2023-07-20T21:41:15.807Z"
   },
   {
    "duration": 17,
    "start_time": "2023-07-20T21:41:16.499Z"
   },
   {
    "duration": 5,
    "start_time": "2023-07-20T21:41:16.518Z"
   },
   {
    "duration": 7,
    "start_time": "2023-07-20T21:41:16.524Z"
   },
   {
    "duration": 326,
    "start_time": "2023-07-20T21:41:16.533Z"
   },
   {
    "duration": 193,
    "start_time": "2023-07-20T21:41:16.861Z"
   },
   {
    "duration": 191,
    "start_time": "2023-07-20T21:41:17.055Z"
   },
   {
    "duration": 5,
    "start_time": "2023-07-20T21:41:17.247Z"
   },
   {
    "duration": 63,
    "start_time": "2023-07-20T21:41:17.254Z"
   }
  ],
  "kernelspec": {
   "display_name": "Python 3 (ipykernel)",
   "language": "python",
   "name": "python3"
  },
  "language_info": {
   "codemirror_mode": {
    "name": "ipython",
    "version": 3
   },
   "file_extension": ".py",
   "mimetype": "text/x-python",
   "name": "python",
   "nbconvert_exporter": "python",
   "pygments_lexer": "ipython3",
   "version": "3.9.13"
  },
  "toc": {
   "base_numbering": 1,
   "nav_menu": {},
   "number_sections": true,
   "sideBar": true,
   "skip_h1_title": true,
   "title_cell": "Table of Contents",
   "title_sidebar": "Contents",
   "toc_cell": false,
   "toc_position": {},
   "toc_section_display": true,
   "toc_window_display": true
  }
 },
 "nbformat": 4,
 "nbformat_minor": 2
}
